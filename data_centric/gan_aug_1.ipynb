{
 "cells": [
  {
   "cell_type": "markdown",
   "id": "a877ee9a",
   "metadata": {
    "papermill": {
     "duration": 0.023602,
     "end_time": "2022-04-07T09:31:36.206674",
     "exception": false,
     "start_time": "2022-04-07T09:31:36.183072",
     "status": "completed"
    },
    "tags": []
   },
   "source": [
    "# Generative Adversarial Networks for Data Augmentation | Part 1\n",
    "- In this kernel, we will be using a **DC-GAN** for class-based conditional augmentation, and will be creating GAN augmented datasets, which we will be using in the second part of this kernel to perform classification.\n",
    "\n",
    "### References\n",
    "- [Torch Dataset and Dataloader – Early Loading of Data](https://www.analyticsvidhya.com/blog/2021/09/torch-dataset-and-dataloader-early-loading-of-data/)\n",
    "- [torch dataloader for large csv file - incremental loading]()"
   ]
  },
  {
   "cell_type": "markdown",
   "id": "76ba751a",
   "metadata": {
    "_cell_guid": "b1076dfc-b9ad-4769-8c92-a6c4dae69d19",
    "_uuid": "8f2839f25d086af736a60e9eeb907d3b93b6e0e5",
    "papermill": {
     "duration": 0.021523,
     "end_time": "2022-04-07T09:31:36.250777",
     "exception": false,
     "start_time": "2022-04-07T09:31:36.229254",
     "status": "completed"
    },
    "tags": []
   },
   "source": [
    "# 1. Importing the Packages & Boilerplate Code"
   ]
  },
  {
   "cell_type": "code",
   "execution_count": 1,
   "id": "546461f7",
   "metadata": {
    "_kg_hide-output": true,
    "execution": {
     "iopub.execute_input": "2022-04-07T09:31:36.329504Z",
     "iopub.status.busy": "2022-04-07T09:31:36.325740Z",
     "iopub.status.idle": "2022-04-07T09:31:50.420191Z",
     "shell.execute_reply": "2022-04-07T09:31:50.420640Z",
     "shell.execute_reply.started": "2022-04-02T14:57:51.685505Z"
    },
    "papermill": {
     "duration": 14.148312,
     "end_time": "2022-04-07T09:31:50.420880",
     "exception": false,
     "start_time": "2022-04-07T09:31:36.272568",
     "status": "completed"
    },
    "scrolled": true,
    "tags": []
   },
   "outputs": [
    {
     "name": "stdout",
     "output_type": "stream",
     "text": [
      "Collecting GPUtil\r\n",
      "  Downloading GPUtil-1.4.0.tar.gz (5.5 kB)\r\n",
      "  Preparing metadata (setup.py) ... \u001b[?25l-\b \bdone\r\n",
      "\u001b[?25hBuilding wheels for collected packages: GPUtil\r\n",
      "  Building wheel for GPUtil (setup.py) ... \u001b[?25l-\b \b\\\b \bdone\r\n",
      "\u001b[?25h  Created wheel for GPUtil: filename=GPUtil-1.4.0-py3-none-any.whl size=7411 sha256=e545c2780ea5ef091ceaf8103c4e8727540b7d1377b13e03e20b7104980c447d\r\n",
      "  Stored in directory: /root/.cache/pip/wheels/6e/f8/83/534c52482d6da64622ddbf72cd93c35d2ef2881b78fd08ff0c\r\n",
      "Successfully built GPUtil\r\n",
      "Installing collected packages: GPUtil\r\n",
      "Successfully installed GPUtil-1.4.0\r\n",
      "\u001b[33mWARNING: Running pip as the 'root' user can result in broken permissions and conflicting behaviour with the system package manager. It is recommended to use a virtual environment instead: https://pip.pypa.io/warnings/venv\u001b[0m\r\n",
      "1.9.1\n"
     ]
    }
   ],
   "source": [
    "import os\n",
    "import sys\n",
    "import csv\n",
    "import glob\n",
    "import random\n",
    "import numpy as np\n",
    "import pandas as pd\n",
    "import seaborn as sns\n",
    "import matplotlib.pyplot as plt\n",
    "\n",
    "from tqdm import tqdm\n",
    "from PIL import Image\n",
    "from shutil import copyfile\n",
    "from tabulate import tabulate\n",
    "from numba import cuda\n",
    "from sklearn.metrics import accuracy_score, log_loss, confusion_matrix\n",
    "from sklearn.preprocessing import OneHotEncoder\n",
    "\n",
    "import torch\n",
    "import torchvision\n",
    "import torchvision.transforms as transforms\n",
    "import torch.nn as nn\n",
    "import torch.optim as optim\n",
    "import torch.nn.functional as F\n",
    "from torch import Tensor\n",
    "from torch.autograd import grad, Variable\n",
    "from torch.utils.data import Dataset, DataLoader\n",
    "from torchvision.utils import make_grid\n",
    "\n",
    "!pip install GPUtil\n",
    "from GPUtil import showUtilization as gpu_usage\n",
    "\n",
    "print(torch.__version__)"
   ]
  },
  {
   "cell_type": "code",
   "execution_count": 2,
   "id": "9605287a",
   "metadata": {
    "execution": {
     "iopub.execute_input": "2022-04-07T09:31:50.479060Z",
     "iopub.status.busy": "2022-04-07T09:31:50.478313Z",
     "iopub.status.idle": "2022-04-07T09:31:50.486569Z",
     "shell.execute_reply": "2022-04-07T09:31:50.487090Z",
     "shell.execute_reply.started": "2022-04-02T14:58:05.491294Z"
    },
    "papermill": {
     "duration": 0.040267,
     "end_time": "2022-04-07T09:31:50.487229",
     "exception": false,
     "start_time": "2022-04-07T09:31:50.446962",
     "status": "completed"
    },
    "tags": []
   },
   "outputs": [
    {
     "data": {
      "text/plain": [
       "<torch._C.Generator at 0x7f72a41092b0>"
      ]
     },
     "execution_count": 2,
     "metadata": {},
     "output_type": "execute_result"
    }
   ],
   "source": [
    "# Setting the seeds\n",
    "SEED = 0\n",
    "os.environ['PYTHONHASHSEED']=str(SEED)\n",
    "random.seed(SEED)\n",
    "np.random.seed(SEED)\n",
    "torch.manual_seed(SEED)"
   ]
  },
  {
   "cell_type": "code",
   "execution_count": 3,
   "id": "9c6cd2ff",
   "metadata": {
    "execution": {
     "iopub.execute_input": "2022-04-07T09:31:50.547153Z",
     "iopub.status.busy": "2022-04-07T09:31:50.546426Z",
     "iopub.status.idle": "2022-04-07T09:31:50.548795Z",
     "shell.execute_reply": "2022-04-07T09:31:50.548400Z",
     "shell.execute_reply.started": "2022-04-02T14:58:05.506646Z"
    },
    "papermill": {
     "duration": 0.03506,
     "end_time": "2022-04-07T09:31:50.548900",
     "exception": false,
     "start_time": "2022-04-07T09:31:50.513840",
     "status": "completed"
    },
    "tags": []
   },
   "outputs": [],
   "source": [
    "# These are the usual ipython objects\n",
    "ipython_vars = ['In', 'Out', 'exit', 'quit', 'get_ipython', 'ipython_vars']\n",
    "\n",
    "# Defining a function to list the memory consumed\n",
    "# Only outputs variables taking at least 1MB space\n",
    "def list_storage(inp_dir):\n",
    "    # Get a sorted list of the objects and their sizes\n",
    "    vars_defined = [x for x in inp_dir if not x.startswith('_') and x not in sys.modules and x not in ipython_vars]\n",
    "    sto = sorted([(x, sys.getsizeof(globals().get(x))) for x in vars_defined], key=lambda x: x[1], reverse=True)\n",
    "    sto = [(x[0], str(round((x[1] / 2**20), 2)) + ' MB') for x in sto if x[1] >= 2**20]\n",
    "    print(tabulate(sto, headers = ['Variable', 'Storage (in MB)']))\n",
    "\n",
    "# In order to use this function, use the below line of code\n",
    "# list_storage(dir())"
   ]
  },
  {
   "cell_type": "code",
   "execution_count": 4,
   "id": "6da625c6",
   "metadata": {
    "execution": {
     "iopub.execute_input": "2022-04-07T09:31:50.602323Z",
     "iopub.status.busy": "2022-04-07T09:31:50.601528Z",
     "iopub.status.idle": "2022-04-07T09:31:50.666909Z",
     "shell.execute_reply": "2022-04-07T09:31:50.666480Z",
     "shell.execute_reply.started": "2022-04-02T14:58:05.516931Z"
    },
    "papermill": {
     "duration": 0.093024,
     "end_time": "2022-04-07T09:31:50.667065",
     "exception": false,
     "start_time": "2022-04-07T09:31:50.574041",
     "status": "completed"
    },
    "tags": []
   },
   "outputs": [
    {
     "name": "stdout",
     "output_type": "stream",
     "text": [
      "cuda:0 cuda:0\n"
     ]
    }
   ],
   "source": [
    "# Checking if PyTorch can use GPU\n",
    "if torch.cuda.is_available():  dev = \"cuda:0\" \n",
    "else:  dev = \"cpu\"  \n",
    "    \n",
    "device = torch.device(dev)  \n",
    "print(dev, device)"
   ]
  },
  {
   "cell_type": "code",
   "execution_count": 5,
   "id": "8ed6b152",
   "metadata": {
    "execution": {
     "iopub.execute_input": "2022-04-07T09:31:50.727045Z",
     "iopub.status.busy": "2022-04-07T09:31:50.726181Z",
     "iopub.status.idle": "2022-04-07T09:31:50.728628Z",
     "shell.execute_reply": "2022-04-07T09:31:50.728188Z",
     "shell.execute_reply.started": "2022-04-02T14:58:05.581829Z"
    },
    "papermill": {
     "duration": 0.034146,
     "end_time": "2022-04-07T09:31:50.728740",
     "exception": false,
     "start_time": "2022-04-07T09:31:50.694594",
     "status": "completed"
    },
    "tags": []
   },
   "outputs": [],
   "source": [
    "def show_tensor_images(image_tensor, num_images=25, size=(3, 32, 32), nrow=5, show=True):\n",
    "    '''\n",
    "    Function for visualizing images: Given a tensor of images, number of images, and\n",
    "    size per image, plots and prints the images in an uniform grid.\n",
    "    '''\n",
    "    image_tensor = (image_tensor + 1) / 2\n",
    "    image_unflat = image_tensor.detach().cpu()\n",
    "    image_grid = make_grid(image_unflat[:num_images], nrow=nrow)\n",
    "    plt.imshow(image_grid.permute(1, 2, 0).squeeze())\n",
    "    if show:\n",
    "        plt.show()"
   ]
  },
  {
   "cell_type": "markdown",
   "id": "9f9c2e71",
   "metadata": {
    "papermill": {
     "duration": 0.025476,
     "end_time": "2022-04-07T09:31:50.779906",
     "exception": false,
     "start_time": "2022-04-07T09:31:50.754430",
     "status": "completed"
    },
    "tags": []
   },
   "source": [
    "# 2. Importing the Train/Test Sets"
   ]
  },
  {
   "cell_type": "code",
   "execution_count": 6,
   "id": "aa47feef",
   "metadata": {
    "execution": {
     "iopub.execute_input": "2022-04-07T09:31:50.838981Z",
     "iopub.status.busy": "2022-04-07T09:31:50.838356Z",
     "iopub.status.idle": "2022-04-07T09:32:18.191371Z",
     "shell.execute_reply": "2022-04-07T09:32:18.190847Z",
     "shell.execute_reply.started": "2022-04-02T14:58:05.591434Z"
    },
    "papermill": {
     "duration": 27.385949,
     "end_time": "2022-04-07T09:32:18.191507",
     "exception": false,
     "start_time": "2022-04-07T09:31:50.805558",
     "status": "completed"
    },
    "tags": []
   },
   "outputs": [],
   "source": [
    "# Importing the Labelled Dataset\n",
    "df_train = pd.read_csv(\"../input/cifar10/train_lab_x.csv\")\n",
    "y_train = pd.read_csv(\"../input/cifar10/train_lab_y.csv\")\n",
    "df_train = np.array(df_train)\n",
    "y_train = np.array(y_train)\n",
    "\n",
    "# Reshaping the dataset\n",
    "df_train = np.reshape(df_train, (-1, 3, 32, 32))\n",
    "\n",
    "# Basic Pre-processing\n",
    "# Creating a random permutation\n",
    "perm = np.random.permutation(df_train.shape[0])\n",
    "\n",
    "# Shuffling the training dataset\n",
    "df_train = np.array(df_train[perm, : , : , : ])\n",
    "y_train = y_train[perm]\n",
    "\n",
    "# Reshaping, rescaling and one-hot encoding\n",
    "df_train = df_train / 255\n",
    "df_train = torch.from_numpy(df_train).float().to(device = device)\n",
    "y_train = torch.from_numpy(np.ravel(y_train)).long().to(device = device)\n",
    "y_train_oh = F.one_hot(y_train)"
   ]
  },
  {
   "cell_type": "markdown",
   "id": "3561a274",
   "metadata": {
    "papermill": {
     "duration": 0.026103,
     "end_time": "2022-04-07T09:32:18.243813",
     "exception": false,
     "start_time": "2022-04-07T09:32:18.217710",
     "status": "completed"
    },
    "tags": []
   },
   "source": [
    "# 3. Parameters and Dataloaders\n",
    "## 3.1. Defining some important parameters"
   ]
  },
  {
   "cell_type": "code",
   "execution_count": 7,
   "id": "5afce1f3",
   "metadata": {
    "execution": {
     "iopub.execute_input": "2022-04-07T09:32:18.301090Z",
     "iopub.status.busy": "2022-04-07T09:32:18.300255Z",
     "iopub.status.idle": "2022-04-07T09:32:18.302092Z",
     "shell.execute_reply": "2022-04-07T09:32:18.302521Z",
     "shell.execute_reply.started": "2022-04-02T14:58:31.408061Z"
    },
    "papermill": {
     "duration": 0.032927,
     "end_time": "2022-04-07T09:32:18.302652",
     "exception": false,
     "start_time": "2022-04-07T09:32:18.269725",
     "status": "completed"
    },
    "tags": []
   },
   "outputs": [],
   "source": [
    "cifar_shape = (3, 32, 32)\n",
    "n_classes = 10\n",
    "n_epochs = 1000 # Need to Increase\n",
    "z_dim = 64\n",
    "display_step = 500\n",
    "batch_size = 32\n",
    "lr = 0.0002\n",
    "\n",
    "# Generator Input Dimension\n",
    "generator_input_dim = z_dim + n_classes"
   ]
  },
  {
   "cell_type": "code",
   "execution_count": 8,
   "id": "8c5ef9e2",
   "metadata": {
    "execution": {
     "iopub.execute_input": "2022-04-07T09:32:18.357564Z",
     "iopub.status.busy": "2022-04-07T09:32:18.356772Z",
     "iopub.status.idle": "2022-04-07T09:32:18.364596Z",
     "shell.execute_reply": "2022-04-07T09:32:18.364182Z",
     "shell.execute_reply.started": "2022-04-02T14:58:31.413863Z"
    },
    "papermill": {
     "duration": 0.036359,
     "end_time": "2022-04-07T09:32:18.364707",
     "exception": false,
     "start_time": "2022-04-07T09:32:18.328348",
     "status": "completed"
    },
    "tags": []
   },
   "outputs": [],
   "source": [
    "# Reference: https://stackoverflow.com/questions/44429199/how-to-load-a-list-of-numpy-arrays-to-pytorch-dataset-loader\n",
    "class MyDataset(Dataset):\n",
    "    def __init__(self, data, targets, transform=None):\n",
    "        self.data = data\n",
    "        self.targets = targets\n",
    "        self.transform = transform\n",
    "    \n",
    "    def __getitem__(self, index):\n",
    "        x = self.data[index]\n",
    "        y = self.targets[index]\n",
    "        \n",
    "        if self.transform:\n",
    "            x = Image.fromarray(self.data[index].astype(np.uint8).transpose(1,2,0))\n",
    "            x = self.transform(x)\n",
    "        \n",
    "        return x, y\n",
    "    \n",
    "    def __len__(self):\n",
    "        return len(self.data)\n",
    "\n",
    "train_dataset = MyDataset(df_train, y_train)\n",
    "train_dataloader = DataLoader(train_dataset, batch_size = batch_size)"
   ]
  },
  {
   "cell_type": "markdown",
   "id": "df6c9012",
   "metadata": {
    "papermill": {
     "duration": 0.025561,
     "end_time": "2022-04-07T09:32:18.416229",
     "exception": false,
     "start_time": "2022-04-07T09:32:18.390668",
     "status": "completed"
    },
    "tags": []
   },
   "source": [
    "# 4. Creating & Training the GAN Model\n",
    "## 4.1. Generator Class"
   ]
  },
  {
   "cell_type": "code",
   "execution_count": 9,
   "id": "6b258e4a",
   "metadata": {
    "execution": {
     "iopub.execute_input": "2022-04-07T09:32:18.479548Z",
     "iopub.status.busy": "2022-04-07T09:32:18.478598Z",
     "iopub.status.idle": "2022-04-07T09:32:18.480562Z",
     "shell.execute_reply": "2022-04-07T09:32:18.481047Z",
     "shell.execute_reply.started": "2022-04-02T14:58:31.42661Z"
    },
    "papermill": {
     "duration": 0.038934,
     "end_time": "2022-04-07T09:32:18.481182",
     "exception": false,
     "start_time": "2022-04-07T09:32:18.442248",
     "status": "completed"
    },
    "tags": []
   },
   "outputs": [],
   "source": [
    "class Generator(nn.Module):\n",
    "    def __init__(self, input_dim=10, im_chan=3, hidden_dim=64):\n",
    "        super(Generator, self).__init__()\n",
    "        self.input_dim = input_dim\n",
    "        # Build the neural network\n",
    "        self.gen = nn.Sequential(\n",
    "            self.make_gen_block(input_dim, hidden_dim * 4, kernel_size=4),\n",
    "            self.make_gen_block(hidden_dim * 4, hidden_dim * 2, kernel_size=4, stride=1),\n",
    "            self.make_gen_block(hidden_dim * 2, hidden_dim, kernel_size=4),\n",
    "            self.make_gen_block(hidden_dim, im_chan, kernel_size=2, final_layer=True),\n",
    "        ) \n",
    "        \n",
    "    def make_gen_block(self, input_channels, output_channels, kernel_size=3, stride=2, final_layer=False):\n",
    "        if not final_layer:\n",
    "            return nn.Sequential(\n",
    "                nn.ConvTranspose2d(input_channels, output_channels, kernel_size, stride),\n",
    "                nn.BatchNorm2d(output_channels),\n",
    "                nn.ReLU(inplace=True),\n",
    "            )\n",
    "        else:\n",
    "            return nn.Sequential(\n",
    "                nn.ConvTranspose2d(input_channels, output_channels, kernel_size, stride),\n",
    "                nn.Tanh(),\n",
    "            )\n",
    "        \n",
    "    def forward(self, noise):\n",
    "        x = noise.view(len(noise), self.input_dim, 1, 1)\n",
    "        return self.gen(x)\n",
    "    \n",
    "def get_noise(n_samples, input_dim, device='cpu'):\n",
    "    return torch.randn(n_samples, input_dim, device=device)\n",
    "\n",
    "def combine_vectors(x, y):\n",
    "    return torch.cat([x, y], 1)\n",
    "\n",
    "def get_one_hot_labels(labels, n_classes):\n",
    "    return F.one_hot(labels, n_classes)"
   ]
  },
  {
   "cell_type": "markdown",
   "id": "dda8b142",
   "metadata": {
    "papermill": {
     "duration": 0.026149,
     "end_time": "2022-04-07T09:32:18.533429",
     "exception": false,
     "start_time": "2022-04-07T09:32:18.507280",
     "status": "completed"
    },
    "tags": []
   },
   "source": [
    "## 4.2. Discriminator Class"
   ]
  },
  {
   "cell_type": "code",
   "execution_count": 10,
   "id": "c922ecff",
   "metadata": {
    "execution": {
     "iopub.execute_input": "2022-04-07T09:32:18.595528Z",
     "iopub.status.busy": "2022-04-07T09:32:18.593964Z",
     "iopub.status.idle": "2022-04-07T09:32:18.596121Z",
     "shell.execute_reply": "2022-04-07T09:32:18.596529Z",
     "shell.execute_reply.started": "2022-04-02T14:58:31.443851Z"
    },
    "papermill": {
     "duration": 0.036997,
     "end_time": "2022-04-07T09:32:18.596656",
     "exception": false,
     "start_time": "2022-04-07T09:32:18.559659",
     "status": "completed"
    },
    "tags": []
   },
   "outputs": [],
   "source": [
    "class Discriminator(nn.Module):\n",
    "    def __init__(self, im_chan=3, hidden_dim=64):\n",
    "        super(Discriminator, self).__init__()\n",
    "        self.disc = nn.Sequential(\n",
    "            self.make_disc_block(im_chan, hidden_dim, stride=1),\n",
    "            self.make_disc_block(hidden_dim, hidden_dim * 2),\n",
    "            self.make_disc_block(hidden_dim * 2, hidden_dim * 4),\n",
    "            self.make_disc_block(hidden_dim * 4, 1, final_layer=True),\n",
    "        )\n",
    "\n",
    "    def make_disc_block(self, input_channels, output_channels, kernel_size=4, stride=2, final_layer=False):\n",
    "        if not final_layer:\n",
    "            return nn.Sequential(\n",
    "                nn.Conv2d(input_channels, output_channels, kernel_size, stride),\n",
    "                nn.BatchNorm2d(output_channels),\n",
    "                nn.LeakyReLU(0.2, inplace=True),\n",
    "            )\n",
    "        else:\n",
    "            return nn.Sequential(\n",
    "                nn.Conv2d(input_channels, output_channels, kernel_size, stride),\n",
    "            )\n",
    "\n",
    "    def forward(self, image):\n",
    "        disc_pred = self.disc(image)\n",
    "        return disc_pred.view(len(disc_pred), -1)"
   ]
  },
  {
   "cell_type": "markdown",
   "id": "74bf44de",
   "metadata": {
    "papermill": {
     "duration": 0.025768,
     "end_time": "2022-04-07T09:32:18.648198",
     "exception": false,
     "start_time": "2022-04-07T09:32:18.622430",
     "status": "completed"
    },
    "tags": []
   },
   "source": [
    "## 4.3. Training the GAN Model"
   ]
  },
  {
   "cell_type": "code",
   "execution_count": 11,
   "id": "67b85f84",
   "metadata": {
    "_kg_hide-output": true,
    "execution": {
     "iopub.execute_input": "2022-04-07T09:32:18.717536Z",
     "iopub.status.busy": "2022-04-07T09:32:18.716672Z",
     "iopub.status.idle": "2022-04-07T09:32:18.718823Z",
     "shell.execute_reply": "2022-04-07T09:32:18.719277Z",
     "shell.execute_reply.started": "2022-04-02T14:58:31.458928Z"
    },
    "papermill": {
     "duration": 0.045334,
     "end_time": "2022-04-07T09:32:18.719429",
     "exception": false,
     "start_time": "2022-04-07T09:32:18.674095",
     "status": "completed"
    },
    "scrolled": true,
    "tags": []
   },
   "outputs": [],
   "source": [
    "def train_generator():\n",
    "    gen = Generator(generator_input_dim).to(device)\n",
    "    gen_opt = torch.optim.Adam(gen.parameters(), lr=lr)\n",
    "    discriminator_input_dim = cifar_shape[0] + n_classes\n",
    "    disc = Discriminator(discriminator_input_dim).to(device)\n",
    "    disc_opt = torch.optim.Adam(disc.parameters(), lr=lr)\n",
    "\n",
    "    def weights_init(m):\n",
    "        if isinstance(m, nn.Conv2d) or isinstance(m, nn.ConvTranspose2d):\n",
    "            torch.nn.init.normal_(m.weight, 0.0, 0.02)\n",
    "        if isinstance(m, nn.BatchNorm2d):\n",
    "            torch.nn.init.normal_(m.weight, 0.0, 0.02)\n",
    "            torch.nn.init.constant_(m.bias, 0)\n",
    "    gen = gen.apply(weights_init)\n",
    "    disc = disc.apply(weights_init)\n",
    "\n",
    "    criterion = nn.BCEWithLogitsLoss()\n",
    "    cur_step = 0\n",
    "    mean_generator_loss = 0\n",
    "    mean_discriminator_loss = 0\n",
    "    for epoch in range(n_epochs):\n",
    "        # Dataloader returns the batches and the labels\n",
    "        for real, labels in train_dataloader:\n",
    "            cur_batch_size = len(real)\n",
    "            # Flatten the batch of real images from the dataset\n",
    "            real = real.to(device)\n",
    "\n",
    "            # Convert the labels from the dataloader into one-hot versions of those labels\n",
    "            one_hot_labels = get_one_hot_labels(labels.to(device), n_classes).float()\n",
    "\n",
    "            image_one_hot_labels = one_hot_labels[:, :, None, None]\n",
    "            image_one_hot_labels = image_one_hot_labels.repeat(1, 1, cifar_shape[1], cifar_shape[2])\n",
    "\n",
    "            ### Update discriminator ###\n",
    "            # Zero out the discriminator gradients\n",
    "            disc_opt.zero_grad()\n",
    "            # Get noise corresponding to the current batch_size \n",
    "            fake_noise = get_noise(cur_batch_size, z_dim, device=device)\n",
    "        \n",
    "            # Combine the vectors of the noise and the one-hot labels for the generator\n",
    "            noise_and_labels = combine_vectors(fake_noise, one_hot_labels)\n",
    "            fake = gen(noise_and_labels)\n",
    "            # Combine the vectors of the images and the one-hot labels for the discriminator\n",
    "            fake_image_and_labels = combine_vectors(fake.detach(), image_one_hot_labels)\n",
    "            real_image_and_labels = combine_vectors(real, image_one_hot_labels)\n",
    "            disc_fake_pred = disc(fake_image_and_labels)\n",
    "            disc_real_pred = disc(real_image_and_labels)\n",
    "\n",
    "            disc_fake_loss = criterion(disc_fake_pred, torch.zeros_like(disc_fake_pred))\n",
    "            disc_real_loss = criterion(disc_real_pred, torch.ones_like(disc_real_pred))\n",
    "            disc_loss = (disc_fake_loss + disc_real_loss) / 2\n",
    "            disc_loss.backward(retain_graph=True)\n",
    "            disc_opt.step() \n",
    "\n",
    "            # Keep track of the average discriminator loss\n",
    "            mean_discriminator_loss += disc_loss.item() / display_step\n",
    "\n",
    "            ### Update generator ###\n",
    "            # Zero out the generator gradients\n",
    "            gen_opt.zero_grad()\n",
    "\n",
    "            # Pass the discriminator the combination of the fake images and the one-hot labels\n",
    "            fake_image_and_labels = combine_vectors(fake, image_one_hot_labels)\n",
    "\n",
    "            disc_fake_pred = disc(fake_image_and_labels)\n",
    "            gen_loss = criterion(disc_fake_pred, torch.ones_like(disc_fake_pred))\n",
    "            gen_loss.backward()\n",
    "            gen_opt.step()\n",
    "\n",
    "            # Keep track of the average generator loss\n",
    "            mean_generator_loss += gen_loss.item() / display_step\n",
    "\n",
    "            if cur_step % display_step == 0 and cur_step > 0:\n",
    "                print(f\"Step {cur_step}: Generator loss: {mean_generator_loss}, discriminator loss: {mean_discriminator_loss}\")\n",
    "                show_tensor_images(fake)\n",
    "                show_tensor_images(real)\n",
    "                mean_generator_loss = 0\n",
    "                mean_discriminator_loss = 0\n",
    "            cur_step += 1\n",
    "    \n",
    "    # Saving the Generator and Discriminator Models\n",
    "    torch.save(gen.state_dict(), \"./gen.pt\")\n",
    "    torch.save(disc.state_dict(), \"./disc.pt\")\n",
    "            \n",
    "# Training the Generator\n",
    "# train_generator()"
   ]
  },
  {
   "cell_type": "markdown",
   "id": "c187f56f",
   "metadata": {
    "papermill": {
     "duration": 0.025979,
     "end_time": "2022-04-07T09:32:18.771685",
     "exception": false,
     "start_time": "2022-04-07T09:32:18.745706",
     "status": "completed"
    },
    "tags": []
   },
   "source": [
    "## 4.4. Visualizing the GAN's Results"
   ]
  },
  {
   "cell_type": "code",
   "execution_count": 12,
   "id": "3fff7419",
   "metadata": {
    "execution": {
     "iopub.execute_input": "2022-04-07T09:32:18.833627Z",
     "iopub.status.busy": "2022-04-07T09:32:18.826829Z",
     "iopub.status.idle": "2022-04-07T09:32:24.234950Z",
     "shell.execute_reply": "2022-04-07T09:32:24.235372Z",
     "shell.execute_reply.started": "2022-04-02T14:58:31.480135Z"
    },
    "papermill": {
     "duration": 5.438118,
     "end_time": "2022-04-07T09:32:24.235516",
     "exception": false,
     "start_time": "2022-04-07T09:32:18.797398",
     "status": "completed"
    },
    "tags": []
   },
   "outputs": [
    {
     "data": {
      "image/png": "[encoded data removed]",
      "text/plain": [
       "<Figure size 432x288 with 1 Axes>"
      ]
     },
     "metadata": {
      "needs_background": "light"
     },
     "output_type": "display_data"
    }
   ],
   "source": [
    "# Loading the Generator\n",
    "# gen_path = \"./gen.pt\"\n",
    "gen_path = \"../input/dcai-rw/gen.pt\"\n",
    "gen = Generator(generator_input_dim).to(device)\n",
    "gen.load_state_dict(torch.load(gen_path))\n",
    "\n",
    "labels = torch.Tensor(np.random.choice(10, 9))\n",
    "labels = labels.to(device).to(torch.int64)\n",
    "one_hot_labels = get_one_hot_labels(labels.to(device), n_classes).float()\n",
    "fake_noise = get_noise(len(labels), z_dim, device=device)\n",
    "noise_and_labels = combine_vectors(fake_noise, one_hot_labels)\n",
    "fake = gen(noise_and_labels).detach()\n",
    "\n",
    "show_tensor_images(fake, num_images = 9, nrow = 3)"
   ]
  },
  {
   "cell_type": "markdown",
   "id": "c44e31d7",
   "metadata": {
    "papermill": {
     "duration": 0.028184,
     "end_time": "2022-04-07T09:32:24.292465",
     "exception": false,
     "start_time": "2022-04-07T09:32:24.264281",
     "status": "completed"
    },
    "tags": []
   },
   "source": [
    "# 5. Using the trained GAN to generate Datasets\n",
    "## 5.1. Image Augmentation on 25% of the Training Dataset"
   ]
  },
  {
   "cell_type": "code",
   "execution_count": 13,
   "id": "52f02b7a",
   "metadata": {
    "execution": {
     "iopub.execute_input": "2022-04-07T09:32:24.360207Z",
     "iopub.status.busy": "2022-04-07T09:32:24.359531Z",
     "iopub.status.idle": "2022-04-07T09:33:19.995207Z",
     "shell.execute_reply": "2022-04-07T09:33:19.994412Z",
     "shell.execute_reply.started": "2022-04-02T14:58:36.676614Z"
    },
    "papermill": {
     "duration": 55.674356,
     "end_time": "2022-04-07T09:33:19.995415",
     "exception": false,
     "start_time": "2022-04-07T09:32:24.321059",
     "status": "completed"
    },
    "scrolled": true,
    "tags": []
   },
   "outputs": [
    {
     "name": "stdout",
     "output_type": "stream",
     "text": [
      "10016 313 313\n",
      "(10016, 3072) (10016,)\n"
     ]
    }
   ],
   "source": [
    "# Creating the Dataloader\n",
    "batch_size = 32\n",
    "gen_dataloader = DataLoader(train_dataset, batch_size = batch_size, shuffle = True)\n",
    "\n",
    "df_25per_aug = []\n",
    "y_25per_aug = []\n",
    "cur_examples = 0\n",
    "\n",
    "with torch.no_grad():\n",
    "    for _, labels in train_dataloader:\n",
    "        if cur_examples < int(0.25 * len(df_train)):\n",
    "            labels = labels.to(device)\n",
    "            one_hot_labels = get_one_hot_labels(labels.to(device), n_classes).float()\n",
    "            cur_batch_size = len(labels)\n",
    "            cur_examples += cur_batch_size\n",
    "\n",
    "            fake_noise = get_noise(cur_batch_size, z_dim, device=device)\n",
    "            noise_and_labels = combine_vectors(fake_noise, one_hot_labels)\n",
    "            fake = gen(noise_and_labels).detach()\n",
    "            fake = np.reshape(fake.cpu(), (batch_size, -1))\n",
    "            fake = torch.split(fake, 1, dim=0)\n",
    "\n",
    "            df_25per_aug.append(fake)\n",
    "            y_25per_aug.append(labels)\n",
    "print(cur_examples, len(df_25per_aug), len(y_25per_aug))\n",
    "\n",
    "new_df, new_y = [], []\n",
    "for tup in df_25per_aug:\n",
    "    for ele in tup:\n",
    "        new_df.append(torch.squeeze(ele).numpy())\n",
    "for tens in y_25per_aug:\n",
    "    new_y.extend(list(tens.cpu().numpy()))\n",
    "\n",
    "df_25per_aug = pd.DataFrame(new_df)\n",
    "y_25per_aug = pd.Series(new_y)\n",
    "print(df_25per_aug.shape, y_25per_aug.shape)\n",
    "\n",
    "# Saving the augmented images to a CSV file\n",
    "df_25per_aug.to_csv(\"df_25per_aug.csv\", index = False)\n",
    "y_25per_aug.to_csv(\"y_25per_aug.csv\", index = False)"
   ]
  },
  {
   "cell_type": "markdown",
   "id": "43c5bcd4",
   "metadata": {
    "papermill": {
     "duration": 0.055969,
     "end_time": "2022-04-07T09:33:20.112567",
     "exception": false,
     "start_time": "2022-04-07T09:33:20.056598",
     "status": "completed"
    },
    "tags": []
   },
   "source": [
    "## 5.2. Image Augmentation for Class Balancing\n",
    "### 5.2.1. Finding out the Class Imbalance"
   ]
  },
  {
   "cell_type": "code",
   "execution_count": 14,
   "id": "65601788",
   "metadata": {
    "execution": {
     "iopub.execute_input": "2022-04-07T09:33:20.215811Z",
     "iopub.status.busy": "2022-04-07T09:33:20.215006Z",
     "iopub.status.idle": "2022-04-07T09:33:20.760636Z",
     "shell.execute_reply": "2022-04-07T09:33:20.761630Z",
     "shell.execute_reply.started": "2022-04-02T14:59:29.213082Z"
    },
    "papermill": {
     "duration": 0.604558,
     "end_time": "2022-04-07T09:33:20.761832",
     "exception": false,
     "start_time": "2022-04-07T09:33:20.157274",
     "status": "completed"
    },
    "tags": []
   },
   "outputs": [
    {
     "name": "stdout",
     "output_type": "stream",
     "text": [
      "[4109 3839 4022 4116 4312 3952 4290 3552 3436 4378]\n",
      "[269, 539, 356, 262, 66, 426, 88, 826, 942, 0] 3774\n",
      "10 4109\n",
      "3774\n"
     ]
    }
   ],
   "source": [
    "y_train_reshape = np.reshape(y_train.cpu(), (-1))\n",
    "num_examples = np.zeros((10,))\n",
    "\n",
    "for i in y_train_reshape:\n",
    "    num_examples[i] += 1\n",
    "\n",
    "# Number of examples from each class\n",
    "num_exa = num_examples.astype('int32')\n",
    "\n",
    "# Finding out the maximum number of examples for any class\n",
    "max_exa = max(num_exa)\n",
    "\n",
    "# Number of examples that needs to be added to each of the classes\n",
    "aug_exa = [max_exa - num_exa[i] for i in range(10)]\n",
    "\n",
    "# Creating a list of lists for storing the indices of data-points in the training dataset, class-wise\n",
    "classes_ind = []\n",
    "for i in range(10):\n",
    "    classes_ind.append([])\n",
    "\n",
    "for ind, clss in enumerate(y_train_reshape):\n",
    "    classes_ind[clss].append(ind)\n",
    "\n",
    "print(num_exa)\n",
    "print(aug_exa, sum(aug_exa))\n",
    "print(len(classes_ind), len(classes_ind[0]))\n",
    "\n",
    "# Creating a list for the labels corresponding to which augmentation needs to be done\n",
    "# These are randomly chosen from each class\n",
    "y_clsbal_aug = []\n",
    "\n",
    "for i in range(10):\n",
    "    indices = random.choices(classes_ind[i], k = aug_exa[i])\n",
    "    y_clsbal_aug.extend([i]*aug_exa[i])\n",
    "print(len(y_clsbal_aug))"
   ]
  },
  {
   "cell_type": "markdown",
   "id": "c2a1a61d",
   "metadata": {
    "papermill": {
     "duration": 0.047205,
     "end_time": "2022-04-07T09:33:20.856978",
     "exception": false,
     "start_time": "2022-04-07T09:33:20.809773",
     "status": "completed"
    },
    "tags": []
   },
   "source": [
    "### 5.2.2. Augmenting based on the Class Imbalance"
   ]
  },
  {
   "cell_type": "code",
   "execution_count": 15,
   "id": "c946037a",
   "metadata": {
    "execution": {
     "iopub.execute_input": "2022-04-07T09:33:20.975121Z",
     "iopub.status.busy": "2022-04-07T09:33:20.974224Z",
     "iopub.status.idle": "2022-04-07T09:33:40.252738Z",
     "shell.execute_reply": "2022-04-07T09:33:40.251769Z",
     "shell.execute_reply.started": "2022-04-02T14:59:29.621483Z"
    },
    "papermill": {
     "duration": 19.347957,
     "end_time": "2022-04-07T09:33:40.252903",
     "exception": false,
     "start_time": "2022-04-07T09:33:20.904946",
     "status": "completed"
    },
    "tags": []
   },
   "outputs": [
    {
     "name": "stdout",
     "output_type": "stream",
     "text": [
      "3774 102 3774\n",
      "(3774, 3072) (3774,)\n"
     ]
    }
   ],
   "source": [
    "batch_size = 37\n",
    "df_clsbal_aug = []\n",
    "cur_examples = 0\n",
    "\n",
    "while cur_examples < len(y_clsbal_aug):\n",
    "    labels = y_clsbal_aug[cur_examples : cur_examples + batch_size]\n",
    "    labels = torch.Tensor(labels).to(device).long()\n",
    "    one_hot_labels = get_one_hot_labels(labels, n_classes).float()\n",
    "    cur_examples += batch_size\n",
    "\n",
    "    fake_noise = get_noise(batch_size, z_dim, device=device)\n",
    "    noise_and_labels = combine_vectors(fake_noise, one_hot_labels)\n",
    "    fake = gen(noise_and_labels).detach()\n",
    "    fake = np.reshape(fake.cpu(), (batch_size, -1))\n",
    "    fake = torch.split(fake, 1, dim=0)\n",
    "\n",
    "    df_clsbal_aug.append(fake)\n",
    "print(cur_examples, len(df_clsbal_aug), len(y_clsbal_aug))\n",
    "\n",
    "new_df = []\n",
    "for tup in df_clsbal_aug:\n",
    "    for ele in tup:\n",
    "        new_df.append(torch.squeeze(ele).numpy())\n",
    "\n",
    "df_clsbal_aug = pd.DataFrame(new_df)\n",
    "y_clsbal_aug = pd.Series(y_clsbal_aug)\n",
    "print(df_clsbal_aug.shape, y_clsbal_aug.shape)\n",
    "\n",
    "# Saving the augmented images to a CSV file\n",
    "df_clsbal_aug.to_csv(\"df_clsbal_aug.csv\", index = False)\n",
    "y_clsbal_aug.to_csv(\"y_clsbal_aug.csv\", index = False)"
   ]
  },
  {
   "cell_type": "markdown",
   "id": "d2126443",
   "metadata": {
    "papermill": {
     "duration": 0.0291,
     "end_time": "2022-04-07T09:33:40.312787",
     "exception": false,
     "start_time": "2022-04-07T09:33:40.283687",
     "status": "completed"
    },
    "tags": []
   },
   "source": [
    "## 5.3. Image Augmentation based on class-wise performance\n",
    "### 5.3.1. Finding out the class-wise performance of the baseline model\n",
    "- These results have been borrowed from the kernel of [Traditional Augmentation](https://www.kaggle.com/code/elemento/rw-tradaug/notebook)."
   ]
  },
  {
   "cell_type": "code",
   "execution_count": 16,
   "id": "95cff2d0",
   "metadata": {
    "execution": {
     "iopub.execute_input": "2022-04-07T09:33:40.377929Z",
     "iopub.status.busy": "2022-04-07T09:33:40.377100Z",
     "iopub.status.idle": "2022-04-07T09:33:40.566059Z",
     "shell.execute_reply": "2022-04-07T09:33:40.565573Z",
     "shell.execute_reply.started": "2022-04-02T14:59:49.326997Z"
    },
    "papermill": {
     "duration": 0.223857,
     "end_time": "2022-04-07T09:33:40.566202",
     "exception": false,
     "start_time": "2022-04-07T09:33:40.342345",
     "status": "completed"
    },
    "tags": []
   },
   "outputs": [],
   "source": [
    "# Creating a list of lists for storing the indices of data-points in the training dataset, class-wise\n",
    "classes_ind = []\n",
    "y_train_reshape = np.reshape(y_train.cpu(), (-1))\n",
    "for i in range(10):\n",
    "    classes_ind.append([])\n",
    "for ind, clss in enumerate(y_train_reshape):\n",
    "    classes_ind[clss].append(ind)\n",
    "\n",
    "# As for the under-performing classes, we will simply be choosing those classes \n",
    "# having accuracy less than 80%\n",
    "und_cls = [2, 3, 4, 5, 7]"
   ]
  },
  {
   "cell_type": "markdown",
   "id": "c10a7ba5",
   "metadata": {
    "papermill": {
     "duration": 0.029465,
     "end_time": "2022-04-07T09:33:40.625406",
     "exception": false,
     "start_time": "2022-04-07T09:33:40.595941",
     "status": "completed"
    },
    "tags": []
   },
   "source": [
    "### 5.3.2. Augmenting based on the class-wise performance"
   ]
  },
  {
   "cell_type": "code",
   "execution_count": 17,
   "id": "0e289cba",
   "metadata": {
    "execution": {
     "iopub.execute_input": "2022-04-07T09:33:40.696155Z",
     "iopub.status.busy": "2022-04-07T09:33:40.695523Z",
     "iopub.status.idle": "2022-04-07T09:34:34.818970Z",
     "shell.execute_reply": "2022-04-07T09:34:34.818484Z",
     "shell.execute_reply.started": "2022-04-02T14:59:49.530694Z"
    },
    "papermill": {
     "duration": 54.164498,
     "end_time": "2022-04-07T09:34:34.819109",
     "exception": false,
     "start_time": "2022-04-07T09:33:40.654611",
     "status": "completed"
    },
    "tags": []
   },
   "outputs": [
    {
     "name": "stderr",
     "output_type": "stream",
     "text": [
      "100%|██████████| 4022/4022 [00:00<00:00, 79204.32it/s]\n",
      "100%|██████████| 4116/4116 [00:00<00:00, 76739.74it/s]\n",
      "100%|██████████| 4312/4312 [00:00<00:00, 81721.00it/s]\n",
      "100%|██████████| 3952/3952 [00:00<00:00, 78251.28it/s]\n",
      "100%|██████████| 3552/3552 [00:00<00:00, 77776.51it/s]\n"
     ]
    },
    {
     "name": "stdout",
     "output_type": "stream",
     "text": [
      "10050\n",
      "10048 314 10050\n",
      "(10048, 3072) (10048,)\n"
     ]
    }
   ],
   "source": [
    "# Creating an empty list\n",
    "df_clsper_aug, y_clsper_aug = [], []\n",
    "\n",
    "# 50% Sampling\n",
    "for clas in und_cls:\n",
    "    for ind in tqdm(classes_ind[clas]):\n",
    "        if np.random.uniform() <= 0.5:\n",
    "            y_clsper_aug.append(y_train[ind].item())\n",
    "print(len(y_clsper_aug))\n",
    "\n",
    "batch_size = 32\n",
    "df_clsper_aug = []\n",
    "cur_examples = 0\n",
    "\n",
    "while cur_examples + batch_size < len(y_clsper_aug):\n",
    "    labels = y_clsper_aug[cur_examples : cur_examples + batch_size]\n",
    "    labels = torch.Tensor(labels).to(device).long()\n",
    "    one_hot_labels = get_one_hot_labels(labels, n_classes).float()\n",
    "    cur_examples += batch_size\n",
    "\n",
    "    fake_noise = get_noise(batch_size, z_dim, device=device)\n",
    "    noise_and_labels = combine_vectors(fake_noise, one_hot_labels)\n",
    "    fake = gen(noise_and_labels).detach()\n",
    "    fake = np.reshape(fake.cpu(), (batch_size, -1))\n",
    "    fake = torch.split(fake, 1, dim=0)\n",
    "\n",
    "    df_clsper_aug.append(fake)\n",
    "print(cur_examples, len(df_clsper_aug), len(y_clsper_aug))\n",
    "\n",
    "new_df = []\n",
    "for tup in df_clsper_aug:\n",
    "    for ele in tup:\n",
    "        new_df.append(torch.squeeze(ele).numpy())\n",
    "\n",
    "df_clsper_aug = pd.DataFrame(new_df)\n",
    "y_clsper_aug = pd.Series(y_clsper_aug[:cur_examples])\n",
    "print(df_clsper_aug.shape, y_clsper_aug.shape)\n",
    "\n",
    "# Saving the augmented images to a CSV file\n",
    "df_clsper_aug.to_csv(\"df_clsper_aug.csv\", index = False)\n",
    "y_clsper_aug.to_csv(\"y_clsper_aug.csv\", index = False)"
   ]
  }
 ],
 "metadata": {
  "kernelspec": {
   "display_name": "Python 3",
   "language": "python",
   "name": "python3"
  },
  "language_info": {
   "codemirror_mode": {
    "name": "ipython",
    "version": 3
   },
   "file_extension": ".py",
   "mimetype": "text/x-python",
   "name": "python",
   "nbconvert_exporter": "python",
   "pygments_lexer": "ipython3",
   "version": "3.7.12"
  },
  "papermill": {
   "default_parameters": {},
   "duration": 188.231325,
   "end_time": "2022-04-07T09:34:36.366443",
   "environment_variables": {},
   "exception": null,
   "input_path": "__notebook__.ipynb",
   "output_path": "__notebook__.ipynb",
   "parameters": {},
   "start_time": "2022-04-07T09:31:28.135118",
   "version": "2.3.3"
  }
 },
 "nbformat": 4,
 "nbformat_minor": 5
}
