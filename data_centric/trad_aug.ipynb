{
 "cells": [
  {
   "cell_type": "markdown",
   "id": "c4fe22b5",
   "metadata": {
    "_cell_guid": "b1076dfc-b9ad-4769-8c92-a6c4dae69d19",
    "_uuid": "8f2839f25d086af736a60e9eeb907d3b93b6e0e5",
    "papermill": {
     "duration": 0.032397,
     "end_time": "2022-05-10T07:12:48.890974",
     "exception": false,
     "start_time": "2022-05-10T07:12:48.858577",
     "status": "completed"
    },
    "tags": []
   },
   "source": [
    "# Traditional Augmentation\n",
    "- In this notebook, we will be applying a data-centric approach on our baseline model. We will be using Traditional Augmentation techniques, such as Center Crop, Rotate, Color Shift, Flip, etc in this kernel.\n",
    "- We will be applying these techniques in 3 different ways. Firstly, we will apply these techniques on 25% of the samples from the training dataset irrespective of their classes, and then observe the accuracy of the baseline model after training it on the augmented dataset.\n",
    "- Secondly, we will be using these techniques for class balancing, and then, will train the baseline model on the balanced dataset.\n",
    "- Thirdly, we will be analysing the class-wise performance of the baseline model, and will apply augmentation on only those classes on which the baseline model is not performing well."
   ]
  },
  {
   "cell_type": "markdown",
   "id": "b0b4c0a2",
   "metadata": {
    "papermill": {
     "duration": 0.030273,
     "end_time": "2022-05-10T07:12:48.952393",
     "exception": false,
     "start_time": "2022-05-10T07:12:48.922120",
     "status": "completed"
    },
    "tags": []
   },
   "source": [
    "# 1. Importing the Packages & Boilerplate Code"
   ]
  },
  {
   "cell_type": "code",
   "execution_count": 1,
   "id": "2e34d4ea",
   "metadata": {
    "execution": {
     "iopub.execute_input": "2022-05-10T07:12:49.085794Z",
     "iopub.status.busy": "2022-05-10T07:12:49.084254Z",
     "iopub.status.idle": "2022-05-10T07:12:55.158286Z",
     "shell.execute_reply": "2022-05-10T07:12:55.158736Z",
     "shell.execute_reply.started": "2022-05-10T06:29:45.043704Z"
    },
    "papermill": {
     "duration": 6.151232,
     "end_time": "2022-05-10T07:12:55.159044",
     "exception": false,
     "start_time": "2022-05-10T07:12:49.007812",
     "status": "completed"
    },
    "tags": []
   },
   "outputs": [],
   "source": [
    "import os\n",
    "import sys\n",
    "import random\n",
    "import numpy as np\n",
    "import pandas as pd\n",
    "import seaborn as sns\n",
    "import matplotlib.pyplot as plt\n",
    "\n",
    "from tqdm import tqdm\n",
    "from shutil import copyfile\n",
    "from tabulate import tabulate\n",
    "from sklearn.metrics import accuracy_score, log_loss, confusion_matrix, f1_score\n",
    "\n",
    "# https://www.kaggle.com/c/ventilator-pressure-prediction/discussion/274717\n",
    "os.environ['TF_CPP_MIN_LOG_LEVEL'] = '3' \n",
    "\n",
    "import tensorflow as tf\n",
    "import tensorflow.keras.layers as tfl"
   ]
  },
  {
   "cell_type": "code",
   "execution_count": 2,
   "id": "ece2713f",
   "metadata": {
    "execution": {
     "iopub.execute_input": "2022-05-10T07:12:55.227997Z",
     "iopub.status.busy": "2022-05-10T07:12:55.227140Z",
     "iopub.status.idle": "2022-05-10T07:12:55.228938Z",
     "shell.execute_reply": "2022-05-10T07:12:55.229375Z",
     "shell.execute_reply.started": "2022-05-10T06:29:47.053122Z"
    },
    "papermill": {
     "duration": 0.03896,
     "end_time": "2022-05-10T07:12:55.229515",
     "exception": false,
     "start_time": "2022-05-10T07:12:55.190555",
     "status": "completed"
    },
    "tags": []
   },
   "outputs": [],
   "source": [
    "# Setting the seeds\n",
    "SEED = 0\n",
    "os.environ['PYTHONHASHSEED']=str(SEED)\n",
    "random.seed(SEED)\n",
    "np.random.seed(SEED)\n",
    "tf.random.set_seed(SEED)"
   ]
  },
  {
   "cell_type": "code",
   "execution_count": 3,
   "id": "534deead",
   "metadata": {
    "execution": {
     "iopub.execute_input": "2022-05-10T07:12:55.292935Z",
     "iopub.status.busy": "2022-05-10T07:12:55.292176Z",
     "iopub.status.idle": "2022-05-10T07:12:57.405022Z",
     "shell.execute_reply": "2022-05-10T07:12:57.405583Z",
     "shell.execute_reply.started": "2022-05-10T06:29:47.060760Z"
    },
    "papermill": {
     "duration": 2.14551,
     "end_time": "2022-05-10T07:12:57.405797",
     "exception": false,
     "start_time": "2022-05-10T07:12:55.260287",
     "status": "completed"
    },
    "tags": []
   },
   "outputs": [
    {
     "name": "stdout",
     "output_type": "stream",
     "text": [
      "Found GPU at: /device:GPU:0\n"
     ]
    }
   ],
   "source": [
    "# Making sure that Tensorflow is able to detect the GPU\n",
    "device_name = tf.test.gpu_device_name()\n",
    "if \"GPU\" not in device_name:\n",
    "    print(\"GPU device not found\")\n",
    "print('Found GPU at: {}'.format(device_name))"
   ]
  },
  {
   "cell_type": "code",
   "execution_count": 4,
   "id": "f151ce7e",
   "metadata": {
    "execution": {
     "iopub.execute_input": "2022-05-10T07:12:57.475523Z",
     "iopub.status.busy": "2022-05-10T07:12:57.474753Z",
     "iopub.status.idle": "2022-05-10T07:12:57.477338Z",
     "shell.execute_reply": "2022-05-10T07:12:57.476931Z",
     "shell.execute_reply.started": "2022-05-10T06:29:47.736382Z"
    },
    "papermill": {
     "duration": 0.040328,
     "end_time": "2022-05-10T07:12:57.477450",
     "exception": false,
     "start_time": "2022-05-10T07:12:57.437122",
     "status": "completed"
    },
    "tags": []
   },
   "outputs": [],
   "source": [
    "# These are the usual ipython objects\n",
    "ipython_vars = ['In', 'Out', 'exit', 'quit', 'get_ipython', 'ipython_vars']\n",
    "\n",
    "# Defining a function to list the memory consumed\n",
    "# Only outputs variables taking at least 1MB space\n",
    "def list_storage(inp_dir):\n",
    "    # Get a sorted list of the objects and their sizes\n",
    "    vars_defined = [x for x in inp_dir if not x.startswith('_') and x not in sys.modules and x not in ipython_vars]\n",
    "    sto = sorted([(x, sys.getsizeof(globals().get(x))) for x in vars_defined], key=lambda x: x[1], reverse=True)\n",
    "    sto = [(x[0], str(round((x[1] / 2**20), 2)) + ' MB') for x in sto if x[1] >= 2**20]\n",
    "    print(tabulate(sto, headers = ['Variable', 'Storage (in MB)']))\n",
    "\n",
    "# In order to use this function, use the below line of code\n",
    "# list_storage(dir())"
   ]
  },
  {
   "cell_type": "markdown",
   "id": "d37186d0",
   "metadata": {
    "papermill": {
     "duration": 0.031587,
     "end_time": "2022-05-10T07:12:57.540179",
     "exception": false,
     "start_time": "2022-05-10T07:12:57.508592",
     "status": "completed"
    },
    "tags": []
   },
   "source": [
    "# 2. Importing the Train/Test Sets"
   ]
  },
  {
   "cell_type": "code",
   "execution_count": 5,
   "id": "2bfa8710",
   "metadata": {
    "execution": {
     "iopub.execute_input": "2022-05-10T07:12:57.612707Z",
     "iopub.status.busy": "2022-05-10T07:12:57.612182Z",
     "iopub.status.idle": "2022-05-10T07:13:27.750811Z",
     "shell.execute_reply": "2022-05-10T07:13:27.751288Z",
     "shell.execute_reply.started": "2022-05-10T06:29:47.748060Z"
    },
    "papermill": {
     "duration": 30.179393,
     "end_time": "2022-05-10T07:13:27.751442",
     "exception": false,
     "start_time": "2022-05-10T07:12:57.572049",
     "status": "completed"
    },
    "tags": []
   },
   "outputs": [
    {
     "name": "stdout",
     "output_type": "stream",
     "text": [
      "(40006, 3072) (40006, 1)\n",
      "(40006, 3, 32, 32)\n",
      "(40006, 32, 32, 3) (40006, 10)\n",
      "(10000, 3072) (10000, 1)\n",
      "(10000, 3, 32, 32)\n",
      "(10000, 32, 32, 3) (10000, 10)\n"
     ]
    }
   ],
   "source": [
    "# Importing the Labelled Dataset\n",
    "df_train = pd.read_csv(\"../input/cifar10/train_lab_x.csv\")\n",
    "y_train = pd.read_csv(\"../input/cifar10/train_lab_y.csv\")\n",
    "df_train = np.array(df_train)\n",
    "y_train = np.array(y_train)\n",
    "print(df_train.shape, y_train.shape)\n",
    "\n",
    "# Reshaping the dataset\n",
    "df_train = np.reshape(df_train, (-1, 3, 32, 32))\n",
    "print(df_train.shape)\n",
    "\n",
    "# Basic Pre-processing\n",
    "# Creating a random permutation\n",
    "perm = np.random.permutation(df_train.shape[0])\n",
    "\n",
    "# Shuffling the training dataset\n",
    "df_train = df_train[perm, : , : , : ]\n",
    "y_train = y_train[perm]\n",
    "\n",
    "# Reshaping, rescaling and one-hot encoding\n",
    "df_train = np.transpose(np.array(df_train), (0, 2, 3, 1))\n",
    "df_train = df_train / 255\n",
    "y_train_oh = tf.one_hot(np.ravel(y_train), depth = 10)\n",
    "print(df_train.shape, y_train_oh.shape)\n",
    "\n",
    "# Importing the Test Dataset\n",
    "df_test = pd.read_csv(\"../input/cifar10/test_x.csv\")\n",
    "y_test = pd.read_csv(\"../input/cifar10/test_y.csv\")\n",
    "df_test = np.array(df_test)\n",
    "y_test = np.array(y_test)\n",
    "print(df_test.shape, y_test.shape)\n",
    "\n",
    "# Reshaping the dataset\n",
    "df_test = np.reshape(df_test, (-1, 3, 32, 32))\n",
    "print(df_test.shape)\n",
    "\n",
    "# Reshaping, rescaling and one-hot encoding\n",
    "df_test = np.transpose(np.array(df_test), (0, 2, 3, 1))\n",
    "df_test = df_test / 255\n",
    "y_test_oh = tf.one_hot(np.ravel(y_test), depth = 10)\n",
    "print(df_test.shape, y_test_oh.shape)"
   ]
  },
  {
   "cell_type": "markdown",
   "id": "ec3924bf",
   "metadata": {
    "papermill": {
     "duration": 0.032292,
     "end_time": "2022-05-10T07:13:27.816255",
     "exception": false,
     "start_time": "2022-05-10T07:13:27.783963",
     "status": "completed"
    },
    "tags": []
   },
   "source": [
    "# 3. Defining the Tensorflow Augmentations"
   ]
  },
  {
   "cell_type": "code",
   "execution_count": 6,
   "id": "2903c918",
   "metadata": {
    "execution": {
     "iopub.execute_input": "2022-05-10T07:13:27.885892Z",
     "iopub.status.busy": "2022-05-10T07:13:27.885363Z",
     "iopub.status.idle": "2022-05-10T07:13:27.919455Z",
     "shell.execute_reply": "2022-05-10T07:13:27.919908Z",
     "shell.execute_reply.started": "2022-05-10T06:30:16.726215Z"
    },
    "papermill": {
     "duration": 0.071335,
     "end_time": "2022-05-10T07:13:27.920058",
     "exception": false,
     "start_time": "2022-05-10T07:13:27.848723",
     "status": "completed"
    },
    "tags": []
   },
   "outputs": [],
   "source": [
    "data_augmentation = tf.keras.Sequential([\n",
    "    tfl.RandomFlip(\"horizontal\"),\n",
    "    tfl.RandomRotation(0.1),\n",
    "])"
   ]
  },
  {
   "cell_type": "markdown",
   "id": "85c3b1f4",
   "metadata": {
    "papermill": {
     "duration": 0.030962,
     "end_time": "2022-05-10T07:13:27.983363",
     "exception": false,
     "start_time": "2022-05-10T07:13:27.952401",
     "status": "completed"
    },
    "tags": []
   },
   "source": [
    "# 4. Image Augmentation on 25% of the Training Dataset\n",
    "## 4.1. Augmenting the Training Dataset"
   ]
  },
  {
   "cell_type": "code",
   "execution_count": 7,
   "id": "db7233eb",
   "metadata": {
    "execution": {
     "iopub.execute_input": "2022-05-10T07:13:28.053666Z",
     "iopub.status.busy": "2022-05-10T07:13:28.052930Z",
     "iopub.status.idle": "2022-05-10T07:13:28.627028Z",
     "shell.execute_reply": "2022-05-10T07:13:28.627461Z",
     "shell.execute_reply.started": "2022-05-10T06:30:16.746386Z"
    },
    "papermill": {
     "duration": 0.612171,
     "end_time": "2022-05-10T07:13:28.627608",
     "exception": false,
     "start_time": "2022-05-10T07:13:28.015437",
     "status": "completed"
    },
    "tags": []
   },
   "outputs": [
    {
     "name": "stdout",
     "output_type": "stream",
     "text": [
      "(32, 32, 3)\n",
      "(1, 32, 32, 3)\n"
     ]
    },
    {
     "data": {
      "image/png": "[encoded data removed]",
      "text/plain": [
       "<Figure size 360x360 with 9 Axes>"
      ]
     },
     "metadata": {
      "needs_background": "light"
     },
     "output_type": "display_data"
    }
   ],
   "source": [
    "# Visualizing a single image\n",
    "ind = 16\n",
    "example = df_train[ind, : , : , : ]\n",
    "print(example.shape)\n",
    "\n",
    "# Add the image to a batch.\n",
    "image = tf.cast(tf.expand_dims(example, 0), tf.float32)\n",
    "print(image.shape)\n",
    "\n",
    "plt.figure(figsize=(5, 5))\n",
    "for i in range(9):\n",
    "    aug_image = data_augmentation(image)\n",
    "    ax = plt.subplot(3, 3, i + 1)\n",
    "    plt.imshow(aug_image[0])\n",
    "    plt.axis(\"off\")"
   ]
  },
  {
   "cell_type": "code",
   "execution_count": 8,
   "id": "0565e6fe",
   "metadata": {
    "execution": {
     "iopub.execute_input": "2022-05-10T07:13:28.706787Z",
     "iopub.status.busy": "2022-05-10T07:13:28.706254Z",
     "iopub.status.idle": "2022-05-10T07:14:44.472443Z",
     "shell.execute_reply": "2022-05-10T07:14:44.472857Z",
     "shell.execute_reply.started": "2022-05-10T06:30:17.237984Z"
    },
    "papermill": {
     "duration": 75.810795,
     "end_time": "2022-05-10T07:14:44.473042",
     "exception": false,
     "start_time": "2022-05-10T07:13:28.662247",
     "status": "completed"
    },
    "tags": []
   },
   "outputs": [
    {
     "name": "stderr",
     "output_type": "stream",
     "text": [
      "100%|██████████| 40006/40006 [01:14<00:00, 538.14it/s]\n"
     ]
    },
    {
     "name": "stdout",
     "output_type": "stream",
     "text": [
      "(10045, 32, 32, 3) (10045, 1) (10045, 10)\n",
      "(50051, 32, 32, 3) (50051, 1) (50051, 10)\n",
      "(50051, 32, 32, 3) (50051, 1) (50051, 10)\n"
     ]
    }
   ],
   "source": [
    "# Creating an empty list\n",
    "df_train_aug, y_train_aug = [], []\n",
    "\n",
    "# Iterating over all the images in the dataset\n",
    "for ind in tqdm(range(df_train.shape[0])):\n",
    "    if np.random.uniform() <= 0.25:\n",
    "        aug_image = data_augmentation(df_train[ind, : , : , : ])\n",
    "        df_train_aug.append(aug_image)\n",
    "        y_train_aug.append(y_train[ind])\n",
    "\n",
    "# Sanity Checks and Transformations\n",
    "df_train_aug = np.array(df_train_aug)\n",
    "y_train_aug = np.reshape(np.array(y_train_aug), (-1, 1))\n",
    "y_train_aug_oh = tf.one_hot(np.ravel(y_train_aug), depth = 10)\n",
    "print(df_train_aug.shape, y_train_aug.shape, y_train_aug_oh.shape)\n",
    "\n",
    "df_aug = np.concatenate([df_train, df_train_aug], axis = 0)\n",
    "y_aug = np.concatenate([y_train, y_train_aug], axis = 0)\n",
    "y_aug_oh = np.concatenate([y_train_oh, y_train_aug_oh], axis = 0)\n",
    "print(df_aug.shape, y_aug.shape, y_aug_oh.shape)\n",
    "\n",
    "# Creating a random permutation\n",
    "perm_aug = np.random.permutation(df_aug.shape[0])\n",
    "\n",
    "# Shuffling the augmented dataset\n",
    "df_aug = df_aug[perm_aug, : , : , : ]\n",
    "y_aug = y_aug[perm_aug]\n",
    "y_aug_oh = y_aug_oh[perm_aug, : ]\n",
    "print(df_aug.shape, y_aug.shape, y_aug_oh.shape)"
   ]
  },
  {
   "cell_type": "code",
   "execution_count": 9,
   "id": "487f2c51",
   "metadata": {
    "execution": {
     "iopub.execute_input": "2022-05-10T07:14:44.953252Z",
     "iopub.status.busy": "2022-05-10T07:14:44.951681Z",
     "iopub.status.idle": "2022-05-10T07:15:18.298612Z",
     "shell.execute_reply": "2022-05-10T07:15:18.298133Z",
     "shell.execute_reply.started": "2022-05-10T06:31:32.067573Z"
    },
    "papermill": {
     "duration": 33.585989,
     "end_time": "2022-05-10T07:15:18.298745",
     "exception": false,
     "start_time": "2022-05-10T07:14:44.712756",
     "status": "completed"
    },
    "tags": []
   },
   "outputs": [
    {
     "name": "stdout",
     "output_type": "stream",
     "text": [
      "(10045, 3072) (10045,)\n"
     ]
    }
   ],
   "source": [
    "# For saving purposes\n",
    "df_train_aug = pd.DataFrame(np.reshape(df_train_aug, (df_train_aug.shape[0], -1)))\n",
    "y_train_aug = pd.Series(np.squeeze(y_train_aug))\n",
    "print(df_train_aug.shape, y_train_aug.shape)\n",
    "\n",
    "# Saving the augmented images to a CSV file\n",
    "df_train_aug.to_csv(\"df_25per_trad_aug.csv\", index = False)\n",
    "y_train_aug.to_csv(\"y_25per_trad_aug.csv\", index = False)"
   ]
  },
  {
   "cell_type": "markdown",
   "id": "87a5785f",
   "metadata": {
    "papermill": {
     "duration": 0.232344,
     "end_time": "2022-05-10T07:15:18.765617",
     "exception": false,
     "start_time": "2022-05-10T07:15:18.533273",
     "status": "completed"
    },
    "tags": []
   },
   "source": [
    "## 4.2. Training the Baseline Model on the Augmented Dataset"
   ]
  },
  {
   "cell_type": "code",
   "execution_count": 10,
   "id": "e15055fd",
   "metadata": {
    "_kg_hide-output": true,
    "execution": {
     "iopub.execute_input": "2022-05-10T07:15:19.240723Z",
     "iopub.status.busy": "2022-05-10T07:15:19.240166Z",
     "iopub.status.idle": "2022-05-10T07:15:21.376688Z",
     "shell.execute_reply": "2022-05-10T07:15:21.375845Z",
     "shell.execute_reply.started": "2022-05-10T06:32:05.364055Z"
    },
    "papermill": {
     "duration": 2.377741,
     "end_time": "2022-05-10T07:15:21.376942",
     "exception": false,
     "start_time": "2022-05-10T07:15:18.999201",
     "status": "completed"
    },
    "scrolled": true,
    "tags": []
   },
   "outputs": [],
   "source": [
    "# Importing the Baseline Model Architecture\n",
    "copyfile(src = \"../input/dcai-rw/baseline_arch.py\", dst = \"../working/baseline_arch.py\")\n",
    "from baseline_arch import cnn_model\n",
    "\n",
    "# Creating Batches from the Augmented Dataset\n",
    "train_dataset = tf.data.Dataset.from_tensor_slices((df_aug, y_aug_oh)).batch(32)"
   ]
  },
  {
   "cell_type": "code",
   "execution_count": 11,
   "id": "a62831f5",
   "metadata": {
    "_kg_hide-output": true,
    "execution": {
     "iopub.execute_input": "2022-05-10T07:15:21.879395Z",
     "iopub.status.busy": "2022-05-10T07:15:21.878521Z",
     "iopub.status.idle": "2022-05-10T07:15:22.081556Z",
     "shell.execute_reply": "2022-05-10T07:15:22.081988Z",
     "shell.execute_reply.started": "2022-05-10T06:32:07.500943Z"
    },
    "papermill": {
     "duration": 0.456644,
     "end_time": "2022-05-10T07:15:22.082159",
     "exception": false,
     "start_time": "2022-05-10T07:15:21.625515",
     "status": "completed"
    },
    "scrolled": true,
    "tags": []
   },
   "outputs": [],
   "source": [
    "# If the model has been pre-trained\n",
    "try:\n",
    "    conv_model = cnn_model((32, 32, 3))\n",
    "    conv_model.compile(optimizer='adam', loss='categorical_crossentropy', metrics='accuracy')\n",
    "    conv_model.load_weights(\"../input/dcai-rw/trad_augmented_all.h5\")\n",
    "\n",
    "# If the model hasn't been pre-trained\n",
    "except:\n",
    "    num_epochs = [10, 20, 30, 40, 50]\n",
    "    train_loss, test_loss, train_acc, test_acc = [], [], [], []\n",
    "\n",
    "    for epochs in num_epochs:\n",
    "        # Training the Model\n",
    "        conv_model = cnn_model((32, 32, 3))\n",
    "        conv_model.compile(optimizer='adam', loss='categorical_crossentropy', metrics='accuracy')\n",
    "        conv_model.fit(train_dataset, epochs = epochs)\n",
    "\n",
    "        # Predicting on the Train/Test Datasets\n",
    "        preds_train = conv_model.predict(df_aug)\n",
    "        preds_test = conv_model.predict(df_test)\n",
    "\n",
    "        # Finding the Predicted Classes\n",
    "        cls_train = np.argmax(preds_train, axis = 1)\n",
    "        cls_test = np.argmax(preds_test, axis = 1)\n",
    "\n",
    "        # Finding the Train/Test set Loss\n",
    "        train_loss.append(log_loss(y_aug_oh, preds_train))\n",
    "        test_loss.append(log_loss(y_test_oh, preds_test))\n",
    "        train_acc.append(accuracy_score(y_aug, cls_train))\n",
    "        test_acc.append(accuracy_score(y_test, cls_test))\n",
    "\n",
    "        print(\"For \", epochs, \" Epochs:\")\n",
    "        print(\"Log-loss for Train Dataset = \", train_loss[-1])\n",
    "        print(\"Log-loss for Test Dataset = \", test_loss[-1])\n",
    "        print(\"Accuracy for Train Dataset = \", train_acc[-1])\n",
    "        print(\"Accuracy for Test Dataset = \", test_acc[-1])\n",
    "        print()\n",
    "    \n",
    "    # Training the Model with the best hyper-parameter settings\n",
    "    ind = np.argmax(test_acc)\n",
    "    best_num_epochs = num_epochs[ind]\n",
    "    conv_model = cnn_model((32, 32, 3))\n",
    "    conv_model.compile(optimizer='adam', loss='categorical_crossentropy', metrics='accuracy')\n",
    "    conv_model.fit(train_dataset, epochs = best_num_epochs)\n",
    "\n",
    "    # Saving the model along with it's weights\n",
    "    conv_model.save('trad_augmented_all.h5')"
   ]
  },
  {
   "cell_type": "markdown",
   "id": "6fe83d19",
   "metadata": {
    "papermill": {
     "duration": 0.238585,
     "end_time": "2022-05-10T07:15:22.560018",
     "exception": false,
     "start_time": "2022-05-10T07:15:22.321433",
     "status": "completed"
    },
    "tags": []
   },
   "source": [
    "## 4.3. Predicting the Performance"
   ]
  },
  {
   "cell_type": "code",
   "execution_count": 12,
   "id": "a6878a8a",
   "metadata": {
    "execution": {
     "iopub.execute_input": "2022-05-10T07:15:23.045501Z",
     "iopub.status.busy": "2022-05-10T07:15:23.044743Z",
     "iopub.status.idle": "2022-05-10T07:15:35.852791Z",
     "shell.execute_reply": "2022-05-10T07:15:35.853276Z",
     "shell.execute_reply.started": "2022-05-10T06:32:07.685488Z"
    },
    "papermill": {
     "duration": 13.055882,
     "end_time": "2022-05-10T07:15:35.853458",
     "exception": false,
     "start_time": "2022-05-10T07:15:22.797576",
     "status": "completed"
    },
    "tags": []
   },
   "outputs": [
    {
     "name": "stdout",
     "output_type": "stream",
     "text": [
      "Log-loss for Train Dataset =  0.24528378860412037\n",
      "Log-loss for Test Dataset =  0.762018609235788\n",
      "Weighted F1 Score for Train Dataset =  0.9254330771347284\n",
      "Weighted F1 Score for Test Dataset =  0.7706880141922123\n",
      "Accuracy for Train Dataset =  0.925515973706819\n",
      "Accuracy for Test Dataset =  0.774\n"
     ]
    }
   ],
   "source": [
    "# Predicting on the Train/Test Datasets\n",
    "preds_train = conv_model.predict(df_aug)\n",
    "preds_test = conv_model.predict(df_test)\n",
    "\n",
    "# Finding the Predicted Classes\n",
    "cls_train = np.argmax(preds_train, axis = 1)\n",
    "cls_test = np.argmax(preds_test, axis = 1)\n",
    "\n",
    "# Finding the Train/Test set Loss\n",
    "print(\"Log-loss for Train Dataset = \", log_loss(y_aug_oh, preds_train))\n",
    "print(\"Log-loss for Test Dataset = \", log_loss(y_test_oh, preds_test))\n",
    "print(\"Weighted F1 Score for Train Dataset = \", f1_score(y_aug, cls_train, average = 'weighted'))\n",
    "print(\"Weighted F1 Score for Test Dataset = \", f1_score(y_test, cls_test, average = 'weighted'))\n",
    "print(\"Accuracy for Train Dataset = \", accuracy_score(y_aug, cls_train))\n",
    "print(\"Accuracy for Test Dataset = \", accuracy_score(y_test, cls_test))"
   ]
  },
  {
   "cell_type": "markdown",
   "id": "af89801b",
   "metadata": {
    "papermill": {
     "duration": 0.238906,
     "end_time": "2022-05-10T07:15:36.340661",
     "exception": false,
     "start_time": "2022-05-10T07:15:36.101755",
     "status": "completed"
    },
    "tags": []
   },
   "source": [
    "# 5. Image Augmentation for Class Balancing\n",
    "## 5.1. Finding out the Class Imbalance"
   ]
  },
  {
   "cell_type": "code",
   "execution_count": 13,
   "id": "1e398368",
   "metadata": {
    "execution": {
     "iopub.execute_input": "2022-05-10T07:15:36.858541Z",
     "iopub.status.busy": "2022-05-10T07:15:36.853440Z",
     "iopub.status.idle": "2022-05-10T07:15:36.892751Z",
     "shell.execute_reply": "2022-05-10T07:15:36.893192Z",
     "shell.execute_reply.started": "2022-05-10T06:32:19.090313Z"
    },
    "papermill": {
     "duration": 0.310824,
     "end_time": "2022-05-10T07:15:36.893333",
     "exception": false,
     "start_time": "2022-05-10T07:15:36.582509",
     "status": "completed"
    },
    "tags": []
   },
   "outputs": [
    {
     "name": "stdout",
     "output_type": "stream",
     "text": [
      "[4109 3839 4022 4116 4312 3952 4290 3552 3436 4378]\n",
      "[269, 539, 356, 262, 66, 426, 88, 826, 942, 0] 3774\n",
      "10 4109\n",
      "3774 3774\n"
     ]
    }
   ],
   "source": [
    "y_train_reshape = np.reshape(y_train, (-1))\n",
    "num_examples = np.zeros((10,))\n",
    "\n",
    "for i in y_train_reshape:\n",
    "    num_examples[i] += 1\n",
    "\n",
    "# Number of examples from each class\n",
    "num_exa = num_examples.astype('int32')\n",
    "\n",
    "# Finding out the maximum number of examples for any class\n",
    "max_exa = max(num_exa)\n",
    "\n",
    "# Number of examples that needs to be added to each of the classes\n",
    "aug_exa = [max_exa - num_exa[i] for i in range(10)]\n",
    "\n",
    "# Creating a list of lists for storing the indices of data-points in the training dataset, class-wise\n",
    "classes_ind = []\n",
    "for i in range(10):\n",
    "    classes_ind.append([])\n",
    "\n",
    "for ind, clss in enumerate(y_train_reshape):\n",
    "    classes_ind[clss].append(ind)\n",
    "\n",
    "# # Transforming list of lists into numpy array\n",
    "# classes_ind = np.array([np.array(xi) for xi in classes_ind])\n",
    "\n",
    "print(num_exa)\n",
    "print(aug_exa, sum(aug_exa))\n",
    "print(len(classes_ind), len(classes_ind[0]))\n",
    "\n",
    "# Creating a list for indices of images and their labels on which augmentation needs to be done\n",
    "# These are randomly chosen from each class\n",
    "aug_ind = []\n",
    "y_train_aug = []\n",
    "\n",
    "for i in range(10):\n",
    "    indices = random.choices(classes_ind[i], k = aug_exa[i])\n",
    "    aug_ind.extend(indices)\n",
    "    y_train_aug.extend([i]*aug_exa[i])\n",
    "\n",
    "print(len(aug_ind), len(y_train_aug))"
   ]
  },
  {
   "cell_type": "markdown",
   "id": "6da48416",
   "metadata": {
    "papermill": {
     "duration": 0.238933,
     "end_time": "2022-05-10T07:15:37.368158",
     "exception": false,
     "start_time": "2022-05-10T07:15:37.129225",
     "status": "completed"
    },
    "tags": []
   },
   "source": [
    "## 5.2. Augmenting based on the Class Imbalance"
   ]
  },
  {
   "cell_type": "code",
   "execution_count": 14,
   "id": "676c416f",
   "metadata": {
    "execution": {
     "iopub.execute_input": "2022-05-10T07:15:38.049978Z",
     "iopub.status.busy": "2022-05-10T07:15:38.049110Z",
     "iopub.status.idle": "2022-05-10T07:16:07.365736Z",
     "shell.execute_reply": "2022-05-10T07:16:07.365311Z",
     "shell.execute_reply.started": "2022-05-10T06:32:19.157065Z"
    },
    "papermill": {
     "duration": 29.73216,
     "end_time": "2022-05-10T07:16:07.365857",
     "exception": false,
     "start_time": "2022-05-10T07:15:37.633697",
     "status": "completed"
    },
    "tags": []
   },
   "outputs": [
    {
     "name": "stderr",
     "output_type": "stream",
     "text": [
      "100%|██████████| 3774/3774 [00:28<00:00, 134.17it/s]\n"
     ]
    },
    {
     "name": "stdout",
     "output_type": "stream",
     "text": [
      "(3774, 32, 32, 3) (3774, 1) (3774, 10)\n",
      "(43780, 32, 32, 3) (43780, 1) (43780, 10)\n",
      "(43780, 32, 32, 3) (43780, 1) (43780, 10)\n"
     ]
    }
   ],
   "source": [
    "# Creating an empty list\n",
    "df_train_aug = []\n",
    "\n",
    "for ind in tqdm(aug_ind):\n",
    "    aug_image = data_augmentation(df_train[ind, : , : , : ])\n",
    "    df_train_aug.append(aug_image)\n",
    "    \n",
    "# Sanity Checks and Transformations\n",
    "df_train_aug = np.array(df_train_aug)\n",
    "y_train_aug = np.reshape(np.array(y_train_aug), (-1, 1))\n",
    "y_train_aug_oh = tf.one_hot(np.ravel(y_train_aug), depth = 10)\n",
    "print(df_train_aug.shape, y_train_aug.shape, y_train_aug_oh.shape)\n",
    "\n",
    "df_aug = np.concatenate([df_train, df_train_aug], axis = 0)\n",
    "y_aug = np.concatenate([y_train, y_train_aug], axis = 0)\n",
    "y_aug_oh = np.concatenate([y_train_oh, y_train_aug_oh], axis = 0)\n",
    "print(df_aug.shape, y_aug.shape, y_aug_oh.shape)\n",
    "\n",
    "# Creating a random permutation\n",
    "perm_aug = np.random.permutation(df_aug.shape[0])\n",
    "\n",
    "# Shuffling the augmented dataset\n",
    "df_aug = df_aug[perm_aug, : , : , : ]\n",
    "y_aug = y_aug[perm_aug]\n",
    "y_aug_oh = y_aug_oh[perm_aug, : ]\n",
    "print(df_aug.shape, y_aug.shape, y_aug_oh.shape)"
   ]
  },
  {
   "cell_type": "code",
   "execution_count": 15,
   "id": "83fdb912",
   "metadata": {
    "execution": {
     "iopub.execute_input": "2022-05-10T07:16:08.018092Z",
     "iopub.status.busy": "2022-05-10T07:16:08.017532Z",
     "iopub.status.idle": "2022-05-10T07:16:20.595093Z",
     "shell.execute_reply": "2022-05-10T07:16:20.595685Z",
     "shell.execute_reply.started": "2022-05-10T06:32:48.730276Z"
    },
    "papermill": {
     "duration": 12.906325,
     "end_time": "2022-05-10T07:16:20.595927",
     "exception": false,
     "start_time": "2022-05-10T07:16:07.689602",
     "status": "completed"
    },
    "tags": []
   },
   "outputs": [
    {
     "name": "stdout",
     "output_type": "stream",
     "text": [
      "(3774, 3072) (3774,)\n"
     ]
    }
   ],
   "source": [
    "# For saving purposes\n",
    "df_train_aug = pd.DataFrame(np.reshape(df_train_aug, (df_train_aug.shape[0], -1)))\n",
    "y_train_aug = pd.Series(np.squeeze(y_train_aug))\n",
    "print(df_train_aug.shape, y_train_aug.shape)\n",
    "\n",
    "# Saving the augmented images to a CSV file\n",
    "df_train_aug.to_csv(\"df_clsbal_trad_aug.csv\", index = False)\n",
    "y_train_aug.to_csv(\"y_clsbal_trad_aug.csv\", index = False)"
   ]
  },
  {
   "cell_type": "code",
   "execution_count": 16,
   "id": "371ed850",
   "metadata": {
    "execution": {
     "iopub.execute_input": "2022-05-10T07:16:21.283427Z",
     "iopub.status.busy": "2022-05-10T07:16:21.273275Z",
     "iopub.status.idle": "2022-05-10T07:16:21.313334Z",
     "shell.execute_reply": "2022-05-10T07:16:21.312858Z",
     "shell.execute_reply.started": "2022-05-10T06:33:02.015414Z"
    },
    "papermill": {
     "duration": 0.390539,
     "end_time": "2022-05-10T07:16:21.313452",
     "exception": false,
     "start_time": "2022-05-10T07:16:20.922913",
     "status": "completed"
    },
    "tags": []
   },
   "outputs": [
    {
     "name": "stdout",
     "output_type": "stream",
     "text": [
      "[4378. 4378. 4378. 4378. 4378. 4378. 4378. 4378. 4378. 4378.]\n"
     ]
    }
   ],
   "source": [
    "# Finding out the number of examples in each class after augmentation\n",
    "num_examples = np.zeros((10,))\n",
    "for i in y_aug[:]:\n",
    "    num_examples[i[0]] += 1\n",
    "print(num_examples)"
   ]
  },
  {
   "cell_type": "markdown",
   "id": "a3bf350c",
   "metadata": {
    "papermill": {
     "duration": 0.507713,
     "end_time": "2022-05-10T07:16:22.202982",
     "exception": false,
     "start_time": "2022-05-10T07:16:21.695269",
     "status": "completed"
    },
    "tags": []
   },
   "source": [
    "## 5.3. Training the Baseline Model on the Augmented Dataset"
   ]
  },
  {
   "cell_type": "code",
   "execution_count": 17,
   "id": "d6f1e9d6",
   "metadata": {
    "_kg_hide-output": true,
    "execution": {
     "iopub.execute_input": "2022-05-10T07:16:22.860721Z",
     "iopub.status.busy": "2022-05-10T07:16:22.859851Z",
     "iopub.status.idle": "2022-05-10T07:16:24.732168Z",
     "shell.execute_reply": "2022-05-10T07:16:24.731664Z",
     "shell.execute_reply.started": "2022-05-10T06:33:02.084744Z"
    },
    "papermill": {
     "duration": 2.202521,
     "end_time": "2022-05-10T07:16:24.732310",
     "exception": false,
     "start_time": "2022-05-10T07:16:22.529789",
     "status": "completed"
    },
    "scrolled": true,
    "tags": []
   },
   "outputs": [],
   "source": [
    "# Importing the Baseline Model Architecture\n",
    "copyfile(src = \"../input/dcai-rw/baseline_arch.py\", dst = \"../working/baseline_arch.py\")\n",
    "from baseline_arch import cnn_model\n",
    "\n",
    "# Creating Batches from the Augmented Dataset\n",
    "train_dataset = tf.data.Dataset.from_tensor_slices((df_aug, y_aug_oh)).batch(32)"
   ]
  },
  {
   "cell_type": "code",
   "execution_count": 18,
   "id": "ab91e698",
   "metadata": {
    "_kg_hide-output": true,
    "execution": {
     "iopub.execute_input": "2022-05-10T07:16:25.394261Z",
     "iopub.status.busy": "2022-05-10T07:16:25.393405Z",
     "iopub.status.idle": "2022-05-10T07:16:25.580315Z",
     "shell.execute_reply": "2022-05-10T07:16:25.579773Z",
     "shell.execute_reply.started": "2022-05-10T06:33:03.953760Z"
    },
    "papermill": {
     "duration": 0.526727,
     "end_time": "2022-05-10T07:16:25.580463",
     "exception": false,
     "start_time": "2022-05-10T07:16:25.053736",
     "status": "completed"
    },
    "scrolled": true,
    "tags": []
   },
   "outputs": [],
   "source": [
    "# If the model has been pre-trained\n",
    "try:\n",
    "    conv_model = cnn_model((32, 32, 3))\n",
    "    conv_model.compile(optimizer='adam', loss='categorical_crossentropy', metrics='accuracy')\n",
    "    conv_model.load_weights(\"../input/dcai-rw/trad_augmented_cls_imbalance.h5\")\n",
    "\n",
    "# If the model hasn't been pre-trained\n",
    "except:\n",
    "    num_epochs = [10, 20, 30, 40, 50]\n",
    "    train_loss, test_loss, train_acc, test_acc = [], [], [], []\n",
    "\n",
    "    for epochs in num_epochs:\n",
    "        # Training the Model\n",
    "        conv_model = cnn_model((32, 32, 3))\n",
    "        conv_model.compile(optimizer='adam', loss='categorical_crossentropy', metrics='accuracy')\n",
    "        conv_model.fit(train_dataset, epochs = epochs)\n",
    "\n",
    "        # Predicting on the Train/Test Datasets\n",
    "        preds_train = conv_model.predict(df_aug)\n",
    "        preds_test = conv_model.predict(df_test)\n",
    "\n",
    "        # Finding the Predicted Classes\n",
    "        cls_train = np.argmax(preds_train, axis = 1)\n",
    "        cls_test = np.argmax(preds_test, axis = 1)\n",
    "\n",
    "        # Finding the Train/Test set Loss\n",
    "        train_loss.append(log_loss(y_aug_oh, preds_train))\n",
    "        test_loss.append(log_loss(y_test_oh, preds_test))\n",
    "        train_acc.append(accuracy_score(y_aug, cls_train))\n",
    "        test_acc.append(accuracy_score(y_test, cls_test))\n",
    "\n",
    "        print(\"For \", epochs, \" Epochs:\")\n",
    "        print(\"Log-loss for Train Dataset = \", train_loss[-1])\n",
    "        print(\"Log-loss for Test Dataset = \", test_loss[-1])\n",
    "        print(\"Accuracy for Train Dataset = \", train_acc[-1])\n",
    "        print(\"Accuracy for Test Dataset = \", test_acc[-1])\n",
    "        print()\n",
    "    \n",
    "    # Training the Model with the best hyper-parameter settings\n",
    "    ind = np.argmax(test_acc)\n",
    "    best_num_epochs = num_epochs[ind]\n",
    "    conv_model = cnn_model((32, 32, 3))\n",
    "    conv_model.compile(optimizer='adam', loss='categorical_crossentropy', metrics='accuracy')\n",
    "    conv_model.fit(train_dataset, epochs = best_num_epochs)\n",
    "\n",
    "    # Saving the model along with it's weights\n",
    "    conv_model.save('trad_augmented_cls_imbalance.h5')"
   ]
  },
  {
   "cell_type": "markdown",
   "id": "67071516",
   "metadata": {
    "papermill": {
     "duration": 0.325879,
     "end_time": "2022-05-10T07:16:26.232624",
     "exception": false,
     "start_time": "2022-05-10T07:16:25.906745",
     "status": "completed"
    },
    "tags": []
   },
   "source": [
    "## 5.4. Predicting the Performance"
   ]
  },
  {
   "cell_type": "code",
   "execution_count": 19,
   "id": "649ac0fa",
   "metadata": {
    "execution": {
     "iopub.execute_input": "2022-05-10T07:16:26.886695Z",
     "iopub.status.busy": "2022-05-10T07:16:26.885599Z",
     "iopub.status.idle": "2022-05-10T07:16:31.199559Z",
     "shell.execute_reply": "2022-05-10T07:16:31.198515Z",
     "shell.execute_reply.started": "2022-05-10T06:33:04.120723Z"
    },
    "papermill": {
     "duration": 4.643439,
     "end_time": "2022-05-10T07:16:31.199750",
     "exception": false,
     "start_time": "2022-05-10T07:16:26.556311",
     "status": "completed"
    },
    "tags": []
   },
   "outputs": [
    {
     "name": "stdout",
     "output_type": "stream",
     "text": [
      "Log-loss for Train Dataset =  0.1576912511296074\n",
      "Log-loss for Test Dataset =  0.8160191790052942\n",
      "Weighted F1 Score for Train Dataset =  0.9552425101553266\n",
      "Weighted F1 Score for Test Dataset =  0.772196088995501\n",
      "Accuracy for Train Dataset =  0.9552763819095478\n",
      "Accuracy for Test Dataset =  0.7746\n"
     ]
    }
   ],
   "source": [
    "# Predicting on the Train/Test Datasets\n",
    "preds_train = conv_model.predict(df_aug)\n",
    "preds_test = conv_model.predict(df_test)\n",
    "\n",
    "# Finding the Predicted Classes\n",
    "cls_train = np.argmax(preds_train, axis = 1)\n",
    "cls_test = np.argmax(preds_test, axis = 1)\n",
    "\n",
    "# Finding the Train/Test set Loss\n",
    "print(\"Log-loss for Train Dataset = \", log_loss(y_aug_oh, preds_train))\n",
    "print(\"Log-loss for Test Dataset = \", log_loss(y_test_oh, preds_test))\n",
    "print(\"Weighted F1 Score for Train Dataset = \", f1_score(y_aug, cls_train, average = 'weighted'))\n",
    "print(\"Weighted F1 Score for Test Dataset = \", f1_score(y_test, cls_test, average = 'weighted'))\n",
    "print(\"Accuracy for Train Dataset = \", accuracy_score(y_aug, cls_train))\n",
    "print(\"Accuracy for Test Dataset = \", accuracy_score(y_test, cls_test))"
   ]
  },
  {
   "cell_type": "markdown",
   "id": "fdb171eb",
   "metadata": {
    "papermill": {
     "duration": 0.330377,
     "end_time": "2022-05-10T07:16:31.850709",
     "exception": false,
     "start_time": "2022-05-10T07:16:31.520332",
     "status": "completed"
    },
    "tags": []
   },
   "source": [
    "# 6. Image Augmentation based on Class-wise Performance\n",
    "## 6.1. Finding out the Class-wise Performance of the Baseline Model"
   ]
  },
  {
   "cell_type": "code",
   "execution_count": 20,
   "id": "42c4e3bc",
   "metadata": {
    "execution": {
     "iopub.execute_input": "2022-05-10T07:16:32.495703Z",
     "iopub.status.busy": "2022-05-10T07:16:32.495160Z",
     "iopub.status.idle": "2022-05-10T07:16:34.036693Z",
     "shell.execute_reply": "2022-05-10T07:16:34.036180Z",
     "shell.execute_reply.started": "2022-05-10T06:33:08.323855Z"
    },
    "papermill": {
     "duration": 1.867358,
     "end_time": "2022-05-10T07:16:34.036833",
     "exception": false,
     "start_time": "2022-05-10T07:16:32.169475",
     "status": "completed"
    },
    "tags": []
   },
   "outputs": [
    {
     "name": "stdout",
     "output_type": "stream",
     "text": [
      "Log-loss for Test Dataset =  0.780156585093371\n",
      "Accuracy for Test Dataset =  0.7822\n"
     ]
    }
   ],
   "source": [
    "# Importing the Baseline Model\n",
    "conv_model = tf.keras.models.load_model(\"../input/dcai-rw/baseline_model.h5\")\n",
    "\n",
    "# Predicting on the Test Datasets\n",
    "preds_test = conv_model.predict(df_test)\n",
    "\n",
    "# Finding the Predicted Classes\n",
    "cls_test = np.argmax(preds_test, axis = 1)\n",
    "\n",
    "# Finding the Test set Loss\n",
    "print(\"Log-loss for Test Dataset = \", log_loss(y_test_oh, preds_test))\n",
    "print(\"Accuracy for Test Dataset = \", accuracy_score(y_test, cls_test))"
   ]
  },
  {
   "cell_type": "code",
   "execution_count": 21,
   "id": "43a1fcf1",
   "metadata": {
    "_kg_hide-output": true,
    "execution": {
     "iopub.execute_input": "2022-05-10T07:16:34.827728Z",
     "iopub.status.busy": "2022-05-10T07:16:34.821816Z",
     "iopub.status.idle": "2022-05-10T07:16:38.120862Z",
     "shell.execute_reply": "2022-05-10T07:16:38.120388Z",
     "shell.execute_reply.started": "2022-05-10T06:33:09.661711Z"
    },
    "papermill": {
     "duration": 3.67585,
     "end_time": "2022-05-10T07:16:38.121023",
     "exception": false,
     "start_time": "2022-05-10T07:16:34.445173",
     "status": "completed"
    },
    "scrolled": true,
    "tags": []
   },
   "outputs": [
    {
     "name": "stdout",
     "output_type": "stream",
     "text": [
      "10 10 10 10\n",
      "1000 1000 1000 1000\n",
      "10 10\n",
      "\n",
      "For Class  0\n",
      "Log-loss =  0.6607034047103123\n",
      "Accuracy =  0.823\n",
      "\n",
      "For Class  1\n",
      "Log-loss =  0.4572515843776886\n",
      "Accuracy =  0.876\n",
      "\n",
      "For Class  2\n",
      "Log-loss =  1.2545300637547625\n",
      "Accuracy =  0.663\n",
      "\n",
      "For Class  3\n",
      "Log-loss =  1.5699013436153135\n",
      "Accuracy =  0.538\n",
      "\n",
      "For Class  4\n",
      "Log-loss =  0.7724096510888028\n",
      "Accuracy =  0.776\n",
      "\n",
      "For Class  5\n",
      "Log-loss =  0.8724455810205883\n",
      "Accuracy =  0.729\n",
      "\n",
      "For Class  6\n",
      "Log-loss =  0.42640308126623816\n",
      "Accuracy =  0.885\n",
      "\n",
      "For Class  7\n",
      "Log-loss =  0.841689777171832\n",
      "Accuracy =  0.766\n",
      "\n",
      "For Class  8\n",
      "Log-loss =  0.5221985499196238\n",
      "Accuracy =  0.873\n",
      "\n",
      "For Class  9\n",
      "Log-loss =  0.42403281400854825\n",
      "Accuracy =  0.893\n",
      "\n"
     ]
    }
   ],
   "source": [
    "# Creating a list of lists for storing the class-wise indices of the Test Dataset\n",
    "indices = []\n",
    "for _ in range(10):\n",
    "    indices.append([])\n",
    "for ind, y in enumerate(y_test):\n",
    "    indices[y[0]].append(ind)\n",
    "\n",
    "# Creating list of lists values\n",
    "y_test_cls = []\n",
    "y_test_oh_cls = []\n",
    "preds_test_cls = []\n",
    "cls_test_cls = []\n",
    "\n",
    "for _ in range(10):\n",
    "    y_test_cls.append([])\n",
    "    y_test_oh_cls.append([])\n",
    "    preds_test_cls.append([])\n",
    "    cls_test_cls.append([])\n",
    "\n",
    "for ind, y in enumerate(y_test):\n",
    "    label = y[0]\n",
    "    y_test_cls[label].append(y_test[ind])\n",
    "    y_test_oh_cls[label].append(y_test_oh[ind])\n",
    "    preds_test_cls[label].append(preds_test[ind])\n",
    "    cls_test_cls[label].append(cls_test[ind])\n",
    "\n",
    "# Sanity Checks\n",
    "print(len(y_test_cls), len(y_test_oh_cls), len(preds_test_cls), len(cls_test_cls))\n",
    "print(len(y_test_cls[4]), len(y_test_oh_cls[3]), len(preds_test_cls[2]), len(cls_test_cls[1]))\n",
    "print(len(y_test_oh_cls[3][42]), len(y_test_oh_cls[5][49]))\n",
    "print()\n",
    "\n",
    "# Finding the Class-Wise Log-loss and Accuracy on the Test Set\n",
    "cls_wise_acc = []\n",
    "for i in range(10):\n",
    "    acc = accuracy_score(y_test_cls[i], cls_test_cls[i])\n",
    "    cls_wise_acc.append(acc)\n",
    "    print('For Class ', i)\n",
    "    print(\"Log-loss = \", log_loss(y_test_oh_cls[i], preds_test_cls[i]))\n",
    "    print(\"Accuracy = \", acc)\n",
    "    print()"
   ]
  },
  {
   "cell_type": "markdown",
   "id": "1a0292c3",
   "metadata": {
    "papermill": {
     "duration": 0.333305,
     "end_time": "2022-05-10T07:16:38.874130",
     "exception": false,
     "start_time": "2022-05-10T07:16:38.540825",
     "status": "completed"
    },
    "tags": []
   },
   "source": [
    "## 6.2. Augmenting the Train Dataset"
   ]
  },
  {
   "cell_type": "code",
   "execution_count": 22,
   "id": "7c7c31a5",
   "metadata": {
    "execution": {
     "iopub.execute_input": "2022-05-10T07:16:39.556639Z",
     "iopub.status.busy": "2022-05-10T07:16:39.554830Z",
     "iopub.status.idle": "2022-05-10T07:17:57.150940Z",
     "shell.execute_reply": "2022-05-10T07:17:57.151499Z",
     "shell.execute_reply.started": "2022-05-10T06:33:12.373332Z"
    },
    "papermill": {
     "duration": 77.948953,
     "end_time": "2022-05-10T07:17:57.151663",
     "exception": false,
     "start_time": "2022-05-10T07:16:39.202710",
     "status": "completed"
    },
    "tags": []
   },
   "outputs": [
    {
     "name": "stdout",
     "output_type": "stream",
     "text": [
      "Under-performing classes are:  [2, 3, 4, 5, 7]\n"
     ]
    },
    {
     "name": "stderr",
     "output_type": "stream",
     "text": [
      "100%|██████████| 4022/4022 [00:15<00:00, 258.27it/s]\n",
      "100%|██████████| 4116/4116 [00:16<00:00, 249.38it/s]\n",
      "100%|██████████| 4312/4312 [00:15<00:00, 275.14it/s]\n",
      "100%|██████████| 3952/3952 [00:14<00:00, 265.73it/s]\n",
      "100%|██████████| 3552/3552 [00:13<00:00, 261.73it/s]\n"
     ]
    },
    {
     "name": "stdout",
     "output_type": "stream",
     "text": [
      "(10074, 32, 32, 3) (10074, 1) (10074, 10)\n",
      "(50080, 32, 32, 3) (50080, 1) (50080, 10)\n",
      "(50080, 32, 32, 3) (50080, 1) (50080, 10)\n"
     ]
    }
   ],
   "source": [
    "# Creating a list of lists for storing the indices of data-points in the training dataset, class-wise\n",
    "classes_ind = []\n",
    "y_train_reshape = np.reshape(y_train, (-1))\n",
    "for i in range(10):\n",
    "    classes_ind.append([])\n",
    "for ind, clss in enumerate(y_train_reshape):\n",
    "    classes_ind[clss].append(ind)\n",
    "    \n",
    "# Creating a list for indices of images and their labels on which augmentation needs to be done\n",
    "# These are randomly chosen from each of the underperforming classes\n",
    "aug_ind = []\n",
    "y_train_aug = []\n",
    "\n",
    "# As for the under-performing classes, we will simply be choosing those classes having accuracy\n",
    "# less than 80%\n",
    "und_cls = [ind for ind, val in enumerate(cls_wise_acc) if val < 0.80]\n",
    "print(\"Under-performing classes are: \", und_cls)\n",
    "\n",
    "# Creating an empty list\n",
    "df_train_aug, y_train_aug = [], []\n",
    "\n",
    "# 50% Sampling\n",
    "for clas in und_cls:\n",
    "    for ind in tqdm(classes_ind[clas]):\n",
    "        if np.random.uniform() <= 0.5:\n",
    "            aug_image = data_augmentation(df_train[ind, : , : , : ])\n",
    "            df_train_aug.append(aug_image)\n",
    "            y_train_aug.append(y_train[ind])\n",
    "\n",
    "# Sanity Checks and Transformations\n",
    "df_train_aug = np.array(df_train_aug)\n",
    "y_train_aug = np.reshape(np.array(y_train_aug), (-1, 1))\n",
    "y_train_aug_oh = tf.one_hot(np.ravel(y_train_aug), depth = 10)\n",
    "print(df_train_aug.shape, y_train_aug.shape, y_train_aug_oh.shape)\n",
    "\n",
    "df_aug = np.concatenate([df_train, df_train_aug], axis = 0)\n",
    "y_aug = np.concatenate([y_train, y_train_aug], axis = 0)\n",
    "y_aug_oh = np.concatenate([y_train_oh, y_train_aug_oh], axis = 0)\n",
    "print(df_aug.shape, y_aug.shape, y_aug_oh.shape)\n",
    "\n",
    "# Creating a random permutation\n",
    "perm_aug = np.random.permutation(df_aug.shape[0])\n",
    "\n",
    "# Shuffling the augmented dataset\n",
    "df_aug = df_aug[perm_aug, : , : , : ]\n",
    "y_aug = y_aug[perm_aug]\n",
    "y_aug_oh = y_aug_oh[perm_aug, : ]\n",
    "print(df_aug.shape, y_aug.shape, y_aug_oh.shape)"
   ]
  },
  {
   "cell_type": "code",
   "execution_count": 23,
   "id": "8aab199f",
   "metadata": {
    "execution": {
     "iopub.execute_input": "2022-05-10T07:17:58.235754Z",
     "iopub.status.busy": "2022-05-10T07:17:58.232943Z",
     "iopub.status.idle": "2022-05-10T07:18:32.949673Z",
     "shell.execute_reply": "2022-05-10T07:18:32.949135Z",
     "shell.execute_reply.started": "2022-05-10T06:34:27.398855Z"
    },
    "papermill": {
     "duration": 35.263759,
     "end_time": "2022-05-10T07:18:32.949826",
     "exception": false,
     "start_time": "2022-05-10T07:17:57.686067",
     "status": "completed"
    },
    "tags": []
   },
   "outputs": [
    {
     "name": "stdout",
     "output_type": "stream",
     "text": [
      "(10074, 3072) (10074,)\n"
     ]
    }
   ],
   "source": [
    "# For saving purposes\n",
    "df_train_aug = pd.DataFrame(np.reshape(df_train_aug, (df_train_aug.shape[0], -1)))\n",
    "y_train_aug = pd.Series(np.squeeze(y_train_aug))\n",
    "print(df_train_aug.shape, y_train_aug.shape)\n",
    "\n",
    "# Saving the augmented images to a CSV file\n",
    "df_train_aug.to_csv(\"df_clsper_trad_aug.csv\", index = False)\n",
    "y_train_aug.to_csv(\"y_clsper_trad_aug.csv\", index = False)"
   ]
  },
  {
   "cell_type": "markdown",
   "id": "ed3138d5",
   "metadata": {
    "papermill": {
     "duration": 0.77337,
     "end_time": "2022-05-10T07:18:34.261272",
     "exception": false,
     "start_time": "2022-05-10T07:18:33.487902",
     "status": "completed"
    },
    "tags": []
   },
   "source": [
    "## 6.3. Training the Baseline Model on the Augmented Dataset"
   ]
  },
  {
   "cell_type": "code",
   "execution_count": 24,
   "id": "30406598",
   "metadata": {
    "_kg_hide-output": true,
    "execution": {
     "iopub.execute_input": "2022-05-10T07:18:35.335740Z",
     "iopub.status.busy": "2022-05-10T07:18:35.335002Z",
     "iopub.status.idle": "2022-05-10T07:18:37.499895Z",
     "shell.execute_reply": "2022-05-10T07:18:37.499419Z",
     "shell.execute_reply.started": "2022-05-10T06:35:01.692135Z"
    },
    "papermill": {
     "duration": 2.703047,
     "end_time": "2022-05-10T07:18:37.500038",
     "exception": false,
     "start_time": "2022-05-10T07:18:34.796991",
     "status": "completed"
    },
    "scrolled": true,
    "tags": []
   },
   "outputs": [],
   "source": [
    "# Importing the Baseline Model Architecture\n",
    "copyfile(src = \"../input/dcai-rw/baseline_arch.py\", dst = \"../working/baseline_arch.py\")\n",
    "from baseline_arch import cnn_model\n",
    "\n",
    "# Creating Batches from the Augmented Dataset\n",
    "train_dataset = tf.data.Dataset.from_tensor_slices((df_aug, y_aug_oh)).batch(32)"
   ]
  },
  {
   "cell_type": "code",
   "execution_count": 25,
   "id": "f57608eb",
   "metadata": {
    "_kg_hide-output": true,
    "execution": {
     "iopub.execute_input": "2022-05-10T07:18:38.618174Z",
     "iopub.status.busy": "2022-05-10T07:18:38.617290Z",
     "iopub.status.idle": "2022-05-10T07:18:38.771720Z",
     "shell.execute_reply": "2022-05-10T07:18:38.772169Z",
     "shell.execute_reply.started": "2022-05-10T06:35:03.907960Z"
    },
    "papermill": {
     "duration": 0.729174,
     "end_time": "2022-05-10T07:18:38.772342",
     "exception": false,
     "start_time": "2022-05-10T07:18:38.043168",
     "status": "completed"
    },
    "scrolled": true,
    "tags": []
   },
   "outputs": [],
   "source": [
    "# If the model has been pre-trained\n",
    "try:\n",
    "    conv_model = cnn_model((32, 32, 3))\n",
    "    conv_model.compile(optimizer='adam', loss='categorical_crossentropy', metrics='accuracy')\n",
    "    conv_model.load_weights(\"../input/dcai-rw/trad_augmented_cls_performance_wise.h5\")\n",
    "\n",
    "# If the model hasn't been pre-trained\n",
    "except:\n",
    "    num_epochs = [10, 20, 30, 40, 50]\n",
    "    train_loss, test_loss, train_acc, test_acc = [], [], [], []\n",
    "\n",
    "    for epochs in num_epochs:\n",
    "        # Training the Model\n",
    "        conv_model = cnn_model((32, 32, 3))\n",
    "        conv_model.compile(optimizer='adam', loss='categorical_crossentropy', metrics='accuracy')\n",
    "        conv_model.fit(train_dataset, epochs = epochs)\n",
    "\n",
    "        # Predicting on the Train/Test Datasets\n",
    "        preds_train = conv_model.predict(df_aug)\n",
    "        preds_test = conv_model.predict(df_test)\n",
    "\n",
    "        # Finding the Predicted Classes\n",
    "        cls_train = np.argmax(preds_train, axis = 1)\n",
    "        cls_test = np.argmax(preds_test, axis = 1)\n",
    "\n",
    "        # Finding the Train/Test set Loss\n",
    "        train_loss.append(log_loss(y_aug_oh, preds_train))\n",
    "        test_loss.append(log_loss(y_test_oh, preds_test))\n",
    "        train_acc.append(accuracy_score(y_aug, cls_train))\n",
    "        test_acc.append(accuracy_score(y_test, cls_test))\n",
    "\n",
    "        print(\"For \", epochs, \" Epochs:\")\n",
    "        print(\"Log-loss for Train Dataset = \", train_loss[-1])\n",
    "        print(\"Log-loss for Test Dataset = \", test_loss[-1])\n",
    "        print(\"Accuracy for Train Dataset = \", train_acc[-1])\n",
    "        print(\"Accuracy for Test Dataset = \", test_acc[-1])\n",
    "        print()\n",
    "    \n",
    "    # Training the Model with the best hyper-parameter settings\n",
    "    ind = np.argmax(test_acc)\n",
    "    best_num_epochs = num_epochs[ind]\n",
    "    conv_model = cnn_model((32, 32, 3))\n",
    "    conv_model.compile(optimizer='adam', loss='categorical_crossentropy', metrics='accuracy')\n",
    "    conv_model.fit(train_dataset, epochs = best_num_epochs)\n",
    "\n",
    "    # Saving the model along with it's weights\n",
    "    conv_model.save('trad_augmented_cls_performance_wise.h5')"
   ]
  },
  {
   "cell_type": "markdown",
   "id": "4cacf706",
   "metadata": {
    "papermill": {
     "duration": 0.53636,
     "end_time": "2022-05-10T07:18:39.850328",
     "exception": false,
     "start_time": "2022-05-10T07:18:39.313968",
     "status": "completed"
    },
    "tags": []
   },
   "source": [
    "## 6.4. Predicting the Performance"
   ]
  },
  {
   "cell_type": "code",
   "execution_count": 26,
   "id": "8ea9d4dc",
   "metadata": {
    "execution": {
     "iopub.execute_input": "2022-05-10T07:18:40.957234Z",
     "iopub.status.busy": "2022-05-10T07:18:40.956055Z",
     "iopub.status.idle": "2022-05-10T07:18:45.929674Z",
     "shell.execute_reply": "2022-05-10T07:18:45.930132Z",
     "shell.execute_reply.started": "2022-05-10T06:35:04.093048Z"
    },
    "papermill": {
     "duration": 5.543147,
     "end_time": "2022-05-10T07:18:45.930299",
     "exception": false,
     "start_time": "2022-05-10T07:18:40.387152",
     "status": "completed"
    },
    "tags": []
   },
   "outputs": [
    {
     "name": "stdout",
     "output_type": "stream",
     "text": [
      "Log-loss for Train Dataset =  0.32304853946186607\n",
      "Log-loss for Test Dataset =  0.7304292434155133\n",
      "Weighted F1 Score for Train Dataset =  0.890802220481868\n",
      "Weighted F1 Score for Test Dataset =  0.7727397749360685\n",
      "Accuracy for Train Dataset =  0.891194089456869\n",
      "Accuracy for Test Dataset =  0.7739\n"
     ]
    }
   ],
   "source": [
    "# Predicting on the Train/Test Datasets\n",
    "preds_train = conv_model.predict(df_aug)\n",
    "preds_test = conv_model.predict(df_test)\n",
    "\n",
    "# Finding the Predicted Classes\n",
    "cls_train = np.argmax(preds_train, axis = 1)\n",
    "cls_test = np.argmax(preds_test, axis = 1)\n",
    "\n",
    "# Finding the Train/Test set Loss\n",
    "print(\"Log-loss for Train Dataset = \", log_loss(y_aug_oh, preds_train))\n",
    "print(\"Log-loss for Test Dataset = \", log_loss(y_test_oh, preds_test))\n",
    "print(\"Weighted F1 Score for Train Dataset = \", f1_score(y_aug, cls_train, average = 'weighted'))\n",
    "print(\"Weighted F1 Score for Test Dataset = \", f1_score(y_test, cls_test, average = 'weighted'))\n",
    "print(\"Accuracy for Train Dataset = \", accuracy_score(y_aug, cls_train))\n",
    "print(\"Accuracy for Test Dataset = \", accuracy_score(y_test, cls_test))"
   ]
  }
 ],
 "metadata": {
  "kernelspec": {
   "display_name": "Python 3",
   "language": "python",
   "name": "python3"
  },
  "language_info": {
   "codemirror_mode": {
    "name": "ipython",
    "version": 3
   },
   "file_extension": ".py",
   "mimetype": "text/x-python",
   "name": "python",
   "nbconvert_exporter": "python",
   "pygments_lexer": "ipython3",
   "version": "3.7.12"
  },
  "papermill": {
   "default_parameters": {},
   "duration": 368.886803,
   "end_time": "2022-05-10T07:18:49.522660",
   "environment_variables": {},
   "exception": null,
   "input_path": "__notebook__.ipynb",
   "output_path": "__notebook__.ipynb",
   "parameters": {},
   "start_time": "2022-05-10T07:12:40.635857",
   "version": "2.3.3"
  }
 },
 "nbformat": 4,
 "nbformat_minor": 5
}
