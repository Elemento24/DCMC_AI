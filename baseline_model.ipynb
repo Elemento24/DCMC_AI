{
 "cells": [
  {
   "cell_type": "markdown",
   "id": "f1bbb1e1",
   "metadata": {
    "_cell_guid": "b1076dfc-b9ad-4769-8c92-a6c4dae69d19",
    "_uuid": "8f2839f25d086af736a60e9eeb907d3b93b6e0e5",
    "papermill": {
     "duration": 0.016411,
     "end_time": "2022-05-09T17:46:23.781761",
     "exception": false,
     "start_time": "2022-05-09T17:46:23.765350",
     "status": "completed"
    },
    "tags": []
   },
   "source": [
    "# Baseline Model\n",
    "- We will be using the processed CIFAR-10 dataset to train a baseline CNN model.\n",
    "- In the baseline model, we will be using the labelled dataset only, and will be testing the model on the test dataset.\n",
    "- I have also tried a little bit of hyper-parameter tuning in this kernel, regarding the architecture of CNN model, #epochs, etc.\n",
    "- The hyper-parameter tuning regarding the **#epochs** is fixed and carried out similarly in all the kernels. We have tried **[10, 20, 30, 40, 50]** epochs, and for the final model, selected the setting (#epochs) with the largest test accuracy. \n",
    "- There is one slight catch with this kernel. With the GPU, it is not possible to produce 100% reproducible results, even after setting the seeds of all the libraries used. For reference, check this [kernel](https://www.kaggle.com/lbronchal/keras-gpu-cpu-reproducibility-test) out."
   ]
  },
  {
   "cell_type": "markdown",
   "id": "78d9dbbd",
   "metadata": {
    "papermill": {
     "duration": 0.015058,
     "end_time": "2022-05-09T17:46:23.813554",
     "exception": false,
     "start_time": "2022-05-09T17:46:23.798496",
     "status": "completed"
    },
    "tags": []
   },
   "source": [
    "# 1. Importing the Packages & Boilerplate Code"
   ]
  },
  {
   "cell_type": "code",
   "execution_count": 1,
   "id": "8c315a85",
   "metadata": {
    "execution": {
     "iopub.execute_input": "2022-05-09T17:46:23.854857Z",
     "iopub.status.busy": "2022-05-09T17:46:23.854088Z",
     "iopub.status.idle": "2022-05-09T17:46:29.751331Z",
     "shell.execute_reply": "2022-05-09T17:46:29.750313Z",
     "shell.execute_reply.started": "2022-05-09T17:44:54.108420Z"
    },
    "papermill": {
     "duration": 5.922907,
     "end_time": "2022-05-09T17:46:29.751502",
     "exception": false,
     "start_time": "2022-05-09T17:46:23.828595",
     "status": "completed"
    },
    "tags": []
   },
   "outputs": [],
   "source": [
    "import os\n",
    "import sys\n",
    "import random\n",
    "import numpy as np\n",
    "import pandas as pd\n",
    "import matplotlib.pyplot as plt\n",
    "\n",
    "from tqdm import tqdm\n",
    "from tabulate import tabulate\n",
    "from sklearn.metrics import accuracy_score, log_loss, f1_score\n",
    "\n",
    "# https://www.kaggle.com/c/ventilator-pressure-prediction/discussion/274717\n",
    "os.environ['TF_CPP_MIN_LOG_LEVEL'] = '3' \n",
    "\n",
    "import tensorflow as tf\n",
    "import tensorflow.keras.layers as tfl"
   ]
  },
  {
   "cell_type": "code",
   "execution_count": 2,
   "id": "6f7c768f",
   "metadata": {
    "execution": {
     "iopub.execute_input": "2022-05-09T17:46:29.786257Z",
     "iopub.status.busy": "2022-05-09T17:46:29.785441Z",
     "iopub.status.idle": "2022-05-09T17:46:29.787760Z",
     "shell.execute_reply": "2022-05-09T17:46:29.787367Z",
     "shell.execute_reply.started": "2022-05-09T17:44:56.020643Z"
    },
    "papermill": {
     "duration": 0.021153,
     "end_time": "2022-05-09T17:46:29.787864",
     "exception": false,
     "start_time": "2022-05-09T17:46:29.766711",
     "status": "completed"
    },
    "tags": []
   },
   "outputs": [],
   "source": [
    "# Setting the seeds\n",
    "SEED = 0\n",
    "os.environ['PYTHONHASHSEED']=str(SEED)\n",
    "random.seed(SEED)\n",
    "np.random.seed(SEED)\n",
    "tf.random.set_seed(SEED)"
   ]
  },
  {
   "cell_type": "code",
   "execution_count": 3,
   "id": "516c41a1",
   "metadata": {
    "execution": {
     "iopub.execute_input": "2022-05-09T17:46:32.236687Z",
     "iopub.status.busy": "2022-05-09T17:46:32.235877Z",
     "iopub.status.idle": "2022-05-09T17:46:32.239153Z",
     "shell.execute_reply": "2022-05-09T17:46:32.239557Z",
     "shell.execute_reply.started": "2022-05-09T17:44:56.027323Z"
    },
    "papermill": {
     "duration": 2.437134,
     "end_time": "2022-05-09T17:46:32.239695",
     "exception": false,
     "start_time": "2022-05-09T17:46:29.802561",
     "status": "completed"
    },
    "tags": []
   },
   "outputs": [
    {
     "name": "stdout",
     "output_type": "stream",
     "text": [
      "Found GPU at: /device:GPU:0\n"
     ]
    }
   ],
   "source": [
    "# Making sure that Tensorflow is able to detect the GPU\n",
    "device_name = tf.test.gpu_device_name()\n",
    "if \"GPU\" not in device_name:\n",
    "    print(\"GPU device not found\")\n",
    "print('Found GPU at: {}'.format(device_name))"
   ]
  },
  {
   "cell_type": "code",
   "execution_count": 4,
   "id": "9d6ede2a",
   "metadata": {
    "execution": {
     "iopub.execute_input": "2022-05-09T17:46:32.278654Z",
     "iopub.status.busy": "2022-05-09T17:46:32.277108Z",
     "iopub.status.idle": "2022-05-09T17:46:32.279279Z",
     "shell.execute_reply": "2022-05-09T17:46:32.279685Z",
     "shell.execute_reply.started": "2022-05-09T17:44:56.692773Z"
    },
    "papermill": {
     "duration": 0.024584,
     "end_time": "2022-05-09T17:46:32.279808",
     "exception": false,
     "start_time": "2022-05-09T17:46:32.255224",
     "status": "completed"
    },
    "tags": []
   },
   "outputs": [],
   "source": [
    "# These are the usual ipython objects\n",
    "ipython_vars = ['In', 'Out', 'exit', 'quit', 'get_ipython', 'ipython_vars']\n",
    "\n",
    "# Defining a function to list the memory consumed\n",
    "# Only outputs variables taking at least 1MB space\n",
    "def list_storage(inp_dir):\n",
    "    # Get a sorted list of the objects and their sizes\n",
    "    vars_defined = [x for x in inp_dir if not x.startswith('_') and x not in sys.modules and x not in ipython_vars]\n",
    "    sto = sorted([(x, sys.getsizeof(globals().get(x))) for x in vars_defined], key=lambda x: x[1], reverse=True)\n",
    "    sto = [(x[0], str(round((x[1] / 2**20), 2)) + ' MB') for x in sto if x[1] >= 2**20]\n",
    "    print(tabulate(sto, headers = ['Variable', 'Storage (in MB)']))\n",
    "\n",
    "# In order to use this function, use the below line of code\n",
    "# list_storage(dir())"
   ]
  },
  {
   "cell_type": "markdown",
   "id": "1497415c",
   "metadata": {
    "papermill": {
     "duration": 0.015007,
     "end_time": "2022-05-09T17:46:32.309877",
     "exception": false,
     "start_time": "2022-05-09T17:46:32.294870",
     "status": "completed"
    },
    "tags": []
   },
   "source": [
    "# 2. Data Exploration"
   ]
  },
  {
   "cell_type": "code",
   "execution_count": 5,
   "id": "10be32e9",
   "metadata": {
    "execution": {
     "iopub.execute_input": "2022-05-09T17:46:32.347211Z",
     "iopub.status.busy": "2022-05-09T17:46:32.346702Z",
     "iopub.status.idle": "2022-05-09T17:46:54.411341Z",
     "shell.execute_reply": "2022-05-09T17:46:54.411819Z",
     "shell.execute_reply.started": "2022-05-09T17:44:56.701839Z"
    },
    "papermill": {
     "duration": 22.086752,
     "end_time": "2022-05-09T17:46:54.411972",
     "exception": false,
     "start_time": "2022-05-09T17:46:32.325220",
     "status": "completed"
    },
    "tags": []
   },
   "outputs": [
    {
     "name": "stdout",
     "output_type": "stream",
     "text": [
      "(40006, 3072) (40006, 1)\n",
      "(40006, 3, 32, 32)\n",
      "[0]\n"
     ]
    },
    {
     "data": {
      "image/png": "[encoded data removed]",
      "text/plain": [
       "<Figure size 108x108 with 1 Axes>"
      ]
     },
     "metadata": {
      "needs_background": "light"
     },
     "output_type": "display_data"
    }
   ],
   "source": [
    "# Importing the Labelled Dataset\n",
    "df_train = pd.read_csv(\"../input/cifar10/train_lab_x.csv\")\n",
    "y_train = pd.read_csv(\"../input/cifar10/train_lab_y.csv\")\n",
    "df_train = np.array(df_train)\n",
    "y_train = np.array(y_train)\n",
    "print(df_train.shape, y_train.shape)\n",
    "\n",
    "# Reshaping the dataset\n",
    "df_train = np.reshape(df_train, (-1, 3, 32, 32))\n",
    "print(df_train.shape)\n",
    "\n",
    "# Visualizing a single image\n",
    "ind = 11\n",
    "example = df_train[ind, : , : , : ]\n",
    "example = example.transpose((1, 2, 0))\n",
    "plt.figure(figsize=(1.5, 1.5))\n",
    "plt.imshow(example)\n",
    "print(y_train[ind])"
   ]
  },
  {
   "cell_type": "markdown",
   "id": "a43cf16f",
   "metadata": {
    "papermill": {
     "duration": 0.016353,
     "end_time": "2022-05-09T17:46:54.445540",
     "exception": false,
     "start_time": "2022-05-09T17:46:54.429187",
     "status": "completed"
    },
    "tags": []
   },
   "source": [
    "# 3. Basic Pre-processing"
   ]
  },
  {
   "cell_type": "code",
   "execution_count": 6,
   "id": "d4d0db48",
   "metadata": {
    "execution": {
     "iopub.execute_input": "2022-05-09T17:46:54.486930Z",
     "iopub.status.busy": "2022-05-09T17:46:54.485915Z",
     "iopub.status.idle": "2022-05-09T17:46:56.897812Z",
     "shell.execute_reply": "2022-05-09T17:46:56.898750Z",
     "shell.execute_reply.started": "2022-05-09T17:45:15.324067Z"
    },
    "papermill": {
     "duration": 2.435209,
     "end_time": "2022-05-09T17:46:56.898954",
     "exception": false,
     "start_time": "2022-05-09T17:46:54.463745",
     "status": "completed"
    },
    "tags": []
   },
   "outputs": [
    {
     "name": "stdout",
     "output_type": "stream",
     "text": [
      "(40006, 32, 32, 3) (40006, 10)\n"
     ]
    }
   ],
   "source": [
    "# Creating a random permutation\n",
    "perm = np.random.permutation(df_train.shape[0])\n",
    "\n",
    "# Shuffling the training dataset\n",
    "df_train = df_train[perm, : , : , : ]\n",
    "y_train = y_train[perm]\n",
    "\n",
    "# Reshaping, rescaling and one-hot encoding\n",
    "df_train = np.transpose(np.array(df_train), (0, 2, 3, 1))\n",
    "df_train = df_train / 255\n",
    "y_train_oh = tf.one_hot(np.ravel(y_train), depth = 10)\n",
    "\n",
    "print(df_train.shape, y_train_oh.shape)"
   ]
  },
  {
   "cell_type": "markdown",
   "id": "e0578242",
   "metadata": {
    "papermill": {
     "duration": 0.016326,
     "end_time": "2022-05-09T17:46:56.932651",
     "exception": false,
     "start_time": "2022-05-09T17:46:56.916325",
     "status": "completed"
    },
    "tags": []
   },
   "source": [
    "# 4. Creating the Model"
   ]
  },
  {
   "cell_type": "code",
   "execution_count": 7,
   "id": "962e86ba",
   "metadata": {
    "execution": {
     "iopub.execute_input": "2022-05-09T17:46:56.976456Z",
     "iopub.status.busy": "2022-05-09T17:46:56.975670Z",
     "iopub.status.idle": "2022-05-09T17:46:56.977638Z",
     "shell.execute_reply": "2022-05-09T17:46:56.978062Z",
     "shell.execute_reply.started": "2022-05-09T17:45:17.820638Z"
    },
    "papermill": {
     "duration": 0.029082,
     "end_time": "2022-05-09T17:46:56.978188",
     "exception": false,
     "start_time": "2022-05-09T17:46:56.949106",
     "status": "completed"
    },
    "tags": []
   },
   "outputs": [],
   "source": [
    "def cnn_model(input_shape):\n",
    "    input_img = tf.keras.Input(shape = input_shape)\n",
    "    \n",
    "    Z1 = tfl.Conv2D(16, kernel_size=3, strides=1, padding='same', activation='relu')(input_img)\n",
    "    B1 = tfl.BatchNormalization(axis=-1)(Z1)\n",
    "    Z2 = tfl.Conv2D(16, kernel_size=3, strides=1, padding='same', activation='relu')(B1)\n",
    "    B2 = tfl.BatchNormalization(axis=-1)(Z2)\n",
    "    P1 = tfl.MaxPool2D(pool_size=2, strides=2, padding='valid')(B2)\n",
    "    D1 = tfl.Dropout(0.25)(P1)\n",
    "    # (16, 16, 16)\n",
    "    \n",
    "    Z3 = tfl.Conv2D(32, kernel_size=2, strides=1, padding='valid', activation='relu')(D1)\n",
    "    B3 = tfl.BatchNormalization(axis=-1)(Z3)\n",
    "    Z4 = tfl.Conv2D(32, kernel_size=2, strides=1, padding='valid', activation='relu')(B3)\n",
    "    B4 = tfl.BatchNormalization(axis=-1)(Z4)\n",
    "    P2 = tfl.MaxPool2D(pool_size=2, strides=2, padding='valid')(B4)\n",
    "    D2 = tfl.Dropout(0.25)(P2)\n",
    "    # (7, 7, 32)\n",
    "    \n",
    "    F1 = tfl.Flatten()(D2)\n",
    "    Den1 = tfl.Dense(256, activation='relu')(F1)\n",
    "    Drop1 = tfl.Dropout(0.25)(Den1)\n",
    "    Den2 = tfl.Dense(64, activation='relu')(Drop1)\n",
    "    Drop2 = tfl.Dropout(0.25)(Den2)\n",
    "    outputs = tfl.Dense(10, activation='softmax')(Drop2)\n",
    "    \n",
    "    model = tf.keras.Model(inputs = input_img, outputs = outputs)\n",
    "    return model"
   ]
  },
  {
   "cell_type": "markdown",
   "id": "51a66d05",
   "metadata": {
    "papermill": {
     "duration": 0.016231,
     "end_time": "2022-05-09T17:46:57.011196",
     "exception": false,
     "start_time": "2022-05-09T17:46:56.994965",
     "status": "completed"
    },
    "tags": []
   },
   "source": [
    "# 5. Compiling, Training, Hyperparameter-Tuning and Evaluating the Model\n",
    "## 5.1. Compiling the Model & Datasets"
   ]
  },
  {
   "cell_type": "code",
   "execution_count": 8,
   "id": "3e30e88f",
   "metadata": {
    "_kg_hide-output": true,
    "execution": {
     "iopub.execute_input": "2022-05-09T17:46:57.048718Z",
     "iopub.status.busy": "2022-05-09T17:46:57.048201Z",
     "iopub.status.idle": "2022-05-09T17:46:57.208454Z",
     "shell.execute_reply": "2022-05-09T17:46:57.207757Z",
     "shell.execute_reply.started": "2022-05-09T17:45:17.837521Z"
    },
    "papermill": {
     "duration": 0.180473,
     "end_time": "2022-05-09T17:46:57.208580",
     "exception": false,
     "start_time": "2022-05-09T17:46:57.028107",
     "status": "completed"
    },
    "scrolled": true,
    "tags": []
   },
   "outputs": [
    {
     "name": "stdout",
     "output_type": "stream",
     "text": [
      "Model: \"model\"\n",
      "_________________________________________________________________\n",
      "Layer (type)                 Output Shape              Param #   \n",
      "=================================================================\n",
      "input_1 (InputLayer)         [(None, 32, 32, 3)]       0         \n",
      "_________________________________________________________________\n",
      "conv2d (Conv2D)              (None, 32, 32, 16)        448       \n",
      "_________________________________________________________________\n",
      "batch_normalization (BatchNo (None, 32, 32, 16)        64        \n",
      "_________________________________________________________________\n",
      "conv2d_1 (Conv2D)            (None, 32, 32, 16)        2320      \n",
      "_________________________________________________________________\n",
      "batch_normalization_1 (Batch (None, 32, 32, 16)        64        \n",
      "_________________________________________________________________\n",
      "max_pooling2d (MaxPooling2D) (None, 16, 16, 16)        0         \n",
      "_________________________________________________________________\n",
      "dropout (Dropout)            (None, 16, 16, 16)        0         \n",
      "_________________________________________________________________\n",
      "conv2d_2 (Conv2D)            (None, 15, 15, 32)        2080      \n",
      "_________________________________________________________________\n",
      "batch_normalization_2 (Batch (None, 15, 15, 32)        128       \n",
      "_________________________________________________________________\n",
      "conv2d_3 (Conv2D)            (None, 14, 14, 32)        4128      \n",
      "_________________________________________________________________\n",
      "batch_normalization_3 (Batch (None, 14, 14, 32)        128       \n",
      "_________________________________________________________________\n",
      "max_pooling2d_1 (MaxPooling2 (None, 7, 7, 32)          0         \n",
      "_________________________________________________________________\n",
      "dropout_1 (Dropout)          (None, 7, 7, 32)          0         \n",
      "_________________________________________________________________\n",
      "flatten (Flatten)            (None, 1568)              0         \n",
      "_________________________________________________________________\n",
      "dense (Dense)                (None, 256)               401664    \n",
      "_________________________________________________________________\n",
      "dropout_2 (Dropout)          (None, 256)               0         \n",
      "_________________________________________________________________\n",
      "dense_1 (Dense)              (None, 64)                16448     \n",
      "_________________________________________________________________\n",
      "dropout_3 (Dropout)          (None, 64)                0         \n",
      "_________________________________________________________________\n",
      "dense_2 (Dense)              (None, 10)                650       \n",
      "=================================================================\n",
      "Total params: 428,122\n",
      "Trainable params: 427,930\n",
      "Non-trainable params: 192\n",
      "_________________________________________________________________\n"
     ]
    }
   ],
   "source": [
    "conv_model = cnn_model((32, 32, 3))\n",
    "conv_model.compile(optimizer='adam', loss='categorical_crossentropy', metrics='accuracy')\n",
    "conv_model.summary()"
   ]
  },
  {
   "cell_type": "code",
   "execution_count": 9,
   "id": "d724e93a",
   "metadata": {
    "_kg_hide-output": true,
    "execution": {
     "iopub.execute_input": "2022-05-09T17:46:57.254335Z",
     "iopub.status.busy": "2022-05-09T17:46:57.253413Z",
     "iopub.status.idle": "2022-05-09T17:47:04.762844Z",
     "shell.execute_reply": "2022-05-09T17:47:04.763531Z",
     "shell.execute_reply.started": "2022-05-09T17:45:17.979338Z"
    },
    "papermill": {
     "duration": 7.536172,
     "end_time": "2022-05-09T17:47:04.763742",
     "exception": false,
     "start_time": "2022-05-09T17:46:57.227570",
     "status": "completed"
    },
    "scrolled": true,
    "tags": []
   },
   "outputs": [
    {
     "name": "stdout",
     "output_type": "stream",
     "text": [
      "(10000, 3072) (10000, 1)\n",
      "(10000, 3, 32, 32)\n",
      "(10000, 32, 32, 3) (10000, 10)\n"
     ]
    }
   ],
   "source": [
    "# Composing the Train Dataset\n",
    "train_dataset = tf.data.Dataset.from_tensor_slices((df_train, y_train_oh)).batch(32)\n",
    "\n",
    "# Importing the Test Dataset\n",
    "df_test = pd.read_csv(\"../input/cifar10/test_x.csv\")\n",
    "y_test = pd.read_csv(\"../input/cifar10/test_y.csv\")\n",
    "df_test = np.array(df_test)\n",
    "y_test = np.array(y_test)\n",
    "print(df_test.shape, y_test.shape)\n",
    "\n",
    "# Reshaping the dataset\n",
    "df_test = np.reshape(df_test, (-1, 3, 32, 32))\n",
    "print(df_test.shape)\n",
    "\n",
    "# Reshaping, rescaling and one-hot encoding\n",
    "df_test = np.transpose(np.array(df_test), (0, 2, 3, 1))\n",
    "df_test = df_test / 255\n",
    "y_test_oh = tf.one_hot(np.ravel(y_test), depth = 10)\n",
    "print(df_test.shape, y_test_oh.shape)"
   ]
  },
  {
   "cell_type": "markdown",
   "id": "79727909",
   "metadata": {
    "papermill": {
     "duration": 0.019662,
     "end_time": "2022-05-09T17:47:04.804509",
     "exception": false,
     "start_time": "2022-05-09T17:47:04.784847",
     "status": "completed"
    },
    "tags": []
   },
   "source": [
    "## 5.2. Training & Hyperparameter-Tuning for the Model"
   ]
  },
  {
   "cell_type": "code",
   "execution_count": 10,
   "id": "e9bdeb35",
   "metadata": {
    "_kg_hide-output": true,
    "execution": {
     "iopub.execute_input": "2022-05-09T17:47:04.859270Z",
     "iopub.status.busy": "2022-05-09T17:47:04.852114Z",
     "iopub.status.idle": "2022-05-09T17:47:05.022515Z",
     "shell.execute_reply": "2022-05-09T17:47:05.021619Z",
     "shell.execute_reply.started": "2022-05-09T17:45:25.055813Z"
    },
    "papermill": {
     "duration": 0.198447,
     "end_time": "2022-05-09T17:47:05.022659",
     "exception": false,
     "start_time": "2022-05-09T17:47:04.824212",
     "status": "completed"
    },
    "scrolled": true,
    "tags": []
   },
   "outputs": [],
   "source": [
    "# If the model has been pre-trained\n",
    "try:\n",
    "    conv_model = cnn_model((32, 32, 3))\n",
    "    conv_model.compile(optimizer='adam', loss='categorical_crossentropy', metrics='accuracy')\n",
    "    conv_model.load_weights(\"../input/dcai-rw/baseline_model.h5\")\n",
    "\n",
    "# If the model hasn't been pre-trained\n",
    "except:\n",
    "    num_epochs = [10, 20, 30, 40, 50]\n",
    "    train_loss, test_loss, train_acc, test_acc = [], [], [], []\n",
    "\n",
    "    for epochs in num_epochs:\n",
    "        # Training the Model\n",
    "        conv_model = cnn_model((32, 32, 3))\n",
    "        conv_model.compile(optimizer='adam', loss='categorical_crossentropy', metrics='accuracy')\n",
    "        conv_model.fit(train_dataset, epochs = epochs)\n",
    "\n",
    "        # Predicting on the Train/Test Datasets\n",
    "        preds_train = conv_model.predict(df_train)\n",
    "        preds_test = conv_model.predict(df_test)\n",
    "\n",
    "        # Finding the Predicted Classes\n",
    "        cls_train = np.argmax(preds_train, axis = 1)\n",
    "        cls_test = np.argmax(preds_test, axis = 1)\n",
    "\n",
    "        # Finding the Train/Test set Loss\n",
    "        train_loss.append(log_loss(y_train_oh, preds_train))\n",
    "        test_loss.append(log_loss(y_test_oh, preds_test))\n",
    "        train_acc.append(accuracy_score(y_train, cls_train))\n",
    "        test_acc.append(accuracy_score(y_test, cls_test))\n",
    "\n",
    "        print(\"For \", epochs, \" Epochs:\")\n",
    "        print(\"Log-loss for Train Dataset = \", train_loss[-1])\n",
    "        print(\"Log-loss for Test Dataset = \", test_loss[-1])\n",
    "        print(\"Accuracy for Train Dataset = \", train_acc[-1])\n",
    "        print(\"Accuracy for Test Dataset = \", test_acc[-1])\n",
    "        print()\n",
    "    \n",
    "    # Training the Model with the best hyper-parameter settings\n",
    "    ind = np.argmax(test_acc)\n",
    "    best_num_epochs = num_epochs[ind]\n",
    "    conv_model = cnn_model((32, 32, 3))\n",
    "    conv_model.compile(optimizer='adam', loss='categorical_crossentropy', metrics='accuracy')\n",
    "    conv_model.fit(train_dataset, epochs = best_num_epochs)\n",
    "\n",
    "    # Saving the model along with it's weights\n",
    "    conv_model.save('baseline_model.h5')"
   ]
  },
  {
   "cell_type": "markdown",
   "id": "06284a76",
   "metadata": {
    "papermill": {
     "duration": 0.01905,
     "end_time": "2022-05-09T17:47:05.061461",
     "exception": false,
     "start_time": "2022-05-09T17:47:05.042411",
     "status": "completed"
    },
    "tags": []
   },
   "source": [
    "## 5.3. Evaluating/Inferencing on the Train/Test Sets"
   ]
  },
  {
   "cell_type": "code",
   "execution_count": 11,
   "id": "1aea9ff2",
   "metadata": {
    "execution": {
     "iopub.execute_input": "2022-05-09T17:47:05.105203Z",
     "iopub.status.busy": "2022-05-09T17:47:05.104361Z",
     "iopub.status.idle": "2022-05-09T17:47:17.438057Z",
     "shell.execute_reply": "2022-05-09T17:47:17.438549Z",
     "shell.execute_reply.started": "2022-05-09T17:45:25.251939Z"
    },
    "papermill": {
     "duration": 12.358028,
     "end_time": "2022-05-09T17:47:17.438725",
     "exception": false,
     "start_time": "2022-05-09T17:47:05.080697",
     "status": "completed"
    },
    "tags": []
   },
   "outputs": [],
   "source": [
    "# Predicting on the Train/Test Datasets\n",
    "preds_train = conv_model.predict(df_train)\n",
    "preds_test = conv_model.predict(df_test)\n",
    "\n",
    "# Finding the Predicted Classes\n",
    "cls_train = np.argmax(preds_train, axis = 1)\n",
    "cls_test = np.argmax(preds_test, axis = 1)"
   ]
  },
  {
   "cell_type": "code",
   "execution_count": 12,
   "id": "8374ccf4",
   "metadata": {
    "execution": {
     "iopub.execute_input": "2022-05-09T17:47:17.483326Z",
     "iopub.status.busy": "2022-05-09T17:47:17.482726Z",
     "iopub.status.idle": "2022-05-09T17:47:17.585457Z",
     "shell.execute_reply": "2022-05-09T17:47:17.586144Z",
     "shell.execute_reply.started": "2022-05-09T17:45:30.604035Z"
    },
    "papermill": {
     "duration": 0.12757,
     "end_time": "2022-05-09T17:47:17.586354",
     "exception": false,
     "start_time": "2022-05-09T17:47:17.458784",
     "status": "completed"
    },
    "tags": []
   },
   "outputs": [
    {
     "name": "stdout",
     "output_type": "stream",
     "text": [
      "Log-loss for Train Dataset =  0.07668840324139689\n",
      "Log-loss for Test Dataset =  0.780156585093371\n",
      "Weighted F1 Score for Train Dataset =  0.9808037008857216\n",
      "Weighted F1 Score for Test Dataset =  0.7805332999350915\n",
      "Accuracy for Train Dataset =  0.9808528720691896\n",
      "Accuracy for Test Dataset =  0.7822\n"
     ]
    }
   ],
   "source": [
    "# Finding the Train/Test set Loss\n",
    "print(\"Log-loss for Train Dataset = \", log_loss(y_train_oh, preds_train))\n",
    "print(\"Log-loss for Test Dataset = \", log_loss(y_test_oh, preds_test))\n",
    "print(\"Weighted F1 Score for Train Dataset = \", f1_score(y_train, cls_train, average = 'weighted'))\n",
    "print(\"Weighted F1 Score for Test Dataset = \", f1_score(y_test, cls_test, average = 'weighted'))\n",
    "print(\"Accuracy for Train Dataset = \", accuracy_score(y_train, cls_train))\n",
    "print(\"Accuracy for Test Dataset = \", accuracy_score(y_test, cls_test))"
   ]
  }
 ],
 "metadata": {
  "kernelspec": {
   "display_name": "Python 3",
   "language": "python",
   "name": "python3"
  },
  "language_info": {
   "codemirror_mode": {
    "name": "ipython",
    "version": 3
   },
   "file_extension": ".py",
   "mimetype": "text/x-python",
   "name": "python",
   "nbconvert_exporter": "python",
   "pygments_lexer": "ipython3",
   "version": "3.7.12"
  },
  "papermill": {
   "default_parameters": {},
   "duration": 65.329914,
   "end_time": "2022-05-09T17:47:20.850934",
   "environment_variables": {},
   "exception": null,
   "input_path": "__notebook__.ipynb",
   "output_path": "__notebook__.ipynb",
   "parameters": {},
   "start_time": "2022-05-09T17:46:15.521020",
   "version": "2.3.3"
  }
 },
 "nbformat": 4,
 "nbformat_minor": 5
}
