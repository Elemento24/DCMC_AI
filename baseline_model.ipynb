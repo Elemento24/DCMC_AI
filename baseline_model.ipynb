{
 "cells": [
  {
   "cell_type": "markdown",
   "id": "0b622f36",
   "metadata": {
    "_cell_guid": "b1076dfc-b9ad-4769-8c92-a6c4dae69d19",
    "_uuid": "8f2839f25d086af736a60e9eeb907d3b93b6e0e5",
    "papermill": {
     "duration": 0.032804,
     "end_time": "2022-04-06T18:04:51.707100",
     "exception": false,
     "start_time": "2022-04-06T18:04:51.674296",
     "status": "completed"
    },
    "tags": []
   },
   "source": [
    "# Baseline Model\n",
    "- We will be using the processed CIFAR-10 dataset to train a baseline CNN model.\n",
    "- In the baseline model, we will be using the labelled dataset only, and will be testing the model on the test dataset.\n",
    "- I have also tried a little bit of hyper-parameter tuning in this kernel, regarding the architecture of CNN model, #epochs, etc.\n",
    "- The hyper-parameter tuning regarding the **#epochs** is fixed and carried out similarly in all the kernels. We have tried **[10, 20, 30, 40, 50]** epochs, and for the final model, selected the setting (#epochs) with the largest test accuracy. \n",
    "- There is one slight catch with this kernel. With the GPU, it is not possible to produce 100% reproducible results, even after setting the seeds of all the libraries used. For reference, check this [kernel](https://www.kaggle.com/lbronchal/keras-gpu-cpu-reproducibility-test) out."
   ]
  },
  {
   "cell_type": "markdown",
   "id": "163a5e74",
   "metadata": {
    "papermill": {
     "duration": 0.018241,
     "end_time": "2022-04-06T18:04:51.756903",
     "exception": false,
     "start_time": "2022-04-06T18:04:51.738662",
     "status": "completed"
    },
    "tags": []
   },
   "source": [
    "# 1. Importing the Packages & Boilerplate Code"
   ]
  },
  {
   "cell_type": "code",
   "execution_count": 1,
   "id": "1324d8ec",
   "metadata": {
    "execution": {
     "iopub.execute_input": "2022-04-06T18:04:51.800219Z",
     "iopub.status.busy": "2022-04-06T18:04:51.796554Z",
     "iopub.status.idle": "2022-04-06T18:04:57.609146Z",
     "shell.execute_reply": "2022-04-06T18:04:57.608294Z",
     "shell.execute_reply.started": "2022-04-06T17:58:31.233692Z"
    },
    "papermill": {
     "duration": 5.835195,
     "end_time": "2022-04-06T18:04:57.609309",
     "exception": false,
     "start_time": "2022-04-06T18:04:51.774114",
     "status": "completed"
    },
    "tags": []
   },
   "outputs": [],
   "source": [
    "import os\n",
    "import sys\n",
    "import random\n",
    "import numpy as np\n",
    "import pandas as pd\n",
    "import matplotlib.pyplot as plt\n",
    "\n",
    "from tqdm import tqdm\n",
    "from tabulate import tabulate\n",
    "from sklearn.metrics import accuracy_score, log_loss\n",
    "\n",
    "# https://www.kaggle.com/c/ventilator-pressure-prediction/discussion/274717\n",
    "os.environ['TF_CPP_MIN_LOG_LEVEL'] = '3' \n",
    "\n",
    "import tensorflow as tf\n",
    "import tensorflow.keras.layers as tfl"
   ]
  },
  {
   "cell_type": "code",
   "execution_count": 2,
   "id": "43546a8d",
   "metadata": {
    "execution": {
     "iopub.execute_input": "2022-04-06T18:04:57.649185Z",
     "iopub.status.busy": "2022-04-06T18:04:57.647307Z",
     "iopub.status.idle": "2022-04-06T18:04:57.649857Z",
     "shell.execute_reply": "2022-04-06T18:04:57.650288Z",
     "shell.execute_reply.started": "2022-04-06T17:58:36.750311Z"
    },
    "papermill": {
     "duration": 0.024694,
     "end_time": "2022-04-06T18:04:57.650465",
     "exception": false,
     "start_time": "2022-04-06T18:04:57.625771",
     "status": "completed"
    },
    "tags": []
   },
   "outputs": [],
   "source": [
    "# Setting the seeds\n",
    "SEED = 0\n",
    "os.environ['PYTHONHASHSEED']=str(SEED)\n",
    "random.seed(SEED)\n",
    "np.random.seed(SEED)\n",
    "tf.random.set_seed(SEED)"
   ]
  },
  {
   "cell_type": "code",
   "execution_count": 3,
   "id": "3845169a",
   "metadata": {
    "execution": {
     "iopub.execute_input": "2022-04-06T18:04:59.678387Z",
     "iopub.status.busy": "2022-04-06T18:04:59.676201Z",
     "iopub.status.idle": "2022-04-06T18:04:59.681137Z",
     "shell.execute_reply": "2022-04-06T18:04:59.681563Z",
     "shell.execute_reply.started": "2022-04-06T17:58:36.755767Z"
    },
    "papermill": {
     "duration": 2.013931,
     "end_time": "2022-04-06T18:04:59.681709",
     "exception": false,
     "start_time": "2022-04-06T18:04:57.667778",
     "status": "completed"
    },
    "tags": []
   },
   "outputs": [
    {
     "name": "stdout",
     "output_type": "stream",
     "text": [
      "Found GPU at: /device:GPU:0\n"
     ]
    }
   ],
   "source": [
    "# Making sure that Tensorflow is able to detect the GPU\n",
    "device_name = tf.test.gpu_device_name()\n",
    "if \"GPU\" not in device_name:\n",
    "    print(\"GPU device not found\")\n",
    "print('Found GPU at: {}'.format(device_name))"
   ]
  },
  {
   "cell_type": "code",
   "execution_count": 4,
   "id": "298b4bd7",
   "metadata": {
    "execution": {
     "iopub.execute_input": "2022-04-06T18:04:59.723422Z",
     "iopub.status.busy": "2022-04-06T18:04:59.722470Z",
     "iopub.status.idle": "2022-04-06T18:04:59.724428Z",
     "shell.execute_reply": "2022-04-06T18:04:59.724900Z",
     "shell.execute_reply.started": "2022-04-06T17:58:38.764231Z"
    },
    "papermill": {
     "duration": 0.026791,
     "end_time": "2022-04-06T18:04:59.725058",
     "exception": false,
     "start_time": "2022-04-06T18:04:59.698267",
     "status": "completed"
    },
    "tags": []
   },
   "outputs": [],
   "source": [
    "# These are the usual ipython objects\n",
    "ipython_vars = ['In', 'Out', 'exit', 'quit', 'get_ipython', 'ipython_vars']\n",
    "\n",
    "# Defining a function to list the memory consumed\n",
    "# Only outputs variables taking at least 1MB space\n",
    "def list_storage(inp_dir):\n",
    "    # Get a sorted list of the objects and their sizes\n",
    "    vars_defined = [x for x in inp_dir if not x.startswith('_') and x not in sys.modules and x not in ipython_vars]\n",
    "    sto = sorted([(x, sys.getsizeof(globals().get(x))) for x in vars_defined], key=lambda x: x[1], reverse=True)\n",
    "    sto = [(x[0], str(round((x[1] / 2**20), 2)) + ' MB') for x in sto if x[1] >= 2**20]\n",
    "    print(tabulate(sto, headers = ['Variable', 'Storage (in MB)']))\n",
    "\n",
    "# In order to use this function, use the below line of code\n",
    "# list_storage(dir())"
   ]
  },
  {
   "cell_type": "markdown",
   "id": "28adc412",
   "metadata": {
    "papermill": {
     "duration": 0.017972,
     "end_time": "2022-04-06T18:04:59.759499",
     "exception": false,
     "start_time": "2022-04-06T18:04:59.741527",
     "status": "completed"
    },
    "tags": []
   },
   "source": [
    "# 2. Data Exploration"
   ]
  },
  {
   "cell_type": "code",
   "execution_count": 5,
   "id": "4529c335",
   "metadata": {
    "execution": {
     "iopub.execute_input": "2022-04-06T18:04:59.806681Z",
     "iopub.status.busy": "2022-04-06T18:04:59.806045Z",
     "iopub.status.idle": "2022-04-06T18:05:22.683334Z",
     "shell.execute_reply": "2022-04-06T18:05:22.683790Z",
     "shell.execute_reply.started": "2022-04-06T17:58:38.774513Z"
    },
    "papermill": {
     "duration": 22.903779,
     "end_time": "2022-04-06T18:05:22.683944",
     "exception": false,
     "start_time": "2022-04-06T18:04:59.780165",
     "status": "completed"
    },
    "tags": []
   },
   "outputs": [
    {
     "name": "stdout",
     "output_type": "stream",
     "text": [
      "(40006, 3072) (40006, 1)\n",
      "(40006, 3, 32, 32)\n",
      "[0]\n"
     ]
    },
    {
     "data": {
      "image/png": "[encoded data removed]",
      "text/plain": [
       "<Figure size 108x108 with 1 Axes>"
      ]
     },
     "metadata": {
      "needs_background": "light"
     },
     "output_type": "display_data"
    }
   ],
   "source": [
    "# Importing the Labelled Dataset\n",
    "df_train = pd.read_csv(\"../input/cifar10/train_lab_x.csv\")\n",
    "y_train = pd.read_csv(\"../input/cifar10/train_lab_y.csv\")\n",
    "df_train = np.array(df_train)\n",
    "y_train = np.array(y_train)\n",
    "print(df_train.shape, y_train.shape)\n",
    "\n",
    "# Reshaping the dataset\n",
    "df_train = np.reshape(df_train, (-1, 3, 32, 32))\n",
    "print(df_train.shape)\n",
    "\n",
    "# Visualizing a single image\n",
    "ind = 11\n",
    "example = df_train[ind, : , : , : ]\n",
    "example = example.transpose((1, 2, 0))\n",
    "plt.figure(figsize=(1.5, 1.5))\n",
    "plt.imshow(example)\n",
    "print(y_train[ind])"
   ]
  },
  {
   "cell_type": "markdown",
   "id": "20bc141f",
   "metadata": {
    "papermill": {
     "duration": 0.017458,
     "end_time": "2022-04-06T18:05:22.719887",
     "exception": false,
     "start_time": "2022-04-06T18:05:22.702429",
     "status": "completed"
    },
    "tags": []
   },
   "source": [
    "# 3. Basic Pre-processing"
   ]
  },
  {
   "cell_type": "code",
   "execution_count": 6,
   "id": "bff10daa",
   "metadata": {
    "execution": {
     "iopub.execute_input": "2022-04-06T18:05:22.761314Z",
     "iopub.status.busy": "2022-04-06T18:05:22.760491Z",
     "iopub.status.idle": "2022-04-06T18:05:25.211511Z",
     "shell.execute_reply": "2022-04-06T18:05:25.211004Z",
     "shell.execute_reply.started": "2022-04-06T17:59:00.433925Z"
    },
    "papermill": {
     "duration": 2.474126,
     "end_time": "2022-04-06T18:05:25.211645",
     "exception": false,
     "start_time": "2022-04-06T18:05:22.737519",
     "status": "completed"
    },
    "tags": []
   },
   "outputs": [
    {
     "name": "stdout",
     "output_type": "stream",
     "text": [
      "(40006, 32, 32, 3) (40006, 10)\n"
     ]
    }
   ],
   "source": [
    "# Creating a random permutation\n",
    "perm = np.random.permutation(df_train.shape[0])\n",
    "\n",
    "# Shuffling the training dataset\n",
    "df_train = df_train[perm, : , : , : ]\n",
    "y_train = y_train[perm]\n",
    "\n",
    "# Reshaping, rescaling and one-hot encoding\n",
    "df_train = np.transpose(np.array(df_train), (0, 2, 3, 1))\n",
    "df_train = df_train / 255\n",
    "y_train_oh = tf.one_hot(np.ravel(y_train), depth = 10)\n",
    "\n",
    "print(df_train.shape, y_train_oh.shape)"
   ]
  },
  {
   "cell_type": "markdown",
   "id": "ff145af8",
   "metadata": {
    "papermill": {
     "duration": 0.017479,
     "end_time": "2022-04-06T18:05:25.246766",
     "exception": false,
     "start_time": "2022-04-06T18:05:25.229287",
     "status": "completed"
    },
    "tags": []
   },
   "source": [
    "# 4. Creating the Model"
   ]
  },
  {
   "cell_type": "code",
   "execution_count": 7,
   "id": "48db3efa",
   "metadata": {
    "execution": {
     "iopub.execute_input": "2022-04-06T18:05:25.293726Z",
     "iopub.status.busy": "2022-04-06T18:05:25.292867Z",
     "iopub.status.idle": "2022-04-06T18:05:25.294888Z",
     "shell.execute_reply": "2022-04-06T18:05:25.295252Z",
     "shell.execute_reply.started": "2022-04-06T17:59:02.855857Z"
    },
    "papermill": {
     "duration": 0.030825,
     "end_time": "2022-04-06T18:05:25.295383",
     "exception": false,
     "start_time": "2022-04-06T18:05:25.264558",
     "status": "completed"
    },
    "tags": []
   },
   "outputs": [],
   "source": [
    "def cnn_model(input_shape):\n",
    "    input_img = tf.keras.Input(shape = input_shape)\n",
    "    \n",
    "    Z1 = tfl.Conv2D(16, kernel_size=3, strides=1, padding='same', activation='relu')(input_img)\n",
    "    B1 = tfl.BatchNormalization(axis=-1)(Z1)\n",
    "    Z2 = tfl.Conv2D(16, kernel_size=3, strides=1, padding='same', activation='relu')(B1)\n",
    "    B2 = tfl.BatchNormalization(axis=-1)(Z2)\n",
    "    P1 = tfl.MaxPool2D(pool_size=2, strides=2, padding='valid')(B2)\n",
    "    D1 = tfl.Dropout(0.25)(P1)\n",
    "    # (16, 16, 16)\n",
    "    \n",
    "    Z3 = tfl.Conv2D(32, kernel_size=2, strides=1, padding='valid', activation='relu')(D1)\n",
    "    B3 = tfl.BatchNormalization(axis=-1)(Z3)\n",
    "    Z4 = tfl.Conv2D(32, kernel_size=2, strides=1, padding='valid', activation='relu')(B3)\n",
    "    B4 = tfl.BatchNormalization(axis=-1)(Z4)\n",
    "    P2 = tfl.MaxPool2D(pool_size=2, strides=2, padding='valid')(B4)\n",
    "    D2 = tfl.Dropout(0.25)(P2)\n",
    "    # (7, 7, 32)\n",
    "    \n",
    "    F1 = tfl.Flatten()(D2)\n",
    "    Den1 = tfl.Dense(256, activation='relu')(F1)\n",
    "    Drop1 = tfl.Dropout(0.25)(Den1)\n",
    "    Den2 = tfl.Dense(64, activation='relu')(Drop1)\n",
    "    Drop2 = tfl.Dropout(0.25)(Den2)\n",
    "    outputs = tfl.Dense(10, activation='softmax')(Drop2)\n",
    "    \n",
    "    model = tf.keras.Model(inputs = input_img, outputs = outputs)\n",
    "    return model"
   ]
  },
  {
   "cell_type": "markdown",
   "id": "07b97f92",
   "metadata": {
    "papermill": {
     "duration": 0.017115,
     "end_time": "2022-04-06T18:05:25.329984",
     "exception": false,
     "start_time": "2022-04-06T18:05:25.312869",
     "status": "completed"
    },
    "tags": []
   },
   "source": [
    "# 5. Compiling, Training, Hyperparameter-Tuning and Evaluating the Model\n",
    "## 5.1. Compiling the Model & Datasets"
   ]
  },
  {
   "cell_type": "code",
   "execution_count": 8,
   "id": "cf546f1b",
   "metadata": {
    "_kg_hide-output": true,
    "execution": {
     "iopub.execute_input": "2022-04-06T18:05:25.369748Z",
     "iopub.status.busy": "2022-04-06T18:05:25.369190Z",
     "iopub.status.idle": "2022-04-06T18:05:25.528789Z",
     "shell.execute_reply": "2022-04-06T18:05:25.528183Z",
     "shell.execute_reply.started": "2022-04-06T17:59:02.868916Z"
    },
    "papermill": {
     "duration": 0.181456,
     "end_time": "2022-04-06T18:05:25.528925",
     "exception": false,
     "start_time": "2022-04-06T18:05:25.347469",
     "status": "completed"
    },
    "scrolled": true,
    "tags": []
   },
   "outputs": [
    {
     "name": "stdout",
     "output_type": "stream",
     "text": [
      "Model: \"model\"\n",
      "_________________________________________________________________\n",
      "Layer (type)                 Output Shape              Param #   \n",
      "=================================================================\n",
      "input_1 (InputLayer)         [(None, 32, 32, 3)]       0         \n",
      "_________________________________________________________________\n",
      "conv2d (Conv2D)              (None, 32, 32, 16)        448       \n",
      "_________________________________________________________________\n",
      "batch_normalization (BatchNo (None, 32, 32, 16)        64        \n",
      "_________________________________________________________________\n",
      "conv2d_1 (Conv2D)            (None, 32, 32, 16)        2320      \n",
      "_________________________________________________________________\n",
      "batch_normalization_1 (Batch (None, 32, 32, 16)        64        \n",
      "_________________________________________________________________\n",
      "max_pooling2d (MaxPooling2D) (None, 16, 16, 16)        0         \n",
      "_________________________________________________________________\n",
      "dropout (Dropout)            (None, 16, 16, 16)        0         \n",
      "_________________________________________________________________\n",
      "conv2d_2 (Conv2D)            (None, 15, 15, 32)        2080      \n",
      "_________________________________________________________________\n",
      "batch_normalization_2 (Batch (None, 15, 15, 32)        128       \n",
      "_________________________________________________________________\n",
      "conv2d_3 (Conv2D)            (None, 14, 14, 32)        4128      \n",
      "_________________________________________________________________\n",
      "batch_normalization_3 (Batch (None, 14, 14, 32)        128       \n",
      "_________________________________________________________________\n",
      "max_pooling2d_1 (MaxPooling2 (None, 7, 7, 32)          0         \n",
      "_________________________________________________________________\n",
      "dropout_1 (Dropout)          (None, 7, 7, 32)          0         \n",
      "_________________________________________________________________\n",
      "flatten (Flatten)            (None, 1568)              0         \n",
      "_________________________________________________________________\n",
      "dense (Dense)                (None, 256)               401664    \n",
      "_________________________________________________________________\n",
      "dropout_2 (Dropout)          (None, 256)               0         \n",
      "_________________________________________________________________\n",
      "dense_1 (Dense)              (None, 64)                16448     \n",
      "_________________________________________________________________\n",
      "dropout_3 (Dropout)          (None, 64)                0         \n",
      "_________________________________________________________________\n",
      "dense_2 (Dense)              (None, 10)                650       \n",
      "=================================================================\n",
      "Total params: 428,122\n",
      "Trainable params: 427,930\n",
      "Non-trainable params: 192\n",
      "_________________________________________________________________\n"
     ]
    }
   ],
   "source": [
    "conv_model = cnn_model((32, 32, 3))\n",
    "conv_model.compile(optimizer='adam', loss='categorical_crossentropy', metrics='accuracy')\n",
    "conv_model.summary()"
   ]
  },
  {
   "cell_type": "code",
   "execution_count": 9,
   "id": "4389e261",
   "metadata": {
    "_kg_hide-output": true,
    "execution": {
     "iopub.execute_input": "2022-04-06T18:05:25.575587Z",
     "iopub.status.busy": "2022-04-06T18:05:25.574682Z",
     "iopub.status.idle": "2022-04-06T18:05:33.303358Z",
     "shell.execute_reply": "2022-04-06T18:05:33.303849Z",
     "shell.execute_reply.started": "2022-04-06T17:59:03.114736Z"
    },
    "papermill": {
     "duration": 7.755997,
     "end_time": "2022-04-06T18:05:33.304001",
     "exception": false,
     "start_time": "2022-04-06T18:05:25.548004",
     "status": "completed"
    },
    "scrolled": true,
    "tags": []
   },
   "outputs": [
    {
     "name": "stdout",
     "output_type": "stream",
     "text": [
      "(10000, 3072) (10000, 1)\n",
      "(10000, 3, 32, 32)\n",
      "(10000, 32, 32, 3) (10000, 10)\n"
     ]
    }
   ],
   "source": [
    "# Composing the Train Dataset\n",
    "train_dataset = tf.data.Dataset.from_tensor_slices((df_train, y_train_oh)).batch(32)\n",
    "\n",
    "# Importing the Test Dataset\n",
    "df_test = pd.read_csv(\"../input/cifar10/test_x.csv\")\n",
    "y_test = pd.read_csv(\"../input/cifar10/test_y.csv\")\n",
    "df_test = np.array(df_test)\n",
    "y_test = np.array(y_test)\n",
    "print(df_test.shape, y_test.shape)\n",
    "\n",
    "# Reshaping the dataset\n",
    "df_test = np.reshape(df_test, (-1, 3, 32, 32))\n",
    "print(df_test.shape)\n",
    "\n",
    "# Reshaping, rescaling and one-hot encoding\n",
    "df_test = np.transpose(np.array(df_test), (0, 2, 3, 1))\n",
    "df_test = df_test / 255\n",
    "y_test_oh = tf.one_hot(np.ravel(y_test), depth = 10)\n",
    "print(df_test.shape, y_test_oh.shape)"
   ]
  },
  {
   "cell_type": "markdown",
   "id": "51fec3ec",
   "metadata": {
    "papermill": {
     "duration": 0.01877,
     "end_time": "2022-04-06T18:05:33.341894",
     "exception": false,
     "start_time": "2022-04-06T18:05:33.323124",
     "status": "completed"
    },
    "tags": []
   },
   "source": [
    "## 5.2. Training & Hyperparameter-Tuning for the Model"
   ]
  },
  {
   "cell_type": "code",
   "execution_count": 10,
   "id": "eeae63ce",
   "metadata": {
    "_kg_hide-output": true,
    "execution": {
     "iopub.execute_input": "2022-04-06T18:05:33.397361Z",
     "iopub.status.busy": "2022-04-06T18:05:33.396411Z",
     "iopub.status.idle": "2022-04-06T18:27:27.500938Z",
     "shell.execute_reply": "2022-04-06T18:27:27.501552Z",
     "shell.execute_reply.started": "2022-04-06T17:59:10.539662Z"
    },
    "papermill": {
     "duration": 1314.141163,
     "end_time": "2022-04-06T18:27:27.501778",
     "exception": false,
     "start_time": "2022-04-06T18:05:33.360615",
     "status": "completed"
    },
    "scrolled": true,
    "tags": []
   },
   "outputs": [
    {
     "name": "stdout",
     "output_type": "stream",
     "text": [
      "Epoch 1/10\n",
      "1251/1251 [==============================] - 13s 5ms/step - loss: 1.7387 - accuracy: 0.3702\n",
      "Epoch 2/10\n",
      "1251/1251 [==============================] - 6s 5ms/step - loss: 1.3391 - accuracy: 0.5258\n",
      "Epoch 3/10\n",
      "1251/1251 [==============================] - 7s 5ms/step - loss: 1.1448 - accuracy: 0.6001\n",
      "Epoch 4/10\n",
      "1251/1251 [==============================] - 6s 5ms/step - loss: 1.0280 - accuracy: 0.6432\n",
      "Epoch 5/10\n",
      "1251/1251 [==============================] - 6s 5ms/step - loss: 0.9479 - accuracy: 0.6748\n",
      "Epoch 6/10\n",
      "1251/1251 [==============================] - 6s 5ms/step - loss: 0.8916 - accuracy: 0.6915\n",
      "Epoch 7/10\n",
      "1251/1251 [==============================] - 7s 5ms/step - loss: 0.8395 - accuracy: 0.7099\n",
      "Epoch 8/10\n",
      "1251/1251 [==============================] - 6s 5ms/step - loss: 0.7969 - accuracy: 0.7254\n",
      "Epoch 9/10\n",
      "1251/1251 [==============================] - 7s 6ms/step - loss: 0.7605 - accuracy: 0.7379\n",
      "Epoch 10/10\n",
      "1251/1251 [==============================] - 6s 5ms/step - loss: 0.7284 - accuracy: 0.7465\n",
      "For  10  Epochs:\n",
      "Log-loss for Train Dataset =  0.4833290327343998\n",
      "Log-loss for Test Dataset =  0.7575944530535867\n",
      "Accuracy for Train Dataset =  0.8325001249812528\n",
      "Accuracy for Test Dataset =  0.748\n",
      "\n",
      "Epoch 1/20\n",
      "1251/1251 [==============================] - 7s 5ms/step - loss: 1.7130 - accuracy: 0.3771\n",
      "Epoch 2/20\n",
      "1251/1251 [==============================] - 7s 6ms/step - loss: 1.3062 - accuracy: 0.5348\n",
      "Epoch 3/20\n",
      "1251/1251 [==============================] - 6s 5ms/step - loss: 1.1256 - accuracy: 0.6092\n",
      "Epoch 4/20\n",
      "1251/1251 [==============================] - 6s 5ms/step - loss: 1.0204 - accuracy: 0.6470\n",
      "Epoch 5/20\n",
      "1251/1251 [==============================] - 6s 5ms/step - loss: 0.9463 - accuracy: 0.6729\n",
      "Epoch 6/20\n",
      "1251/1251 [==============================] - 7s 5ms/step - loss: 0.8810 - accuracy: 0.6965\n",
      "Epoch 7/20\n",
      "1251/1251 [==============================] - 6s 5ms/step - loss: 0.8293 - accuracy: 0.7130\n",
      "Epoch 8/20\n",
      "1251/1251 [==============================] - 6s 5ms/step - loss: 0.7857 - accuracy: 0.7295\n",
      "Epoch 9/20\n",
      "1251/1251 [==============================] - 6s 5ms/step - loss: 0.7471 - accuracy: 0.7413\n",
      "Epoch 10/20\n",
      "1251/1251 [==============================] - 6s 5ms/step - loss: 0.7166 - accuracy: 0.7525\n",
      "Epoch 11/20\n",
      "1251/1251 [==============================] - 6s 5ms/step - loss: 0.6828 - accuracy: 0.7631\n",
      "Epoch 12/20\n",
      "1251/1251 [==============================] - 7s 6ms/step - loss: 0.6601 - accuracy: 0.7700\n",
      "Epoch 13/20\n",
      "1251/1251 [==============================] - 6s 5ms/step - loss: 0.6296 - accuracy: 0.7808\n",
      "Epoch 14/20\n",
      "1251/1251 [==============================] - 6s 5ms/step - loss: 0.6105 - accuracy: 0.7884\n",
      "Epoch 15/20\n",
      "1251/1251 [==============================] - 7s 5ms/step - loss: 0.5880 - accuracy: 0.7979\n",
      "Epoch 16/20\n",
      "1251/1251 [==============================] - 7s 6ms/step - loss: 0.5744 - accuracy: 0.8048\n",
      "Epoch 17/20\n",
      "1251/1251 [==============================] - 6s 5ms/step - loss: 0.5575 - accuracy: 0.8076\n",
      "Epoch 18/20\n",
      "1251/1251 [==============================] - 6s 5ms/step - loss: 0.5332 - accuracy: 0.8181\n",
      "Epoch 19/20\n",
      "1251/1251 [==============================] - 7s 5ms/step - loss: 0.5279 - accuracy: 0.8198\n",
      "Epoch 20/20\n",
      "1251/1251 [==============================] - 7s 6ms/step - loss: 0.5072 - accuracy: 0.8249\n",
      "For  20  Epochs:\n",
      "Log-loss for Train Dataset =  0.2855250634999697\n",
      "Log-loss for Test Dataset =  0.7787335406902388\n",
      "Accuracy for Train Dataset =  0.900164975253712\n",
      "Accuracy for Test Dataset =  0.7637\n",
      "\n",
      "Epoch 1/30\n",
      "1251/1251 [==============================] - 7s 5ms/step - loss: 1.7382 - accuracy: 0.3667\n",
      "Epoch 2/30\n",
      "1251/1251 [==============================] - 7s 5ms/step - loss: 1.3595 - accuracy: 0.5121\n",
      "Epoch 3/30\n",
      "1251/1251 [==============================] - 7s 5ms/step - loss: 1.1783 - accuracy: 0.5844\n",
      "Epoch 4/30\n",
      "1251/1251 [==============================] - 7s 5ms/step - loss: 1.0518 - accuracy: 0.6364\n",
      "Epoch 5/30\n",
      "1251/1251 [==============================] - 6s 5ms/step - loss: 0.9665 - accuracy: 0.6643\n",
      "Epoch 6/30\n",
      "1251/1251 [==============================] - 7s 5ms/step - loss: 0.9031 - accuracy: 0.6861\n",
      "Epoch 7/30\n",
      "1251/1251 [==============================] - 7s 6ms/step - loss: 0.8465 - accuracy: 0.7072\n",
      "Epoch 8/30\n",
      "1251/1251 [==============================] - 6s 5ms/step - loss: 0.8031 - accuracy: 0.7199\n",
      "Epoch 9/30\n",
      "1251/1251 [==============================] - 6s 5ms/step - loss: 0.7612 - accuracy: 0.7348\n",
      "Epoch 10/30\n",
      "1251/1251 [==============================] - 7s 5ms/step - loss: 0.7283 - accuracy: 0.7486\n",
      "Epoch 11/30\n",
      "1251/1251 [==============================] - 6s 5ms/step - loss: 0.7101 - accuracy: 0.7550\n",
      "Epoch 12/30\n",
      "1251/1251 [==============================] - 6s 5ms/step - loss: 0.6670 - accuracy: 0.7695\n",
      "Epoch 13/30\n",
      "1251/1251 [==============================] - 6s 5ms/step - loss: 0.6497 - accuracy: 0.7746\n",
      "Epoch 14/30\n",
      "1251/1251 [==============================] - 7s 6ms/step - loss: 0.6242 - accuracy: 0.7840\n",
      "Epoch 15/30\n",
      "1251/1251 [==============================] - 6s 5ms/step - loss: 0.6048 - accuracy: 0.7910\n",
      "Epoch 16/30\n",
      "1251/1251 [==============================] - 6s 5ms/step - loss: 0.5821 - accuracy: 0.7945\n",
      "Epoch 17/30\n",
      "1251/1251 [==============================] - 7s 5ms/step - loss: 0.5687 - accuracy: 0.8020\n",
      "Epoch 18/30\n",
      "1251/1251 [==============================] - 8s 6ms/step - loss: 0.5532 - accuracy: 0.8075\n",
      "Epoch 19/30\n",
      "1251/1251 [==============================] - 6s 5ms/step - loss: 0.5389 - accuracy: 0.8145\n",
      "Epoch 20/30\n",
      "1251/1251 [==============================] - 7s 5ms/step - loss: 0.5263 - accuracy: 0.8154\n",
      "Epoch 21/30\n",
      "1251/1251 [==============================] - 6s 5ms/step - loss: 0.5166 - accuracy: 0.8223\n",
      "Epoch 22/30\n",
      "1251/1251 [==============================] - 7s 6ms/step - loss: 0.4985 - accuracy: 0.8273\n",
      "Epoch 23/30\n",
      "1251/1251 [==============================] - 6s 5ms/step - loss: 0.4840 - accuracy: 0.8329\n",
      "Epoch 24/30\n",
      "1251/1251 [==============================] - 6s 5ms/step - loss: 0.4745 - accuracy: 0.8346\n",
      "Epoch 25/30\n",
      "1251/1251 [==============================] - 7s 5ms/step - loss: 0.4707 - accuracy: 0.8370\n",
      "Epoch 26/30\n",
      "1251/1251 [==============================] - 6s 5ms/step - loss: 0.4638 - accuracy: 0.8393\n",
      "Epoch 27/30\n",
      "1251/1251 [==============================] - 7s 5ms/step - loss: 0.4517 - accuracy: 0.8438\n",
      "Epoch 28/30\n",
      "1251/1251 [==============================] - 6s 5ms/step - loss: 0.4375 - accuracy: 0.8501\n",
      "Epoch 29/30\n",
      "1251/1251 [==============================] - 7s 6ms/step - loss: 0.4332 - accuracy: 0.8499\n",
      "Epoch 30/30\n",
      "1251/1251 [==============================] - 6s 5ms/step - loss: 0.4229 - accuracy: 0.8537\n",
      "For  30  Epochs:\n",
      "Log-loss for Train Dataset =  0.23661874465031377\n",
      "Log-loss for Test Dataset =  0.8424019526518365\n",
      "Accuracy for Train Dataset =  0.9193370994350848\n",
      "Accuracy for Test Dataset =  0.7574\n",
      "\n",
      "Epoch 1/40\n",
      "1251/1251 [==============================] - 7s 5ms/step - loss: 1.7123 - accuracy: 0.3819\n",
      "Epoch 2/40\n",
      "1251/1251 [==============================] - 6s 5ms/step - loss: 1.3349 - accuracy: 0.5298\n",
      "Epoch 3/40\n",
      "1251/1251 [==============================] - 8s 6ms/step - loss: 1.1536 - accuracy: 0.5964\n",
      "Epoch 4/40\n",
      "1251/1251 [==============================] - 6s 5ms/step - loss: 1.0389 - accuracy: 0.6397\n",
      "Epoch 5/40\n",
      "1251/1251 [==============================] - 6s 5ms/step - loss: 0.9568 - accuracy: 0.6693\n",
      "Epoch 6/40\n",
      "1251/1251 [==============================] - 6s 5ms/step - loss: 0.8904 - accuracy: 0.6906\n",
      "Epoch 7/40\n",
      "1251/1251 [==============================] - 9s 7ms/step - loss: 0.8363 - accuracy: 0.7136\n",
      "Epoch 8/40\n",
      "1251/1251 [==============================] - 6s 5ms/step - loss: 0.7887 - accuracy: 0.7223\n",
      "Epoch 9/40\n",
      "1251/1251 [==============================] - 7s 5ms/step - loss: 0.7506 - accuracy: 0.7412\n",
      "Epoch 10/40\n",
      "1251/1251 [==============================] - 6s 5ms/step - loss: 0.7192 - accuracy: 0.7517\n",
      "Epoch 11/40\n",
      "1251/1251 [==============================] - 7s 5ms/step - loss: 0.6893 - accuracy: 0.7595\n",
      "Epoch 12/40\n",
      "1251/1251 [==============================] - 6s 5ms/step - loss: 0.6639 - accuracy: 0.7694\n",
      "Epoch 13/40\n",
      "1251/1251 [==============================] - 6s 5ms/step - loss: 0.6404 - accuracy: 0.7780\n",
      "Epoch 14/40\n",
      "1251/1251 [==============================] - 6s 5ms/step - loss: 0.6235 - accuracy: 0.7834\n",
      "Epoch 15/40\n",
      "1251/1251 [==============================] - 7s 6ms/step - loss: 0.5975 - accuracy: 0.7928\n",
      "Epoch 16/40\n",
      "1251/1251 [==============================] - 6s 5ms/step - loss: 0.5792 - accuracy: 0.7982\n",
      "Epoch 17/40\n",
      "1251/1251 [==============================] - 6s 5ms/step - loss: 0.5617 - accuracy: 0.8021\n",
      "Epoch 18/40\n",
      "1251/1251 [==============================] - 6s 5ms/step - loss: 0.5450 - accuracy: 0.8097\n",
      "Epoch 19/40\n",
      "1251/1251 [==============================] - 7s 6ms/step - loss: 0.5319 - accuracy: 0.8146\n",
      "Epoch 20/40\n",
      "1251/1251 [==============================] - 6s 5ms/step - loss: 0.5254 - accuracy: 0.8166\n",
      "Epoch 21/40\n",
      "1251/1251 [==============================] - 6s 5ms/step - loss: 0.5063 - accuracy: 0.8234\n",
      "Epoch 22/40\n",
      "1251/1251 [==============================] - 7s 5ms/step - loss: 0.4909 - accuracy: 0.8278\n",
      "Epoch 23/40\n",
      "1251/1251 [==============================] - 8s 7ms/step - loss: 0.4805 - accuracy: 0.8316\n",
      "Epoch 24/40\n",
      "1251/1251 [==============================] - 6s 5ms/step - loss: 0.4784 - accuracy: 0.8338\n",
      "Epoch 25/40\n",
      "1251/1251 [==============================] - 6s 5ms/step - loss: 0.4611 - accuracy: 0.8398\n",
      "Epoch 26/40\n",
      "1251/1251 [==============================] - 7s 5ms/step - loss: 0.4532 - accuracy: 0.8422\n",
      "Epoch 27/40\n",
      "1251/1251 [==============================] - 8s 7ms/step - loss: 0.4419 - accuracy: 0.8449\n",
      "Epoch 28/40\n",
      "1251/1251 [==============================] - 6s 5ms/step - loss: 0.4370 - accuracy: 0.8480\n",
      "Epoch 29/40\n",
      "1251/1251 [==============================] - 6s 5ms/step - loss: 0.4283 - accuracy: 0.8531\n",
      "Epoch 30/40\n",
      "1251/1251 [==============================] - 6s 5ms/step - loss: 0.4167 - accuracy: 0.8559\n",
      "Epoch 31/40\n",
      "1251/1251 [==============================] - 8s 7ms/step - loss: 0.4099 - accuracy: 0.8584\n",
      "Epoch 32/40\n",
      "1251/1251 [==============================] - 7s 5ms/step - loss: 0.4063 - accuracy: 0.8591\n",
      "Epoch 33/40\n",
      "1251/1251 [==============================] - 6s 5ms/step - loss: 0.4036 - accuracy: 0.8610\n",
      "Epoch 34/40\n",
      "1251/1251 [==============================] - 6s 5ms/step - loss: 0.3992 - accuracy: 0.8629\n",
      "Epoch 35/40\n",
      "1251/1251 [==============================] - 8s 7ms/step - loss: 0.3851 - accuracy: 0.8669\n",
      "Epoch 36/40\n",
      "1251/1251 [==============================] - 7s 5ms/step - loss: 0.3873 - accuracy: 0.8664\n",
      "Epoch 37/40\n",
      "1251/1251 [==============================] - 6s 5ms/step - loss: 0.3827 - accuracy: 0.8684\n",
      "Epoch 38/40\n",
      "1251/1251 [==============================] - 6s 5ms/step - loss: 0.3699 - accuracy: 0.8734\n",
      "Epoch 39/40\n",
      "1251/1251 [==============================] - 6s 5ms/step - loss: 0.3646 - accuracy: 0.8748\n",
      "Epoch 40/40\n",
      "1251/1251 [==============================] - 6s 5ms/step - loss: 0.3573 - accuracy: 0.8757\n",
      "For  40  Epochs:\n",
      "Log-loss for Train Dataset =  0.15435478363440452\n",
      "Log-loss for Test Dataset =  0.815597194298814\n",
      "Accuracy for Train Dataset =  0.9510073488976654\n",
      "Accuracy for Test Dataset =  0.7697\n",
      "\n",
      "Epoch 1/50\n",
      "1251/1251 [==============================] - 7s 5ms/step - loss: 1.7176 - accuracy: 0.3777\n",
      "Epoch 2/50\n",
      "1251/1251 [==============================] - 8s 6ms/step - loss: 1.3043 - accuracy: 0.5404\n",
      "Epoch 3/50\n",
      "1251/1251 [==============================] - 6s 5ms/step - loss: 1.1228 - accuracy: 0.6113\n",
      "Epoch 4/50\n",
      "1251/1251 [==============================] - 6s 5ms/step - loss: 1.0147 - accuracy: 0.6508\n",
      "Epoch 5/50\n",
      "1251/1251 [==============================] - 6s 5ms/step - loss: 0.9372 - accuracy: 0.6764\n",
      "Epoch 6/50\n",
      "1251/1251 [==============================] - 6s 5ms/step - loss: 0.8781 - accuracy: 0.6984\n",
      "Epoch 7/50\n",
      "1251/1251 [==============================] - 7s 5ms/step - loss: 0.8331 - accuracy: 0.7132\n",
      "Epoch 8/50\n",
      "1251/1251 [==============================] - 6s 5ms/step - loss: 0.7783 - accuracy: 0.7290\n",
      "Epoch 9/50\n",
      "1251/1251 [==============================] - 6s 5ms/step - loss: 0.7470 - accuracy: 0.7406\n",
      "Epoch 10/50\n",
      "1251/1251 [==============================] - 6s 5ms/step - loss: 0.7135 - accuracy: 0.7520\n",
      "Epoch 11/50\n",
      "1251/1251 [==============================] - 9s 7ms/step - loss: 0.6825 - accuracy: 0.7623\n",
      "Epoch 12/50\n",
      "1251/1251 [==============================] - 6s 5ms/step - loss: 0.6607 - accuracy: 0.7719\n",
      "Epoch 13/50\n",
      "1251/1251 [==============================] - 6s 5ms/step - loss: 0.6290 - accuracy: 0.7828\n",
      "Epoch 14/50\n",
      "1251/1251 [==============================] - 7s 6ms/step - loss: 0.6138 - accuracy: 0.7871\n",
      "Epoch 15/50\n",
      "1251/1251 [==============================] - 6s 5ms/step - loss: 0.5916 - accuracy: 0.7964\n",
      "Epoch 16/50\n",
      "1251/1251 [==============================] - 6s 5ms/step - loss: 0.5682 - accuracy: 0.8008\n",
      "Epoch 17/50\n",
      "1251/1251 [==============================] - 6s 5ms/step - loss: 0.5489 - accuracy: 0.8091\n",
      "Epoch 18/50\n",
      "1251/1251 [==============================] - 6s 5ms/step - loss: 0.5407 - accuracy: 0.8144\n",
      "Epoch 19/50\n",
      "1251/1251 [==============================] - 8s 6ms/step - loss: 0.5193 - accuracy: 0.8175\n",
      "Epoch 20/50\n",
      "1251/1251 [==============================] - 7s 6ms/step - loss: 0.5137 - accuracy: 0.8234\n",
      "Epoch 21/50\n",
      "1251/1251 [==============================] - 6s 5ms/step - loss: 0.4962 - accuracy: 0.8285\n",
      "Epoch 22/50\n",
      "1251/1251 [==============================] - 6s 5ms/step - loss: 0.4837 - accuracy: 0.8338\n",
      "Epoch 23/50\n",
      "1251/1251 [==============================] - 7s 5ms/step - loss: 0.4739 - accuracy: 0.8361\n",
      "Epoch 24/50\n",
      "1251/1251 [==============================] - 6s 5ms/step - loss: 0.4694 - accuracy: 0.8372\n",
      "Epoch 25/50\n",
      "1251/1251 [==============================] - 6s 5ms/step - loss: 0.4514 - accuracy: 0.8421\n",
      "Epoch 26/50\n",
      "1251/1251 [==============================] - 6s 5ms/step - loss: 0.4460 - accuracy: 0.8455\n",
      "Epoch 27/50\n",
      "1251/1251 [==============================] - 6s 5ms/step - loss: 0.4337 - accuracy: 0.8491\n",
      "Epoch 28/50\n",
      "1251/1251 [==============================] - 7s 6ms/step - loss: 0.4290 - accuracy: 0.8501\n",
      "Epoch 29/50\n",
      "1251/1251 [==============================] - 8s 6ms/step - loss: 0.4149 - accuracy: 0.8574\n",
      "Epoch 30/50\n",
      "1251/1251 [==============================] - 7s 5ms/step - loss: 0.4115 - accuracy: 0.8574\n",
      "Epoch 31/50\n",
      "1251/1251 [==============================] - 7s 5ms/step - loss: 0.4038 - accuracy: 0.8614\n",
      "Epoch 32/50\n",
      "1251/1251 [==============================] - 6s 5ms/step - loss: 0.3950 - accuracy: 0.8636\n",
      "Epoch 33/50\n",
      "1251/1251 [==============================] - 6s 5ms/step - loss: 0.3895 - accuracy: 0.8661\n",
      "Epoch 34/50\n",
      "1251/1251 [==============================] - 6s 5ms/step - loss: 0.3819 - accuracy: 0.8682\n",
      "Epoch 35/50\n",
      "1251/1251 [==============================] - 6s 5ms/step - loss: 0.3780 - accuracy: 0.8709\n",
      "Epoch 36/50\n",
      "1251/1251 [==============================] - 7s 6ms/step - loss: 0.3715 - accuracy: 0.8695\n",
      "Epoch 37/50\n",
      "1251/1251 [==============================] - 8s 6ms/step - loss: 0.3699 - accuracy: 0.8728\n",
      "Epoch 38/50\n",
      "1251/1251 [==============================] - 6s 5ms/step - loss: 0.3635 - accuracy: 0.8735\n",
      "Epoch 39/50\n",
      "1251/1251 [==============================] - 7s 5ms/step - loss: 0.3554 - accuracy: 0.8776\n",
      "Epoch 40/50\n",
      "1251/1251 [==============================] - 6s 5ms/step - loss: 0.3552 - accuracy: 0.8779\n",
      "Epoch 41/50\n",
      "1251/1251 [==============================] - 6s 5ms/step - loss: 0.3461 - accuracy: 0.8805\n",
      "Epoch 42/50\n",
      "1251/1251 [==============================] - 6s 5ms/step - loss: 0.3417 - accuracy: 0.8822\n",
      "Epoch 43/50\n",
      "1251/1251 [==============================] - 7s 6ms/step - loss: 0.3388 - accuracy: 0.8828\n",
      "Epoch 44/50\n",
      "1251/1251 [==============================] - 6s 5ms/step - loss: 0.3370 - accuracy: 0.8844\n",
      "Epoch 45/50\n",
      "1251/1251 [==============================] - 7s 6ms/step - loss: 0.3319 - accuracy: 0.8884\n",
      "Epoch 46/50\n",
      "1251/1251 [==============================] - 7s 5ms/step - loss: 0.3248 - accuracy: 0.8887\n",
      "Epoch 47/50\n",
      "1251/1251 [==============================] - 7s 6ms/step - loss: 0.3215 - accuracy: 0.8893\n",
      "Epoch 48/50\n",
      "1251/1251 [==============================] - 6s 5ms/step - loss: 0.3251 - accuracy: 0.8902\n",
      "Epoch 49/50\n",
      "1251/1251 [==============================] - 6s 5ms/step - loss: 0.3219 - accuracy: 0.8895\n",
      "Epoch 50/50\n",
      "1251/1251 [==============================] - 6s 5ms/step - loss: 0.3133 - accuracy: 0.8930\n",
      "For  50  Epochs:\n",
      "Log-loss for Train Dataset =  0.07886501718822887\n",
      "Log-loss for Test Dataset =  0.763622320814511\n",
      "Accuracy for Train Dataset =  0.9827525871119333\n",
      "Accuracy for Test Dataset =  0.7743\n",
      "\n"
     ]
    }
   ],
   "source": [
    "num_epochs = [10, 20, 30, 40, 50]\n",
    "train_loss, test_loss, train_acc, test_acc = [], [], [], []\n",
    "\n",
    "for epochs in num_epochs:\n",
    "    # Training the Model\n",
    "    conv_model = cnn_model((32, 32, 3))\n",
    "    conv_model.compile(optimizer='adam', loss='categorical_crossentropy', metrics='accuracy')\n",
    "    conv_model.fit(train_dataset, epochs = epochs)\n",
    "    \n",
    "    # Predicting on the Train/Test Datasets\n",
    "    preds_train = conv_model.predict(df_train)\n",
    "    preds_test = conv_model.predict(df_test)\n",
    "\n",
    "    # Finding the Predicted Classes\n",
    "    cls_train = np.argmax(preds_train, axis = 1)\n",
    "    cls_test = np.argmax(preds_test, axis = 1)\n",
    "    \n",
    "    # Finding the Train/Test set Loss\n",
    "    train_loss.append(log_loss(y_train_oh, preds_train))\n",
    "    test_loss.append(log_loss(y_test_oh, preds_test))\n",
    "    train_acc.append(accuracy_score(y_train, cls_train))\n",
    "    test_acc.append(accuracy_score(y_test, cls_test))\n",
    "    \n",
    "    print(\"For \", epochs, \" Epochs:\")\n",
    "    print(\"Log-loss for Train Dataset = \", train_loss[-1])\n",
    "    print(\"Log-loss for Test Dataset = \", test_loss[-1])\n",
    "    print(\"Accuracy for Train Dataset = \", train_acc[-1])\n",
    "    print(\"Accuracy for Test Dataset = \", test_acc[-1])\n",
    "    print()"
   ]
  },
  {
   "cell_type": "code",
   "execution_count": 11,
   "id": "030d36c3",
   "metadata": {
    "_kg_hide-output": true,
    "execution": {
     "iopub.execute_input": "2022-04-06T18:27:39.922581Z",
     "iopub.status.busy": "2022-04-06T18:27:39.921600Z",
     "iopub.status.idle": "2022-04-06T18:35:05.446997Z",
     "shell.execute_reply": "2022-04-06T18:35:05.447592Z",
     "shell.execute_reply.started": "2022-04-06T18:01:50.693094Z"
    },
    "papermill": {
     "duration": 451.917241,
     "end_time": "2022-04-06T18:35:05.447799",
     "exception": false,
     "start_time": "2022-04-06T18:27:33.530558",
     "status": "completed"
    },
    "scrolled": true,
    "tags": []
   },
   "outputs": [
    {
     "name": "stdout",
     "output_type": "stream",
     "text": [
      "Epoch 1/50\n",
      "1251/1251 [==============================] - 7s 5ms/step - loss: 1.7276 - accuracy: 0.3701\n",
      "Epoch 2/50\n",
      "1251/1251 [==============================] - 6s 5ms/step - loss: 1.3474 - accuracy: 0.5215\n",
      "Epoch 3/50\n",
      "1251/1251 [==============================] - 6s 5ms/step - loss: 1.1618 - accuracy: 0.5946\n",
      "Epoch 4/50\n",
      "1251/1251 [==============================] - 6s 5ms/step - loss: 1.0334 - accuracy: 0.6423\n",
      "Epoch 5/50\n",
      "1251/1251 [==============================] - 6s 5ms/step - loss: 0.9543 - accuracy: 0.6708\n",
      "Epoch 6/50\n",
      "1251/1251 [==============================] - 7s 5ms/step - loss: 0.8870 - accuracy: 0.6936\n",
      "Epoch 7/50\n",
      "1251/1251 [==============================] - 9s 7ms/step - loss: 0.8356 - accuracy: 0.7109\n",
      "Epoch 8/50\n",
      "1251/1251 [==============================] - 7s 6ms/step - loss: 0.7925 - accuracy: 0.7254\n",
      "Epoch 9/50\n",
      "1251/1251 [==============================] - 6s 5ms/step - loss: 0.7566 - accuracy: 0.7393\n",
      "Epoch 10/50\n",
      "1251/1251 [==============================] - 7s 5ms/step - loss: 0.7237 - accuracy: 0.7518\n",
      "Epoch 11/50\n",
      "1251/1251 [==============================] - 6s 5ms/step - loss: 0.6997 - accuracy: 0.7580\n",
      "Epoch 12/50\n",
      "1251/1251 [==============================] - 6s 5ms/step - loss: 0.6601 - accuracy: 0.7705\n",
      "Epoch 13/50\n",
      "1251/1251 [==============================] - 7s 5ms/step - loss: 0.6386 - accuracy: 0.7783\n",
      "Epoch 14/50\n",
      "1251/1251 [==============================] - 6s 5ms/step - loss: 0.6175 - accuracy: 0.7849\n",
      "Epoch 15/50\n",
      "1251/1251 [==============================] - 6s 5ms/step - loss: 0.5958 - accuracy: 0.7931\n",
      "Epoch 16/50\n",
      "1251/1251 [==============================] - 7s 6ms/step - loss: 0.5803 - accuracy: 0.7984\n",
      "Epoch 17/50\n",
      "1251/1251 [==============================] - 7s 6ms/step - loss: 0.5593 - accuracy: 0.8071\n",
      "Epoch 18/50\n",
      "1251/1251 [==============================] - 7s 5ms/step - loss: 0.5391 - accuracy: 0.8136\n",
      "Epoch 19/50\n",
      "1251/1251 [==============================] - 6s 5ms/step - loss: 0.5319 - accuracy: 0.8172\n",
      "Epoch 20/50\n",
      "1251/1251 [==============================] - 6s 5ms/step - loss: 0.5205 - accuracy: 0.8200\n",
      "Epoch 21/50\n",
      "1251/1251 [==============================] - 6s 5ms/step - loss: 0.5032 - accuracy: 0.8251\n",
      "Epoch 22/50\n",
      "1251/1251 [==============================] - 7s 5ms/step - loss: 0.4859 - accuracy: 0.8320\n",
      "Epoch 23/50\n",
      "1251/1251 [==============================] - 6s 5ms/step - loss: 0.4748 - accuracy: 0.8363\n",
      "Epoch 24/50\n",
      "1251/1251 [==============================] - 6s 5ms/step - loss: 0.4652 - accuracy: 0.8396\n",
      "Epoch 25/50\n",
      "1251/1251 [==============================] - 8s 7ms/step - loss: 0.4623 - accuracy: 0.8408\n",
      "Epoch 26/50\n",
      "1251/1251 [==============================] - 8s 7ms/step - loss: 0.4496 - accuracy: 0.8446\n",
      "Epoch 27/50\n",
      "1251/1251 [==============================] - 6s 5ms/step - loss: 0.4379 - accuracy: 0.8505\n",
      "Epoch 28/50\n",
      "1251/1251 [==============================] - 6s 5ms/step - loss: 0.4302 - accuracy: 0.8512\n",
      "Epoch 29/50\n",
      "1251/1251 [==============================] - 7s 5ms/step - loss: 0.4262 - accuracy: 0.8547\n",
      "Epoch 30/50\n",
      "1251/1251 [==============================] - 6s 5ms/step - loss: 0.4178 - accuracy: 0.8563\n",
      "Epoch 31/50\n",
      "1251/1251 [==============================] - 6s 5ms/step - loss: 0.4081 - accuracy: 0.8606\n",
      "Epoch 32/50\n",
      "1251/1251 [==============================] - 6s 5ms/step - loss: 0.4001 - accuracy: 0.8626\n",
      "Epoch 33/50\n",
      "1251/1251 [==============================] - 7s 5ms/step - loss: 0.3963 - accuracy: 0.8631\n",
      "Epoch 34/50\n",
      "1251/1251 [==============================] - 6s 5ms/step - loss: 0.3881 - accuracy: 0.8660\n",
      "Epoch 35/50\n",
      "1251/1251 [==============================] - 6s 5ms/step - loss: 0.3824 - accuracy: 0.8673\n",
      "Epoch 36/50\n",
      "1251/1251 [==============================] - 6s 5ms/step - loss: 0.3768 - accuracy: 0.8715\n",
      "Epoch 37/50\n",
      "1251/1251 [==============================] - 6s 5ms/step - loss: 0.3735 - accuracy: 0.8721\n",
      "Epoch 38/50\n",
      "1251/1251 [==============================] - 6s 5ms/step - loss: 0.3697 - accuracy: 0.8748\n",
      "Epoch 39/50\n",
      "1251/1251 [==============================] - 8s 7ms/step - loss: 0.3580 - accuracy: 0.8762\n",
      "Epoch 40/50\n",
      "1251/1251 [==============================] - 8s 6ms/step - loss: 0.3511 - accuracy: 0.8805\n",
      "Epoch 41/50\n",
      "1251/1251 [==============================] - 6s 5ms/step - loss: 0.3541 - accuracy: 0.8808\n",
      "Epoch 42/50\n",
      "1251/1251 [==============================] - 6s 5ms/step - loss: 0.3479 - accuracy: 0.8821\n",
      "Epoch 43/50\n",
      "1251/1251 [==============================] - 7s 5ms/step - loss: 0.3429 - accuracy: 0.8834\n",
      "Epoch 44/50\n",
      "1251/1251 [==============================] - 6s 5ms/step - loss: 0.3431 - accuracy: 0.8829\n",
      "Epoch 45/50\n",
      "1251/1251 [==============================] - 6s 5ms/step - loss: 0.3355 - accuracy: 0.8846\n",
      "Epoch 46/50\n",
      "1251/1251 [==============================] - 6s 5ms/step - loss: 0.3312 - accuracy: 0.8891\n",
      "Epoch 47/50\n",
      "1251/1251 [==============================] - 7s 5ms/step - loss: 0.3245 - accuracy: 0.8894\n",
      "Epoch 48/50\n",
      "1251/1251 [==============================] - 6s 5ms/step - loss: 0.3223 - accuracy: 0.8899\n",
      "Epoch 49/50\n",
      "1251/1251 [==============================] - 6s 5ms/step - loss: 0.3177 - accuracy: 0.8916\n",
      "Epoch 50/50\n",
      "1251/1251 [==============================] - 6s 5ms/step - loss: 0.3185 - accuracy: 0.8932\n"
     ]
    }
   ],
   "source": [
    "# Training the Model with the best hyper-parameter settings\n",
    "ind = np.argmax(test_acc)\n",
    "best_num_epochs = num_epochs[ind]\n",
    "conv_model = cnn_model((32, 32, 3))\n",
    "conv_model.compile(optimizer='adam', loss='categorical_crossentropy', metrics='accuracy')\n",
    "conv_model.fit(train_dataset, epochs = best_num_epochs)\n",
    "\n",
    "# Saving the model along with it's weights\n",
    "conv_model.save('baseline_model.h5')"
   ]
  },
  {
   "cell_type": "markdown",
   "id": "b3b98464",
   "metadata": {
    "papermill": {
     "duration": 8.213589,
     "end_time": "2022-04-06T18:35:22.773129",
     "exception": false,
     "start_time": "2022-04-06T18:35:14.559540",
     "status": "completed"
    },
    "tags": []
   },
   "source": [
    "## 5.3. Evaluating/Inferencing on the Train/Test Sets"
   ]
  },
  {
   "cell_type": "code",
   "execution_count": 12,
   "id": "c1fe49ba",
   "metadata": {
    "execution": {
     "iopub.execute_input": "2022-04-06T18:35:39.424263Z",
     "iopub.status.busy": "2022-04-06T18:35:39.423280Z",
     "iopub.status.idle": "2022-04-06T18:35:46.746285Z",
     "shell.execute_reply": "2022-04-06T18:35:46.745352Z",
     "shell.execute_reply.started": "2022-04-06T18:02:29.105261Z"
    },
    "papermill": {
     "duration": 15.456177,
     "end_time": "2022-04-06T18:35:46.746454",
     "exception": false,
     "start_time": "2022-04-06T18:35:31.290277",
     "status": "completed"
    },
    "tags": []
   },
   "outputs": [],
   "source": [
    "# Predicting on the Train/Test Datasets\n",
    "preds_train = conv_model.predict(df_train)\n",
    "preds_test = conv_model.predict(df_test)\n",
    "\n",
    "# Finding the Predicted Classes\n",
    "cls_train = np.argmax(preds_train, axis = 1)\n",
    "cls_test = np.argmax(preds_test, axis = 1)"
   ]
  },
  {
   "cell_type": "code",
   "execution_count": 13,
   "id": "5f7a9b47",
   "metadata": {
    "execution": {
     "iopub.execute_input": "2022-04-06T18:36:03.223989Z",
     "iopub.status.busy": "2022-04-06T18:36:03.223145Z",
     "iopub.status.idle": "2022-04-06T18:36:03.292978Z",
     "shell.execute_reply": "2022-04-06T18:36:03.292429Z",
     "shell.execute_reply.started": "2022-04-06T18:02:33.188233Z"
    },
    "papermill": {
     "duration": 8.060433,
     "end_time": "2022-04-06T18:36:03.293129",
     "exception": false,
     "start_time": "2022-04-06T18:35:55.232696",
     "status": "completed"
    },
    "tags": []
   },
   "outputs": [
    {
     "name": "stdout",
     "output_type": "stream",
     "text": [
      "Log-loss for Train Dataset =  0.07668840324139689\n",
      "Log-loss for Test Dataset =  0.780156585093371\n",
      "Accuracy for Train Dataset =  0.9808528720691896\n",
      "Accuracy for Test Dataset =  0.7822\n"
     ]
    }
   ],
   "source": [
    "# Finding the Train/Test set Loss\n",
    "print(\"Log-loss for Train Dataset = \", log_loss(y_train_oh, preds_train))\n",
    "print(\"Log-loss for Test Dataset = \", log_loss(y_test_oh, preds_test))\n",
    "print(\"Accuracy for Train Dataset = \", accuracy_score(y_train, cls_train))\n",
    "print(\"Accuracy for Test Dataset = \", accuracy_score(y_test, cls_test))"
   ]
  }
 ],
 "metadata": {
  "kernelspec": {
   "display_name": "Python 3",
   "language": "python",
   "name": "python3"
  },
  "language_info": {
   "codemirror_mode": {
    "name": "ipython",
    "version": 3
   },
   "file_extension": ".py",
   "mimetype": "text/x-python",
   "name": "python",
   "nbconvert_exporter": "python",
   "pygments_lexer": "ipython3",
   "version": "3.7.12"
  },
  "papermill": {
   "default_parameters": {},
   "duration": 1891.678061,
   "end_time": "2022-04-06T18:36:15.030206",
   "environment_variables": {},
   "exception": null,
   "input_path": "__notebook__.ipynb",
   "output_path": "__notebook__.ipynb",
   "parameters": {},
   "start_time": "2022-04-06T18:04:43.352145",
   "version": "2.3.3"
  }
 },
 "nbformat": 4,
 "nbformat_minor": 5
}
