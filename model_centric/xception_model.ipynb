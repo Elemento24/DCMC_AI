{
 "cells": [
  {
   "cell_type": "markdown",
   "id": "5878ddba",
   "metadata": {
    "_cell_guid": "b1076dfc-b9ad-4769-8c92-a6c4dae69d19",
    "_uuid": "8f2839f25d086af736a60e9eeb907d3b93b6e0e5",
    "papermill": {
     "duration": 0.01453,
     "end_time": "2022-05-10T11:33:40.077263",
     "exception": false,
     "start_time": "2022-05-10T11:33:40.062733",
     "status": "completed"
    },
    "tags": []
   },
   "source": [
    "# Xception\n",
    "- CIFAR10 dataset is used to train the pre-trained model **Xception**. \n",
    "- Only the labelled dataset is used in this model.\n",
    "- Fine-tuning of the model is also done, through freezing the layer, adding new layers to the model etc.\n",
    "- The hyper-parameter tuning regarding the **#epochs** is fixed and carried out similarly in all the kernels. We have tried **[10, 20, 30, 40, 50]** epochs, and for the final model, selected the setting (#epochs) with the largest test accuracy."
   ]
  },
  {
   "cell_type": "markdown",
   "id": "5e887925",
   "metadata": {
    "papermill": {
     "duration": 0.012588,
     "end_time": "2022-05-10T11:33:40.103095",
     "exception": false,
     "start_time": "2022-05-10T11:33:40.090507",
     "status": "completed"
    },
    "tags": []
   },
   "source": [
    "# Importing the Packages"
   ]
  },
  {
   "cell_type": "code",
   "execution_count": 1,
   "id": "7739048d",
   "metadata": {
    "execution": {
     "iopub.execute_input": "2022-05-10T11:33:40.140220Z",
     "iopub.status.busy": "2022-05-10T11:33:40.139388Z",
     "iopub.status.idle": "2022-05-10T11:33:45.803764Z",
     "shell.execute_reply": "2022-05-10T11:33:45.803069Z",
     "shell.execute_reply.started": "2022-05-10T10:14:30.469383Z"
    },
    "papermill": {
     "duration": 5.688135,
     "end_time": "2022-05-10T11:33:45.803948",
     "exception": false,
     "start_time": "2022-05-10T11:33:40.115813",
     "status": "completed"
    },
    "tags": []
   },
   "outputs": [],
   "source": [
    "import os\n",
    "import sys\n",
    "import numpy as np\n",
    "import pandas as pd\n",
    "import matplotlib.pyplot as plt\n",
    "\n",
    "from tqdm import tqdm\n",
    "from tabulate import tabulate\n",
    "from sklearn.metrics import accuracy_score, log_loss, f1_score\n",
    "\n",
    "# https://www.kaggle.com/c/ventilator-pressure-prediction/discussion/274717\n",
    "os.environ['TF_CPP_MIN_LOG_LEVEL'] = '3' \n",
    "\n",
    "import tensorflow as tf\n",
    "import keras\n",
    "from tensorflow.keras import layers\n",
    "from tensorflow.keras.applications import Xception"
   ]
  },
  {
   "cell_type": "code",
   "execution_count": 2,
   "id": "ab5cc436",
   "metadata": {
    "execution": {
     "iopub.execute_input": "2022-05-10T11:33:48.210560Z",
     "iopub.status.busy": "2022-05-10T11:33:48.209485Z",
     "iopub.status.idle": "2022-05-10T11:33:48.214122Z",
     "shell.execute_reply": "2022-05-10T11:33:48.213426Z",
     "shell.execute_reply.started": "2022-05-10T10:15:07.720137Z"
    },
    "papermill": {
     "duration": 2.396819,
     "end_time": "2022-05-10T11:33:48.214308",
     "exception": false,
     "start_time": "2022-05-10T11:33:45.817489",
     "status": "completed"
    },
    "tags": []
   },
   "outputs": [
    {
     "name": "stdout",
     "output_type": "stream",
     "text": [
      "Found GPU at: /device:GPU:0\n"
     ]
    }
   ],
   "source": [
    "# Making sure that Tensorflow is able to detect the GPU\n",
    "device_name = tf.test.gpu_device_name()\n",
    "if \"GPU\" not in device_name:\n",
    "    print(\"GPU device not found\")\n",
    "print('Found GPU at: {}'.format(device_name))"
   ]
  },
  {
   "cell_type": "code",
   "execution_count": 3,
   "id": "3f4f7fee",
   "metadata": {
    "execution": {
     "iopub.execute_input": "2022-05-10T11:33:48.250995Z",
     "iopub.status.busy": "2022-05-10T11:33:48.249343Z",
     "iopub.status.idle": "2022-05-10T11:33:48.251598Z",
     "shell.execute_reply": "2022-05-10T11:33:48.252031Z",
     "shell.execute_reply.started": "2022-05-10T10:15:10.142386Z"
    },
    "papermill": {
     "duration": 0.023244,
     "end_time": "2022-05-10T11:33:48.252168",
     "exception": false,
     "start_time": "2022-05-10T11:33:48.228924",
     "status": "completed"
    },
    "tags": []
   },
   "outputs": [],
   "source": [
    "# These are the usual ipython objects\n",
    "ipython_vars = ['In', 'Out', 'exit', 'quit', 'get_ipython', 'ipython_vars']\n",
    "\n",
    "# Defining a function to list the memory consumed\n",
    "# Only outputs variables taking at least 1MB space\n",
    "def list_storage(inp_dir):\n",
    "    # Get a sorted list of the objects and their sizes\n",
    "    vars_defined = [x for x in inp_dir if not x.startswith('_') and x not in sys.modules and x not in ipython_vars]\n",
    "    sto = sorted([(x, sys.getsizeof(globals().get(x))) for x in vars_defined], key=lambda x: x[1], reverse=True)\n",
    "    sto = [(x[0], str(round((x[1] / 2**20), 2)) + ' MB') for x in sto if x[1] >= 2**20]\n",
    "    print(tabulate(sto, headers = ['Variable', 'Storage (in MB)']))\n",
    "\n",
    "# In order to use this function, use the below line of code\n",
    "# list_storage(dir())"
   ]
  },
  {
   "cell_type": "code",
   "execution_count": 4,
   "id": "8cb86f36",
   "metadata": {
    "execution": {
     "iopub.execute_input": "2022-05-10T11:33:48.283612Z",
     "iopub.status.busy": "2022-05-10T11:33:48.283085Z",
     "iopub.status.idle": "2022-05-10T11:34:14.679984Z",
     "shell.execute_reply": "2022-05-10T11:34:14.679429Z",
     "shell.execute_reply.started": "2022-05-10T10:15:10.177185Z"
    },
    "papermill": {
     "duration": 26.414716,
     "end_time": "2022-05-10T11:34:14.680133",
     "exception": false,
     "start_time": "2022-05-10T11:33:48.265417",
     "status": "completed"
    },
    "tags": []
   },
   "outputs": [],
   "source": [
    "# Importing the Labelled Dataset\n",
    "df_train = pd.read_csv(\"../input/cifar10/train_lab_x.csv\")\n",
    "y_train = pd.read_csv(\"../input/cifar10/train_lab_y.csv\")\n",
    "\n",
    "# Importing the Test Dataset\n",
    "df_test = pd.read_csv(\"../input/cifar10/test_x.csv\")\n",
    "y_test = pd.read_csv(\"../input/cifar10/test_y.csv\")"
   ]
  },
  {
   "cell_type": "markdown",
   "id": "2f48c921",
   "metadata": {
    "papermill": {
     "duration": 0.012973,
     "end_time": "2022-05-10T11:34:14.706486",
     "exception": false,
     "start_time": "2022-05-10T11:34:14.693513",
     "status": "completed"
    },
    "tags": []
   },
   "source": [
    "# Basic Pre-processing"
   ]
  },
  {
   "cell_type": "code",
   "execution_count": 5,
   "id": "49207d02",
   "metadata": {
    "execution": {
     "iopub.execute_input": "2022-05-10T11:34:14.739169Z",
     "iopub.status.busy": "2022-05-10T11:34:14.738040Z",
     "iopub.status.idle": "2022-05-10T11:34:15.347111Z",
     "shell.execute_reply": "2022-05-10T11:34:15.347662Z",
     "shell.execute_reply.started": "2022-05-10T10:15:36.585852Z"
    },
    "papermill": {
     "duration": 0.628571,
     "end_time": "2022-05-10T11:34:15.347865",
     "exception": false,
     "start_time": "2022-05-10T11:34:14.719294",
     "status": "completed"
    },
    "tags": []
   },
   "outputs": [
    {
     "name": "stdout",
     "output_type": "stream",
     "text": [
      "(40006, 3072) (40006, 1)\n",
      "(40006, 3, 32, 32)\n",
      "[0]\n"
     ]
    },
    {
     "data": {
      "image/png": "[encoded data removed]",
      "text/plain": [
       "<Figure size 108x108 with 1 Axes>"
      ]
     },
     "metadata": {
      "needs_background": "light"
     },
     "output_type": "display_data"
    }
   ],
   "source": [
    "df_train = np.array(df_train)\n",
    "y_train = np.array(y_train)\n",
    "print(df_train.shape, y_train.shape)\n",
    "\n",
    "# Reshaping the dataset\n",
    "df_train = np.reshape(df_train, (-1, 3, 32, 32))\n",
    "print(df_train.shape)\n",
    "\n",
    "# Visualizing a single image\n",
    "ind = 15\n",
    "example = df_train[ind, : , : , : ]\n",
    "example = example.transpose((1, 2, 0))\n",
    "plt.figure(figsize=(1.5, 1.5))\n",
    "plt.imshow(example)\n",
    "print(y_train[ind])"
   ]
  },
  {
   "cell_type": "code",
   "execution_count": 6,
   "id": "06f190d5",
   "metadata": {
    "execution": {
     "iopub.execute_input": "2022-05-10T11:34:15.404546Z",
     "iopub.status.busy": "2022-05-10T11:34:15.403655Z",
     "iopub.status.idle": "2022-05-10T11:34:17.836232Z",
     "shell.execute_reply": "2022-05-10T11:34:17.836807Z",
     "shell.execute_reply.started": "2022-05-10T10:15:37.111005Z"
    },
    "papermill": {
     "duration": 2.464588,
     "end_time": "2022-05-10T11:34:17.837010",
     "exception": false,
     "start_time": "2022-05-10T11:34:15.372422",
     "status": "completed"
    },
    "tags": []
   },
   "outputs": [
    {
     "name": "stdout",
     "output_type": "stream",
     "text": [
      "(40006, 32, 32, 3) (40006, 10)\n"
     ]
    }
   ],
   "source": [
    "# Creating a random permutation\n",
    "perm = np.random.permutation(df_train.shape[0])\n",
    "\n",
    "# Shuffling the training dataset\n",
    "df_train = df_train[perm, : , : , : ]\n",
    "y_train = y_train[perm]\n",
    "\n",
    "# Reshaping, rescaling and one-hot encoding\n",
    "df_train = np.transpose(np.array(df_train), (0, 2, 3, 1))\n",
    "df_train = df_train / 255\n",
    "y_train_oh = tf.one_hot(np.ravel(y_train), depth = 10)\n",
    "\n",
    "print(df_train.shape, y_train_oh.shape)"
   ]
  },
  {
   "cell_type": "code",
   "execution_count": 7,
   "id": "eea6c443",
   "metadata": {
    "execution": {
     "iopub.execute_input": "2022-05-10T11:34:17.873907Z",
     "iopub.status.busy": "2022-05-10T11:34:17.872844Z",
     "iopub.status.idle": "2022-05-10T11:34:18.149071Z",
     "shell.execute_reply": "2022-05-10T11:34:18.148416Z",
     "shell.execute_reply.started": "2022-05-10T10:15:39.554129Z"
    },
    "papermill": {
     "duration": 0.296542,
     "end_time": "2022-05-10T11:34:18.149237",
     "exception": false,
     "start_time": "2022-05-10T11:34:17.852695",
     "status": "completed"
    },
    "tags": []
   },
   "outputs": [
    {
     "name": "stdout",
     "output_type": "stream",
     "text": [
      "(10000, 3072) (10000, 1)\n",
      "(10000, 3, 32, 32)\n",
      "(10000, 32, 32, 3) (10000, 10)\n"
     ]
    }
   ],
   "source": [
    "df_test = np.array(df_test)\n",
    "y_test = np.array(y_test)\n",
    "print(df_test.shape, y_test.shape)\n",
    "\n",
    "# Reshaping the dataset\n",
    "df_test = np.reshape(df_test, (-1, 3, 32, 32))\n",
    "print(df_test.shape)\n",
    "\n",
    "# Reshaping, rescaling and one-hot encoding\n",
    "df_test = np.transpose(np.array(df_test), (0, 2, 3, 1))\n",
    "df_test = df_test / 255\n",
    "y_test_oh = tf.one_hot(np.ravel(y_test), depth = 10)\n",
    "print(df_test.shape, y_test_oh.shape)"
   ]
  },
  {
   "cell_type": "markdown",
   "id": "1571495a",
   "metadata": {
    "papermill": {
     "duration": 0.014861,
     "end_time": "2022-05-10T11:34:18.180324",
     "exception": false,
     "start_time": "2022-05-10T11:34:18.165463",
     "status": "completed"
    },
    "tags": []
   },
   "source": [
    "# Training & Hyperparamater-Tuning for the Model"
   ]
  },
  {
   "cell_type": "code",
   "execution_count": 8,
   "id": "40dbcc4f",
   "metadata": {
    "execution": {
     "iopub.execute_input": "2022-05-10T11:34:18.216122Z",
     "iopub.status.busy": "2022-05-10T11:34:18.214428Z",
     "iopub.status.idle": "2022-05-10T11:34:18.218424Z",
     "shell.execute_reply": "2022-05-10T11:34:18.218032Z",
     "shell.execute_reply.started": "2022-05-10T10:24:01.878969Z"
    },
    "papermill": {
     "duration": 0.021581,
     "end_time": "2022-05-10T11:34:18.218532",
     "exception": false,
     "start_time": "2022-05-10T11:34:18.196951",
     "status": "completed"
    },
    "tags": []
   },
   "outputs": [],
   "source": [
    "to_res = (64, 64)"
   ]
  },
  {
   "cell_type": "code",
   "execution_count": 9,
   "id": "8a2227b5",
   "metadata": {
    "_kg_hide-output": true,
    "execution": {
     "iopub.execute_input": "2022-05-10T11:34:18.261003Z",
     "iopub.status.busy": "2022-05-10T11:34:18.256385Z",
     "iopub.status.idle": "2022-05-10T11:34:22.761597Z",
     "shell.execute_reply": "2022-05-10T11:34:22.761094Z",
     "shell.execute_reply.started": "2022-05-10T10:24:04.509468Z"
    },
    "papermill": {
     "duration": 4.528491,
     "end_time": "2022-05-10T11:34:22.761744",
     "exception": false,
     "start_time": "2022-05-10T11:34:18.233253",
     "status": "completed"
    },
    "scrolled": true,
    "tags": []
   },
   "outputs": [],
   "source": [
    "# If the model has been pre-trained\n",
    "try:\n",
    "    model = tf.keras.models.load_model('../input/dcai-rw/xcptn_model.h5')\n",
    "    \n",
    "# If the model hasn't been pre-trained\n",
    "except:\n",
    "    input_t = tf.keras.Input(shape = (64, 64, 3))\n",
    "    xcptn_model = Xception(weights='imagenet', include_top=False, input_tensor=input_t,\n",
    "                                 pooling='max')\n",
    "    xcptn_model.summary()\n",
    "    \n",
    "    for layer in xcptn_model.layers:\n",
    "        layer.trainable = True\n",
    "\n",
    "    for i, layer in enumerate(xcptn_model.layers):\n",
    "        print(i, layer.name, \"-\", layer.trainable)\n",
    "        \n",
    "    model = tf.keras.models.Sequential()\n",
    "    model.add(layers.Lambda(lambda image: tf.image.resize(image, to_res))) \n",
    "    model.add(xcptn_model)\n",
    "    model.add(layers.Flatten())\n",
    "    model.add(layers.BatchNormalization())\n",
    "    model.add(layers.Dense(256, activation='relu'))\n",
    "    model.add(layers.Dropout(0.5))\n",
    "    model.add(layers.BatchNormalization())\n",
    "    model.add(layers.Dense(128, activation='relu'))\n",
    "    model.add(layers.Dropout(0.5))\n",
    "    model.add(layers.BatchNormalization())\n",
    "    model.add(layers.Dense(64, activation='relu'))\n",
    "    model.add(layers.Dropout(0.5))\n",
    "    model.add(layers.BatchNormalization())\n",
    "    model.add(layers.Dense(10, activation='softmax'))\n",
    "    \n",
    "    loss = 'categorical_crossentropy'\n",
    "    opt = tf.keras.optimizers.Adam(learning_rate=2e-5)\n",
    "    metrics = ['accuracy']\n",
    "\n",
    "    model.compile(loss = loss, optimizer = opt, metrics = metrics)\n",
    "    model.build((None, 64, 64, 3))\n",
    "    model.summary()\n",
    "    \n",
    "    # Composing the Train Dataset\n",
    "    train_dataset = tf.data.Dataset.from_tensor_slices((df_train, y_train_oh)).batch(32)\n",
    "\n",
    "    num_epochs = [10, 20, 30, 40, 50]\n",
    "    train_loss, test_loss, train_acc, test_acc = [], [], [], []\n",
    "\n",
    "    for epochs in num_epochs:\n",
    "        # Training the Model\n",
    "        model.compile(optimizer='adam', loss='categorical_crossentropy', metrics='accuracy')\n",
    "        model.fit(train_dataset, epochs = epochs)\n",
    "\n",
    "        # Predicting on the Train/Test Datasets\n",
    "        preds_train = model.predict(df_train)\n",
    "        preds_test = model.predict(df_test)\n",
    "\n",
    "        # Finding the Predicted Classes\n",
    "        cls_train = np.argmax(preds_train, axis = 1)\n",
    "        cls_test = np.argmax(preds_test, axis = 1)\n",
    "\n",
    "        # Finding the Train/Test set Loss\n",
    "        train_loss.append(log_loss(y_train_oh, preds_train))\n",
    "        test_loss.append(log_loss(y_test_oh, preds_test))\n",
    "        train_acc.append(accuracy_score(y_train, cls_train))\n",
    "        test_acc.append(accuracy_score(y_test, cls_test))\n",
    "\n",
    "        print(\"For \", epochs, \" Epochs:\")\n",
    "        print(\"Log-loss for Train Dataset = \", train_loss[-1])\n",
    "        print(\"Log-loss for Test Dataset = \", test_loss[-1])\n",
    "        print(\"Accuracy for Train Dataset = \", train_acc[-1])\n",
    "        print(\"Accuracy for Test Dataset = \", test_acc[-1])\n",
    "        print()\n",
    "    \n",
    "    # Training the Model with the best hyper-parameter settings\n",
    "    ind = np.argmax(test_acc)\n",
    "    best_num_epochs = num_epochs[ind]\n",
    "\n",
    "    model.compile(optimizer='adam', loss='categorical_crossentropy', metrics='accuracy')\n",
    "    model.fit(train_dataset, epochs = best_num_epochs)\n",
    "    model.save('xcptn_model.h5')\n",
    "    model = tf.keras.models.load_model('./xcptn_model.h5')"
   ]
  },
  {
   "cell_type": "markdown",
   "id": "388baf1a",
   "metadata": {
    "papermill": {
     "duration": 0.014763,
     "end_time": "2022-05-10T11:34:22.791766",
     "exception": false,
     "start_time": "2022-05-10T11:34:22.777003",
     "status": "completed"
    },
    "tags": []
   },
   "source": [
    "# Predicting & Evaluating on Train/Test Datasets"
   ]
  },
  {
   "cell_type": "code",
   "execution_count": 10,
   "id": "d9201af0",
   "metadata": {
    "execution": {
     "iopub.execute_input": "2022-05-10T11:34:22.827549Z",
     "iopub.status.busy": "2022-05-10T11:34:22.826800Z",
     "iopub.status.idle": "2022-05-10T11:35:10.277383Z",
     "shell.execute_reply": "2022-05-10T11:35:10.278092Z",
     "shell.execute_reply.started": "2022-05-10T10:24:25.510026Z"
    },
    "papermill": {
     "duration": 47.470982,
     "end_time": "2022-05-10T11:35:10.278274",
     "exception": false,
     "start_time": "2022-05-10T11:34:22.807292",
     "status": "completed"
    },
    "tags": []
   },
   "outputs": [],
   "source": [
    "# Predicting on the Train/Test Datasets\n",
    "preds_train = model.predict(df_train)\n",
    "preds_test = model.predict(df_test)\n",
    "\n",
    "# Finding the Predicted Classes\n",
    "train_cls = np.argmax(preds_train, axis = 1)\n",
    "test_cls = np.argmax(preds_test, axis = 1)"
   ]
  },
  {
   "cell_type": "code",
   "execution_count": 11,
   "id": "d10a1301",
   "metadata": {
    "execution": {
     "iopub.execute_input": "2022-05-10T11:35:10.336207Z",
     "iopub.status.busy": "2022-05-10T11:35:10.334105Z",
     "iopub.status.idle": "2022-05-10T11:35:10.462410Z",
     "shell.execute_reply": "2022-05-10T11:35:10.461803Z",
     "shell.execute_reply.started": "2022-05-10T10:25:12.424634Z"
    },
    "papermill": {
     "duration": 0.159774,
     "end_time": "2022-05-10T11:35:10.462561",
     "exception": false,
     "start_time": "2022-05-10T11:35:10.302787",
     "status": "completed"
    },
    "tags": []
   },
   "outputs": [
    {
     "name": "stdout",
     "output_type": "stream",
     "text": [
      "Accuracy for Train Dataset =  0.9972504124381343\n",
      "Accuracy for Test Dataset =  0.8957\n",
      "Log-loss for Train Dataset =  0.009731522791650571\n",
      "Log-loss for Test Dataset =  0.8017136794626224\n",
      "F1 Score for Train Dataset =  0.997250047109037\n",
      "F1 Score for Test Dataset =  0.8956651393697893\n"
     ]
    }
   ],
   "source": [
    "print(\"Accuracy for Train Dataset = \", accuracy_score(y_train, train_cls))\n",
    "print(\"Accuracy for Test Dataset = \", accuracy_score(y_test, test_cls))\n",
    "\n",
    "print(\"Log-loss for Train Dataset = \", log_loss(y_train_oh, preds_train))\n",
    "print(\"Log-loss for Test Dataset = \", log_loss(y_test_oh, preds_test))\n",
    "\n",
    "print(\"F1 Score for Train Dataset = \", f1_score(y_train, train_cls, average='weighted'))\n",
    "print(\"F1 Score for Test Dataset = \", f1_score(y_test, test_cls, average='weighted')) "
   ]
  }
 ],
 "metadata": {
  "kernelspec": {
   "display_name": "Python 3",
   "language": "python",
   "name": "python3"
  },
  "language_info": {
   "codemirror_mode": {
    "name": "ipython",
    "version": 3
   },
   "file_extension": ".py",
   "mimetype": "text/x-python",
   "name": "python",
   "nbconvert_exporter": "python",
   "pygments_lexer": "ipython3",
   "version": "3.7.12"
  },
  "papermill": {
   "default_parameters": {},
   "duration": 101.30472,
   "end_time": "2022-05-10T11:35:13.328928",
   "environment_variables": {},
   "exception": null,
   "input_path": "__notebook__.ipynb",
   "output_path": "__notebook__.ipynb",
   "parameters": {},
   "start_time": "2022-05-10T11:33:32.024208",
   "version": "2.3.3"
  }
 },
 "nbformat": 4,
 "nbformat_minor": 5
}
