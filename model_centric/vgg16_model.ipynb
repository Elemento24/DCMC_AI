{
 "cells": [
  {
   "cell_type": "markdown",
   "id": "366dd84f",
   "metadata": {
    "_cell_guid": "b1076dfc-b9ad-4769-8c92-a6c4dae69d19",
    "_uuid": "8f2839f25d086af736a60e9eeb907d3b93b6e0e5",
    "papermill": {
     "duration": 0.017962,
     "end_time": "2022-03-11T05:57:11.593804",
     "exception": false,
     "start_time": "2022-03-11T05:57:11.575842",
     "status": "completed"
    },
    "tags": []
   },
   "source": [
    "# VGG16\n",
    "- CIFAR10 dataset is used to train the pre-trained model VGG16. \n",
    "- Only the labelled dataset is used in this model.\n",
    "- Fine-tuning of the model is also done, through freezing the layer, adding new layers to the model etc."
   ]
  },
  {
   "cell_type": "markdown",
   "id": "b638af69",
   "metadata": {
    "papermill": {
     "duration": 0.016155,
     "end_time": "2022-03-11T05:57:11.628440",
     "exception": false,
     "start_time": "2022-03-11T05:57:11.612285",
     "status": "completed"
    },
    "tags": []
   },
   "source": [
    "## Importing the Packages"
   ]
  },
  {
   "cell_type": "code",
   "execution_count": 1,
   "id": "fc6a1d5a",
   "metadata": {
    "execution": {
     "iopub.execute_input": "2022-03-11T05:57:11.666198Z",
     "iopub.status.busy": "2022-03-11T05:57:11.664707Z",
     "iopub.status.idle": "2022-03-11T05:57:17.353357Z",
     "shell.execute_reply": "2022-03-11T05:57:17.352775Z",
     "shell.execute_reply.started": "2022-03-11T05:47:12.60293Z"
    },
    "papermill": {
     "duration": 5.708655,
     "end_time": "2022-03-11T05:57:17.353559",
     "exception": false,
     "start_time": "2022-03-11T05:57:11.644904",
     "status": "completed"
    },
    "tags": []
   },
   "outputs": [],
   "source": [
    "import os\n",
    "import sys\n",
    "import numpy as np\n",
    "import pandas as pd\n",
    "import matplotlib.pyplot as plt\n",
    "\n",
    "from tqdm import tqdm\n",
    "from tabulate import tabulate\n",
    "from sklearn.metrics import accuracy_score, log_loss\n",
    "\n",
    "# https://www.kaggle.com/c/ventilator-pressure-prediction/discussion/274717\n",
    "os.environ['TF_CPP_MIN_LOG_LEVEL'] = '3' \n",
    "\n",
    "import tensorflow as tf\n",
    "import keras\n",
    "from tensorflow.keras import layers\n",
    "from tensorflow.keras.applications import VGG16"
   ]
  },
  {
   "cell_type": "code",
   "execution_count": 2,
   "id": "a7004b06",
   "metadata": {
    "execution": {
     "iopub.execute_input": "2022-03-11T05:57:17.389271Z",
     "iopub.status.busy": "2022-03-11T05:57:17.388526Z",
     "iopub.status.idle": "2022-03-11T05:57:19.302529Z",
     "shell.execute_reply": "2022-03-11T05:57:19.303071Z",
     "shell.execute_reply.started": "2022-03-11T05:47:12.611595Z"
    },
    "papermill": {
     "duration": 1.932984,
     "end_time": "2022-03-11T05:57:19.303219",
     "exception": false,
     "start_time": "2022-03-11T05:57:17.370235",
     "status": "completed"
    },
    "tags": []
   },
   "outputs": [
    {
     "name": "stdout",
     "output_type": "stream",
     "text": [
      "Found GPU at: /device:GPU:0\n"
     ]
    }
   ],
   "source": [
    "# Making sure that Tensorflow is able to detect the GPU\n",
    "device_name = tf.test.gpu_device_name()\n",
    "if \"GPU\" not in device_name:\n",
    "    print(\"GPU device not found\")\n",
    "print('Found GPU at: {}'.format(device_name))"
   ]
  },
  {
   "cell_type": "code",
   "execution_count": 3,
   "id": "e3d54b32",
   "metadata": {
    "execution": {
     "iopub.execute_input": "2022-03-11T05:57:19.344045Z",
     "iopub.status.busy": "2022-03-11T05:57:19.343291Z",
     "iopub.status.idle": "2022-03-11T05:57:19.345449Z",
     "shell.execute_reply": "2022-03-11T05:57:19.345874Z",
     "shell.execute_reply.started": "2022-03-11T05:47:12.626848Z"
    },
    "papermill": {
     "duration": 0.025571,
     "end_time": "2022-03-11T05:57:19.346058",
     "exception": false,
     "start_time": "2022-03-11T05:57:19.320487",
     "status": "completed"
    },
    "tags": []
   },
   "outputs": [],
   "source": [
    "# These are the usual ipython objects\n",
    "ipython_vars = ['In', 'Out', 'exit', 'quit', 'get_ipython', 'ipython_vars']\n",
    "\n",
    "# Defining a function to list the memory consumed\n",
    "# Only outputs variables taking at least 1MB space\n",
    "def list_storage(inp_dir):\n",
    "    # Get a sorted list of the objects and their sizes\n",
    "    vars_defined = [x for x in inp_dir if not x.startswith('_') and x not in sys.modules and x not in ipython_vars]\n",
    "    sto = sorted([(x, sys.getsizeof(globals().get(x))) for x in vars_defined], key=lambda x: x[1], reverse=True)\n",
    "    sto = [(x[0], str(round((x[1] / 2**20), 2)) + ' MB') for x in sto if x[1] >= 2**20]\n",
    "    print(tabulate(sto, headers = ['Variable', 'Storage (in MB)']))\n",
    "\n",
    "# In order to use this function, use the below line of code\n",
    "# list_storage(dir())"
   ]
  },
  {
   "cell_type": "code",
   "execution_count": 4,
   "id": "f123e642",
   "metadata": {
    "execution": {
     "iopub.execute_input": "2022-03-11T05:57:19.383550Z",
     "iopub.status.busy": "2022-03-11T05:57:19.382987Z",
     "iopub.status.idle": "2022-03-11T05:57:45.971284Z",
     "shell.execute_reply": "2022-03-11T05:57:45.971747Z",
     "shell.execute_reply.started": "2022-03-11T05:47:12.637892Z"
    },
    "papermill": {
     "duration": 26.609191,
     "end_time": "2022-03-11T05:57:45.971912",
     "exception": false,
     "start_time": "2022-03-11T05:57:19.362721",
     "status": "completed"
    },
    "tags": []
   },
   "outputs": [],
   "source": [
    "# Importing the Labelled Dataset\n",
    "df_train = pd.read_csv(\"../input/cifar10/train_lab_x.csv\")\n",
    "y_train = pd.read_csv(\"../input/cifar10/train_lab_y.csv\")\n",
    "\n",
    "# Importing the Test Dataset\n",
    "df_test = pd.read_csv(\"../input/cifar10/test_x.csv\")\n",
    "y_test = pd.read_csv(\"../input/cifar10/test_y.csv\")"
   ]
  },
  {
   "cell_type": "markdown",
   "id": "1fd5c97d",
   "metadata": {
    "papermill": {
     "duration": 0.018367,
     "end_time": "2022-03-11T05:57:46.007939",
     "exception": false,
     "start_time": "2022-03-11T05:57:45.989572",
     "status": "completed"
    },
    "tags": []
   },
   "source": [
    "## Basic Pre-processing"
   ]
  },
  {
   "cell_type": "code",
   "execution_count": 5,
   "id": "f6943105",
   "metadata": {
    "execution": {
     "iopub.execute_input": "2022-03-11T05:57:46.047765Z",
     "iopub.status.busy": "2022-03-11T05:57:46.046618Z",
     "iopub.status.idle": "2022-03-11T05:57:46.564958Z",
     "shell.execute_reply": "2022-03-11T05:57:46.565494Z",
     "shell.execute_reply.started": "2022-03-11T05:47:33.752685Z"
    },
    "papermill": {
     "duration": 0.541153,
     "end_time": "2022-03-11T05:57:46.565647",
     "exception": false,
     "start_time": "2022-03-11T05:57:46.024494",
     "status": "completed"
    },
    "tags": []
   },
   "outputs": [
    {
     "name": "stdout",
     "output_type": "stream",
     "text": [
      "(40006, 3072) (40006, 1)\n",
      "(40006, 3, 32, 32)\n",
      "[0]\n"
     ]
    },
    {
     "data": {
      "image/png": "[encoded data removed]",
      "text/plain": [
       "<Figure size 108x108 with 1 Axes>"
      ]
     },
     "metadata": {
      "needs_background": "light"
     },
     "output_type": "display_data"
    }
   ],
   "source": [
    "df_train = np.array(df_train)\n",
    "y_train = np.array(y_train)\n",
    "print(df_train.shape, y_train.shape)\n",
    "\n",
    "# Reshaping the dataset\n",
    "df_train = np.reshape(df_train, (-1, 3, 32, 32))\n",
    "print(df_train.shape)\n",
    "\n",
    "# Visualizing a single image\n",
    "ind = 89\n",
    "example = df_train[ind, : , : , : ]\n",
    "example = example.transpose((1, 2, 0))\n",
    "plt.figure(figsize=(1.5, 1.5))\n",
    "plt.imshow(example)\n",
    "print(y_train[ind])"
   ]
  },
  {
   "cell_type": "code",
   "execution_count": 6,
   "id": "5383d1c4",
   "metadata": {
    "execution": {
     "iopub.execute_input": "2022-03-11T05:57:46.613753Z",
     "iopub.status.busy": "2022-03-11T05:57:46.612461Z",
     "iopub.status.idle": "2022-03-11T05:57:49.152835Z",
     "shell.execute_reply": "2022-03-11T05:57:49.153579Z",
     "shell.execute_reply.started": "2022-03-11T05:47:34.261785Z"
    },
    "papermill": {
     "duration": 2.567881,
     "end_time": "2022-03-11T05:57:49.153752",
     "exception": false,
     "start_time": "2022-03-11T05:57:46.585871",
     "status": "completed"
    },
    "tags": []
   },
   "outputs": [
    {
     "name": "stdout",
     "output_type": "stream",
     "text": [
      "(40006, 32, 32, 3) (40006, 10)\n"
     ]
    }
   ],
   "source": [
    "# Creating a random permutation\n",
    "perm = np.random.permutation(df_train.shape[0])\n",
    "\n",
    "# Shuffling the training dataset\n",
    "df_train = df_train[perm, : , : , : ]\n",
    "y_train = y_train[perm]\n",
    "\n",
    "# Reshaping, rescaling and one-hot encoding\n",
    "df_train = np.transpose(np.array(df_train), (0, 2, 3, 1))\n",
    "df_train = df_train / 255\n",
    "y_train_oh = tf.one_hot(np.ravel(y_train), depth = 10)\n",
    "\n",
    "print(df_train.shape, y_train_oh.shape)"
   ]
  },
  {
   "cell_type": "code",
   "execution_count": 7,
   "id": "d7fa555f",
   "metadata": {
    "execution": {
     "iopub.execute_input": "2022-03-11T05:57:49.196338Z",
     "iopub.status.busy": "2022-03-11T05:57:49.195242Z",
     "iopub.status.idle": "2022-03-11T05:57:49.471580Z",
     "shell.execute_reply": "2022-03-11T05:57:49.472176Z",
     "shell.execute_reply.started": "2022-03-11T05:47:36.390557Z"
    },
    "papermill": {
     "duration": 0.3006,
     "end_time": "2022-03-11T05:57:49.472384",
     "exception": false,
     "start_time": "2022-03-11T05:57:49.171784",
     "status": "completed"
    },
    "tags": []
   },
   "outputs": [
    {
     "name": "stdout",
     "output_type": "stream",
     "text": [
      "(10000, 3072) (10000, 1)\n",
      "(10000, 3, 32, 32)\n",
      "(10000, 32, 32, 3) (10000, 10)\n"
     ]
    }
   ],
   "source": [
    "df_test = np.array(df_test)\n",
    "y_test = np.array(y_test)\n",
    "print(df_test.shape, y_test.shape)\n",
    "\n",
    "# Reshaping the dataset\n",
    "df_test = np.reshape(df_test, (-1, 3, 32, 32))\n",
    "print(df_test.shape)\n",
    "\n",
    "# Reshaping, rescaling and one-hot encoding\n",
    "df_test = np.transpose(np.array(df_test), (0, 2, 3, 1))\n",
    "df_test = df_test / 255\n",
    "y_test_oh = tf.one_hot(np.ravel(y_test), depth = 10)\n",
    "print(df_test.shape, y_test_oh.shape)"
   ]
  },
  {
   "cell_type": "markdown",
   "id": "55b6c6de",
   "metadata": {
    "papermill": {
     "duration": 0.018586,
     "end_time": "2022-03-11T05:57:49.510460",
     "exception": false,
     "start_time": "2022-03-11T05:57:49.491874",
     "status": "completed"
    },
    "tags": []
   },
   "source": [
    "## Building the Model"
   ]
  },
  {
   "cell_type": "code",
   "execution_count": 8,
   "id": "a6618558",
   "metadata": {
    "_kg_hide-output": true,
    "execution": {
     "iopub.execute_input": "2022-03-11T05:57:49.552133Z",
     "iopub.status.busy": "2022-03-11T05:57:49.551257Z",
     "iopub.status.idle": "2022-03-11T05:57:50.207571Z",
     "shell.execute_reply": "2022-03-11T05:57:50.208799Z",
     "shell.execute_reply.started": "2022-03-11T05:47:36.674305Z"
    },
    "papermill": {
     "duration": 0.680129,
     "end_time": "2022-03-11T05:57:50.208965",
     "exception": false,
     "start_time": "2022-03-11T05:57:49.528836",
     "status": "completed"
    },
    "scrolled": true,
    "tags": []
   },
   "outputs": [
    {
     "name": "stdout",
     "output_type": "stream",
     "text": [
      "Downloading data from https://storage.googleapis.com/tensorflow/keras-applications/vgg16/vgg16_weights_tf_dim_ordering_tf_kernels_notop.h5\n",
      "58892288/58889256 [==============================] - 0s 0us/step\n",
      "58900480/58889256 [==============================] - 0s 0us/step\n",
      "Model: \"vgg16\"\n",
      "_________________________________________________________________\n",
      "Layer (type)                 Output Shape              Param #   \n",
      "=================================================================\n",
      "input_1 (InputLayer)         [(None, 32, 32, 3)]       0         \n",
      "_________________________________________________________________\n",
      "block1_conv1 (Conv2D)        (None, 32, 32, 64)        1792      \n",
      "_________________________________________________________________\n",
      "block1_conv2 (Conv2D)        (None, 32, 32, 64)        36928     \n",
      "_________________________________________________________________\n",
      "block1_pool (MaxPooling2D)   (None, 16, 16, 64)        0         \n",
      "_________________________________________________________________\n",
      "block2_conv1 (Conv2D)        (None, 16, 16, 128)       73856     \n",
      "_________________________________________________________________\n",
      "block2_conv2 (Conv2D)        (None, 16, 16, 128)       147584    \n",
      "_________________________________________________________________\n",
      "block2_pool (MaxPooling2D)   (None, 8, 8, 128)         0         \n",
      "_________________________________________________________________\n",
      "block3_conv1 (Conv2D)        (None, 8, 8, 256)         295168    \n",
      "_________________________________________________________________\n",
      "block3_conv2 (Conv2D)        (None, 8, 8, 256)         590080    \n",
      "_________________________________________________________________\n",
      "block3_conv3 (Conv2D)        (None, 8, 8, 256)         590080    \n",
      "_________________________________________________________________\n",
      "block3_pool (MaxPooling2D)   (None, 4, 4, 256)         0         \n",
      "_________________________________________________________________\n",
      "block4_conv1 (Conv2D)        (None, 4, 4, 512)         1180160   \n",
      "_________________________________________________________________\n",
      "block4_conv2 (Conv2D)        (None, 4, 4, 512)         2359808   \n",
      "_________________________________________________________________\n",
      "block4_conv3 (Conv2D)        (None, 4, 4, 512)         2359808   \n",
      "_________________________________________________________________\n",
      "block4_pool (MaxPooling2D)   (None, 2, 2, 512)         0         \n",
      "_________________________________________________________________\n",
      "block5_conv1 (Conv2D)        (None, 2, 2, 512)         2359808   \n",
      "_________________________________________________________________\n",
      "block5_conv2 (Conv2D)        (None, 2, 2, 512)         2359808   \n",
      "_________________________________________________________________\n",
      "block5_conv3 (Conv2D)        (None, 2, 2, 512)         2359808   \n",
      "_________________________________________________________________\n",
      "block5_pool (MaxPooling2D)   (None, 1, 1, 512)         0         \n",
      "_________________________________________________________________\n",
      "global_max_pooling2d (Global (None, 512)               0         \n",
      "=================================================================\n",
      "Total params: 14,714,688\n",
      "Trainable params: 14,714,688\n",
      "Non-trainable params: 0\n",
      "_________________________________________________________________\n"
     ]
    }
   ],
   "source": [
    "input_t = tf.keras.Input(shape = (32,32,3))\n",
    "vgg_model = VGG16(weights='imagenet', include_top=False, input_tensor=input_t,\n",
    "                             pooling='max')\n",
    "vgg_model.summary()"
   ]
  },
  {
   "cell_type": "code",
   "execution_count": 9,
   "id": "b5ff8eb2",
   "metadata": {
    "_kg_hide-output": true,
    "execution": {
     "iopub.execute_input": "2022-03-11T05:57:50.261976Z",
     "iopub.status.busy": "2022-03-11T05:57:50.261182Z",
     "iopub.status.idle": "2022-03-11T05:57:50.271046Z",
     "shell.execute_reply": "2022-03-11T05:57:50.271480Z",
     "shell.execute_reply.started": "2022-03-11T05:47:36.961533Z"
    },
    "papermill": {
     "duration": 0.039619,
     "end_time": "2022-03-11T05:57:50.271614",
     "exception": false,
     "start_time": "2022-03-11T05:57:50.231995",
     "status": "completed"
    },
    "scrolled": true,
    "tags": []
   },
   "outputs": [
    {
     "name": "stdout",
     "output_type": "stream",
     "text": [
      "0 input_1 - True\n",
      "1 block1_conv1 - True\n",
      "2 block1_conv2 - True\n",
      "3 block1_pool - True\n",
      "4 block2_conv1 - True\n",
      "5 block2_conv2 - True\n",
      "6 block2_pool - True\n",
      "7 block3_conv1 - True\n",
      "8 block3_conv2 - True\n",
      "9 block3_conv3 - True\n",
      "10 block3_pool - True\n",
      "11 block4_conv1 - True\n",
      "12 block4_conv2 - True\n",
      "13 block4_conv3 - True\n",
      "14 block4_pool - True\n",
      "15 block5_conv1 - True\n",
      "16 block5_conv2 - True\n",
      "17 block5_conv3 - True\n",
      "18 block5_pool - True\n",
      "19 global_max_pooling2d - True\n"
     ]
    }
   ],
   "source": [
    "for layer in vgg_model.layers:\n",
    "    layer.trainable = True\n",
    "\n",
    "for i, layer in enumerate(vgg_model.layers):\n",
    "    print(i, layer.name, \"-\", layer.trainable)"
   ]
  },
  {
   "cell_type": "code",
   "execution_count": 10,
   "id": "693c8604",
   "metadata": {
    "execution": {
     "iopub.execute_input": "2022-03-11T05:57:50.324442Z",
     "iopub.status.busy": "2022-03-11T05:57:50.323649Z",
     "iopub.status.idle": "2022-03-11T05:57:50.342055Z",
     "shell.execute_reply": "2022-03-11T05:57:50.342451Z",
     "shell.execute_reply.started": "2022-03-11T05:47:36.977829Z"
    },
    "papermill": {
     "duration": 0.048597,
     "end_time": "2022-03-11T05:57:50.342577",
     "exception": false,
     "start_time": "2022-03-11T05:57:50.293980",
     "status": "completed"
    },
    "tags": []
   },
   "outputs": [],
   "source": [
    "to_res = (32,32)\n",
    "model = tf.keras.models.Sequential()\n",
    "model.add(layers.Lambda(lambda image: tf.image.resize(image, to_res))) \n",
    "model.add(vgg_model)\n",
    "model.add(layers.Flatten())\n",
    "model.add(layers.BatchNormalization())\n",
    "model.add(layers.Dense(256, activation='relu'))\n",
    "model.add(layers.Dropout(0.5))\n",
    "model.add(layers.BatchNormalization())\n",
    "model.add(layers.Dense(128, activation='relu'))\n",
    "model.add(layers.Dropout(0.5))\n",
    "model.add(layers.BatchNormalization())\n",
    "model.add(layers.Dense(64, activation='relu'))\n",
    "model.add(layers.Dropout(0.5))\n",
    "model.add(layers.BatchNormalization())\n",
    "model.add(layers.Dense(10, activation='softmax'))"
   ]
  },
  {
   "cell_type": "markdown",
   "id": "e884f2d6",
   "metadata": {
    "papermill": {
     "duration": 0.022044,
     "end_time": "2022-03-11T05:57:50.386956",
     "exception": false,
     "start_time": "2022-03-11T05:57:50.364912",
     "status": "completed"
    },
    "tags": []
   },
   "source": [
    "## Compiling and Training the Model"
   ]
  },
  {
   "cell_type": "code",
   "execution_count": 11,
   "id": "6846a854",
   "metadata": {
    "_kg_hide-output": true,
    "execution": {
     "iopub.execute_input": "2022-03-11T05:57:50.437397Z",
     "iopub.status.busy": "2022-03-11T05:57:50.436669Z",
     "iopub.status.idle": "2022-03-11T05:57:50.444940Z",
     "shell.execute_reply": "2022-03-11T05:57:50.445311Z",
     "shell.execute_reply.started": "2022-03-11T05:47:37.012088Z"
    },
    "papermill": {
     "duration": 0.036248,
     "end_time": "2022-03-11T05:57:50.445457",
     "exception": false,
     "start_time": "2022-03-11T05:57:50.409209",
     "status": "completed"
    },
    "scrolled": true,
    "tags": []
   },
   "outputs": [],
   "source": [
    "#compiling model \n",
    "loss = 'categorical_crossentropy'\n",
    "opt = tf.keras.optimizers.Adam(learning_rate=2e-5)\n",
    "metrics = ['accuracy']\n",
    "\n",
    "model.compile(loss = loss, optimizer = opt, metrics = metrics)"
   ]
  },
  {
   "cell_type": "code",
   "execution_count": 12,
   "id": "a5c6a355",
   "metadata": {
    "_kg_hide-output": true,
    "execution": {
     "iopub.execute_input": "2022-03-11T05:57:50.494505Z",
     "iopub.status.busy": "2022-03-11T05:57:50.493604Z",
     "iopub.status.idle": "2022-03-11T06:03:57.876481Z",
     "shell.execute_reply": "2022-03-11T06:03:57.877295Z",
     "shell.execute_reply.started": "2022-03-11T05:47:37.029769Z"
    },
    "papermill": {
     "duration": 367.409991,
     "end_time": "2022-03-11T06:03:57.877501",
     "exception": false,
     "start_time": "2022-03-11T05:57:50.467510",
     "status": "completed"
    },
    "tags": []
   },
   "outputs": [
    {
     "name": "stdout",
     "output_type": "stream",
     "text": [
      "Epoch 1/10\n",
      "1251/1251 [==============================] - 33s 20ms/step - loss: 2.4953 - accuracy: 0.1843\n",
      "Epoch 2/10\n",
      "1251/1251 [==============================] - 25s 20ms/step - loss: 1.9543 - accuracy: 0.3179\n",
      "Epoch 3/10\n",
      "1251/1251 [==============================] - 25s 20ms/step - loss: 1.6410 - accuracy: 0.4350\n",
      "Epoch 4/10\n",
      "1251/1251 [==============================] - 25s 20ms/step - loss: 1.3961 - accuracy: 0.5392\n",
      "Epoch 5/10\n",
      "1251/1251 [==============================] - 25s 20ms/step - loss: 1.2141 - accuracy: 0.6126\n",
      "Epoch 6/10\n",
      "1251/1251 [==============================] - 25s 20ms/step - loss: 1.0774 - accuracy: 0.6693\n",
      "Epoch 7/10\n",
      "1251/1251 [==============================] - 25s 20ms/step - loss: 0.9549 - accuracy: 0.7231\n",
      "Epoch 8/10\n",
      "1251/1251 [==============================] - 25s 20ms/step - loss: 0.8547 - accuracy: 0.7599\n",
      "Epoch 9/10\n",
      "1251/1251 [==============================] - 25s 20ms/step - loss: 0.7550 - accuracy: 0.7945\n",
      "Epoch 10/10\n",
      "1251/1251 [==============================] - 25s 20ms/step - loss: 0.6763 - accuracy: 0.8247\n"
     ]
    }
   ],
   "source": [
    "train_dataset = tf.data.Dataset.from_tensor_slices((df_train, y_train_oh)).batch(32)\n",
    "history = model.fit(train_dataset, epochs = 10)"
   ]
  },
  {
   "cell_type": "code",
   "execution_count": 13,
   "id": "d39065c0",
   "metadata": {
    "execution": {
     "iopub.execute_input": "2022-03-11T06:04:00.568353Z",
     "iopub.status.busy": "2022-03-11T06:04:00.567594Z",
     "iopub.status.idle": "2022-03-11T06:04:01.580873Z",
     "shell.execute_reply": "2022-03-11T06:04:01.581336Z",
     "shell.execute_reply.started": "2022-03-11T05:52:56.358712Z"
    },
    "papermill": {
     "duration": 2.377985,
     "end_time": "2022-03-11T06:04:01.581562",
     "exception": false,
     "start_time": "2022-03-11T06:03:59.203577",
     "status": "completed"
    },
    "tags": []
   },
   "outputs": [],
   "source": [
    "model.save('vgg16_model.h5')\n",
    "model = tf.keras.models.load_model('./vgg16_model.h5')"
   ]
  },
  {
   "cell_type": "markdown",
   "id": "d7065539",
   "metadata": {
    "papermill": {
     "duration": 1.33272,
     "end_time": "2022-03-11T06:04:04.327661",
     "exception": false,
     "start_time": "2022-03-11T06:04:02.994941",
     "status": "completed"
    },
    "tags": []
   },
   "source": [
    "## Prediction"
   ]
  },
  {
   "cell_type": "code",
   "execution_count": 14,
   "id": "f066b99c",
   "metadata": {
    "execution": {
     "iopub.execute_input": "2022-03-11T06:04:06.948334Z",
     "iopub.status.busy": "2022-03-11T06:04:06.947477Z",
     "iopub.status.idle": "2022-03-11T06:04:20.586862Z",
     "shell.execute_reply": "2022-03-11T06:04:20.587668Z",
     "shell.execute_reply.started": "2022-03-11T05:53:44.25525Z"
    },
    "papermill": {
     "duration": 14.956446,
     "end_time": "2022-03-11T06:04:20.587847",
     "exception": false,
     "start_time": "2022-03-11T06:04:05.631401",
     "status": "completed"
    },
    "tags": []
   },
   "outputs": [],
   "source": [
    "# Predicting on the Train/Test Datasets\n",
    "preds_train = model.predict(df_train)\n",
    "preds_test = model.predict(df_test)\n",
    "\n",
    "# Finding the Predicted Classes\n",
    "train_cls = np.argmax(preds_train, axis = 1)\n",
    "test_cls = np.argmax(preds_test, axis = 1)"
   ]
  },
  {
   "cell_type": "code",
   "execution_count": 15,
   "id": "6639a284",
   "metadata": {
    "execution": {
     "iopub.execute_input": "2022-03-11T06:04:23.515766Z",
     "iopub.status.busy": "2022-03-11T06:04:23.514966Z",
     "iopub.status.idle": "2022-03-11T06:04:23.583207Z",
     "shell.execute_reply": "2022-03-11T06:04:23.584111Z",
     "shell.execute_reply.started": "2022-03-11T05:54:00.653994Z"
    },
    "papermill": {
     "duration": 1.666113,
     "end_time": "2022-03-11T06:04:23.584300",
     "exception": false,
     "start_time": "2022-03-11T06:04:21.918187",
     "status": "completed"
    },
    "tags": []
   },
   "outputs": [
    {
     "name": "stdout",
     "output_type": "stream",
     "text": [
      "Log-loss for Train Dataset =  0.4105603077032968\n",
      "Log-loss for Test Dataset =  0.6587046458735596\n",
      "Accuracy for Train Dataset =  0.8846672999050142\n",
      "Accuracy for Test Dataset =  0.8042\n"
     ]
    }
   ],
   "source": [
    "# Finding the Train/Test set Loss\n",
    "print(\"Log-loss for Train Dataset = \", log_loss(y_train_oh, preds_train))\n",
    "print(\"Log-loss for Test Dataset = \", log_loss(y_test_oh, preds_test))\n",
    "print(\"Accuracy for Train Dataset = \", accuracy_score(y_train, train_cls))\n",
    "print(\"Accuracy for Test Dataset = \", accuracy_score(y_test, test_cls))"
   ]
  }
 ],
 "metadata": {
  "kernelspec": {
   "display_name": "Python 3",
   "language": "python",
   "name": "python3"
  },
  "language_info": {
   "codemirror_mode": {
    "name": "ipython",
    "version": 3
   },
   "file_extension": ".py",
   "mimetype": "text/x-python",
   "name": "python",
   "nbconvert_exporter": "python",
   "pygments_lexer": "ipython3",
   "version": "3.7.12"
  },
  "papermill": {
   "default_parameters": {},
   "duration": 444.645496,
   "end_time": "2022-03-11T06:04:28.393259",
   "environment_variables": {},
   "exception": null,
   "input_path": "__notebook__.ipynb",
   "output_path": "__notebook__.ipynb",
   "parameters": {},
   "start_time": "2022-03-11T05:57:03.747763",
   "version": "2.3.3"
  }
 },
 "nbformat": 4,
 "nbformat_minor": 5
}
