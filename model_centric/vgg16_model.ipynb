{
 "cells": [
  {
   "cell_type": "markdown",
   "id": "c9afe29e",
   "metadata": {
    "_cell_guid": "b1076dfc-b9ad-4769-8c92-a6c4dae69d19",
    "_uuid": "8f2839f25d086af736a60e9eeb907d3b93b6e0e5",
    "papermill": {
     "duration": 0.015946,
     "end_time": "2022-05-10T11:36:30.958259",
     "exception": false,
     "start_time": "2022-05-10T11:36:30.942313",
     "status": "completed"
    },
    "tags": []
   },
   "source": [
    "# VGG16\n",
    "- CIFAR10 dataset is used to train the pre-trained model VGG16. \n",
    "- Only the labelled dataset is used in this model.\n",
    "- Fine-tuning of the model is also done, through freezing the layer, adding new layers to the model etc.\n",
    "- The hyper-parameter tuning regarding the **#epochs** is fixed and carried out similarly in all the kernels. We have tried **[10, 20, 30, 40, 50]** epochs, and for the final model, selected the setting (#epochs) with the largest test accuracy."
   ]
  },
  {
   "cell_type": "markdown",
   "id": "c4edf8e7",
   "metadata": {
    "papermill": {
     "duration": 0.014618,
     "end_time": "2022-05-10T11:36:30.987715",
     "exception": false,
     "start_time": "2022-05-10T11:36:30.973097",
     "status": "completed"
    },
    "tags": []
   },
   "source": [
    "## Importing the Packages"
   ]
  },
  {
   "cell_type": "code",
   "execution_count": 1,
   "id": "5df5b7ed",
   "metadata": {
    "execution": {
     "iopub.execute_input": "2022-05-10T11:36:31.027455Z",
     "iopub.status.busy": "2022-05-10T11:36:31.026808Z",
     "iopub.status.idle": "2022-05-10T11:36:36.748233Z",
     "shell.execute_reply": "2022-05-10T11:36:36.747036Z",
     "shell.execute_reply.started": "2022-05-10T11:27:38.295631Z"
    },
    "papermill": {
     "duration": 5.746871,
     "end_time": "2022-05-10T11:36:36.748397",
     "exception": false,
     "start_time": "2022-05-10T11:36:31.001526",
     "status": "completed"
    },
    "tags": []
   },
   "outputs": [],
   "source": [
    "import os\n",
    "import sys\n",
    "import numpy as np\n",
    "import pandas as pd\n",
    "import matplotlib.pyplot as plt\n",
    "\n",
    "from tqdm import tqdm\n",
    "from tabulate import tabulate\n",
    "from sklearn.metrics import accuracy_score, log_loss, f1_score\n",
    "\n",
    "# https://www.kaggle.com/c/ventilator-pressure-prediction/discussion/274717\n",
    "os.environ['TF_CPP_MIN_LOG_LEVEL'] = '3' \n",
    "\n",
    "import tensorflow as tf\n",
    "import keras\n",
    "from tensorflow.keras import layers\n",
    "from tensorflow.keras.applications import VGG16"
   ]
  },
  {
   "cell_type": "code",
   "execution_count": 2,
   "id": "b9a4671b",
   "metadata": {
    "execution": {
     "iopub.execute_input": "2022-05-10T11:36:38.944574Z",
     "iopub.status.busy": "2022-05-10T11:36:38.943610Z",
     "iopub.status.idle": "2022-05-10T11:36:38.947368Z",
     "shell.execute_reply": "2022-05-10T11:36:38.947798Z",
     "shell.execute_reply.started": "2022-05-10T10:47:04.769467Z"
    },
    "papermill": {
     "duration": 2.185431,
     "end_time": "2022-05-10T11:36:38.947945",
     "exception": false,
     "start_time": "2022-05-10T11:36:36.762514",
     "status": "completed"
    },
    "tags": []
   },
   "outputs": [
    {
     "name": "stdout",
     "output_type": "stream",
     "text": [
      "Found GPU at: /device:GPU:0\n"
     ]
    }
   ],
   "source": [
    "# Making sure that Tensorflow is able to detect the GPU\n",
    "device_name = tf.test.gpu_device_name()\n",
    "if \"GPU\" not in device_name:\n",
    "    print(\"GPU device not found\")\n",
    "print('Found GPU at: {}'.format(device_name))"
   ]
  },
  {
   "cell_type": "code",
   "execution_count": 3,
   "id": "6cf5b7d5",
   "metadata": {
    "execution": {
     "iopub.execute_input": "2022-05-10T11:36:38.986584Z",
     "iopub.status.busy": "2022-05-10T11:36:38.984863Z",
     "iopub.status.idle": "2022-05-10T11:36:38.987274Z",
     "shell.execute_reply": "2022-05-10T11:36:38.987681Z",
     "shell.execute_reply.started": "2022-05-10T10:47:04.791649Z"
    },
    "papermill": {
     "duration": 0.025028,
     "end_time": "2022-05-10T11:36:38.987814",
     "exception": false,
     "start_time": "2022-05-10T11:36:38.962786",
     "status": "completed"
    },
    "tags": []
   },
   "outputs": [],
   "source": [
    "# These are the usual ipython objects\n",
    "ipython_vars = ['In', 'Out', 'exit', 'quit', 'get_ipython', 'ipython_vars']\n",
    "\n",
    "# Defining a function to list the memory consumed\n",
    "# Only outputs variables taking at least 1MB space\n",
    "def list_storage(inp_dir):\n",
    "    # Get a sorted list of the objects and their sizes\n",
    "    vars_defined = [x for x in inp_dir if not x.startswith('_') and x not in sys.modules and x not in ipython_vars]\n",
    "    sto = sorted([(x, sys.getsizeof(globals().get(x))) for x in vars_defined], key=lambda x: x[1], reverse=True)\n",
    "    sto = [(x[0], str(round((x[1] / 2**20), 2)) + ' MB') for x in sto if x[1] >= 2**20]\n",
    "    print(tabulate(sto, headers = ['Variable', 'Storage (in MB)']))\n",
    "\n",
    "# In order to use this function, use the below line of code\n",
    "# list_storage(dir())"
   ]
  },
  {
   "cell_type": "code",
   "execution_count": 4,
   "id": "a5ffbdae",
   "metadata": {
    "execution": {
     "iopub.execute_input": "2022-05-10T11:36:39.022758Z",
     "iopub.status.busy": "2022-05-10T11:36:39.022243Z",
     "iopub.status.idle": "2022-05-10T11:37:05.655096Z",
     "shell.execute_reply": "2022-05-10T11:37:05.654229Z",
     "shell.execute_reply.started": "2022-05-10T10:47:04.813469Z"
    },
    "papermill": {
     "duration": 26.652446,
     "end_time": "2022-05-10T11:37:05.655262",
     "exception": false,
     "start_time": "2022-05-10T11:36:39.002816",
     "status": "completed"
    },
    "tags": []
   },
   "outputs": [],
   "source": [
    "# Importing the Labelled Dataset\n",
    "df_train = pd.read_csv(\"../input/cifar10/train_lab_x.csv\")\n",
    "y_train = pd.read_csv(\"../input/cifar10/train_lab_y.csv\")\n",
    "\n",
    "# Importing the Test Dataset\n",
    "df_test = pd.read_csv(\"../input/cifar10/test_x.csv\")\n",
    "y_test = pd.read_csv(\"../input/cifar10/test_y.csv\")"
   ]
  },
  {
   "cell_type": "markdown",
   "id": "984c77a9",
   "metadata": {
    "papermill": {
     "duration": 0.01282,
     "end_time": "2022-05-10T11:37:05.682461",
     "exception": false,
     "start_time": "2022-05-10T11:37:05.669641",
     "status": "completed"
    },
    "tags": []
   },
   "source": [
    "## Basic Pre-processing"
   ]
  },
  {
   "cell_type": "code",
   "execution_count": 5,
   "id": "d8a1d237",
   "metadata": {
    "execution": {
     "iopub.execute_input": "2022-05-10T11:37:05.715814Z",
     "iopub.status.busy": "2022-05-10T11:37:05.714644Z",
     "iopub.status.idle": "2022-05-10T11:37:06.233942Z",
     "shell.execute_reply": "2022-05-10T11:37:06.234381Z",
     "shell.execute_reply.started": "2022-05-10T10:47:33.739347Z"
    },
    "papermill": {
     "duration": 0.538938,
     "end_time": "2022-05-10T11:37:06.234534",
     "exception": false,
     "start_time": "2022-05-10T11:37:05.695596",
     "status": "completed"
    },
    "tags": []
   },
   "outputs": [
    {
     "name": "stdout",
     "output_type": "stream",
     "text": [
      "(40006, 3072) (40006, 1)\n",
      "(40006, 3, 32, 32)\n",
      "[0]\n"
     ]
    },
    {
     "data": {
      "image/png": "[encoded data removed]",
      "text/plain": [
       "<Figure size 108x108 with 1 Axes>"
      ]
     },
     "metadata": {
      "needs_background": "light"
     },
     "output_type": "display_data"
    }
   ],
   "source": [
    "df_train = np.array(df_train)\n",
    "y_train = np.array(y_train)\n",
    "print(df_train.shape, y_train.shape)\n",
    "\n",
    "# Reshaping the dataset\n",
    "df_train = np.reshape(df_train, (-1, 3, 32, 32))\n",
    "print(df_train.shape)\n",
    "\n",
    "# Visualizing a single image\n",
    "ind = 89\n",
    "example = df_train[ind, : , : , : ]\n",
    "example = example.transpose((1, 2, 0))\n",
    "plt.figure(figsize=(1.5, 1.5))\n",
    "plt.imshow(example)\n",
    "print(y_train[ind])"
   ]
  },
  {
   "cell_type": "code",
   "execution_count": 6,
   "id": "a39b733d",
   "metadata": {
    "execution": {
     "iopub.execute_input": "2022-05-10T11:37:06.270077Z",
     "iopub.status.busy": "2022-05-10T11:37:06.268987Z",
     "iopub.status.idle": "2022-05-10T11:37:08.789623Z",
     "shell.execute_reply": "2022-05-10T11:37:08.790319Z",
     "shell.execute_reply.started": "2022-05-10T10:47:34.436527Z"
    },
    "papermill": {
     "duration": 2.54199,
     "end_time": "2022-05-10T11:37:08.790480",
     "exception": false,
     "start_time": "2022-05-10T11:37:06.248490",
     "status": "completed"
    },
    "tags": []
   },
   "outputs": [
    {
     "name": "stdout",
     "output_type": "stream",
     "text": [
      "(40006, 32, 32, 3) (40006, 10)\n"
     ]
    }
   ],
   "source": [
    "# Creating a random permutation\n",
    "perm = np.random.permutation(df_train.shape[0])\n",
    "\n",
    "# Shuffling the training dataset\n",
    "df_train = df_train[perm, : , : , : ]\n",
    "y_train = y_train[perm]\n",
    "\n",
    "# Reshaping, rescaling and one-hot encoding\n",
    "df_train = np.transpose(np.array(df_train), (0, 2, 3, 1))\n",
    "df_train = df_train / 255\n",
    "y_train_oh = tf.one_hot(np.ravel(y_train), depth = 10)\n",
    "\n",
    "print(df_train.shape, y_train_oh.shape)"
   ]
  },
  {
   "cell_type": "code",
   "execution_count": 7,
   "id": "f07a7fb1",
   "metadata": {
    "execution": {
     "iopub.execute_input": "2022-05-10T11:37:08.825358Z",
     "iopub.status.busy": "2022-05-10T11:37:08.824296Z",
     "iopub.status.idle": "2022-05-10T11:37:09.099902Z",
     "shell.execute_reply": "2022-05-10T11:37:09.100517Z",
     "shell.execute_reply.started": "2022-05-10T10:47:37.052943Z"
    },
    "papermill": {
     "duration": 0.295906,
     "end_time": "2022-05-10T11:37:09.100724",
     "exception": false,
     "start_time": "2022-05-10T11:37:08.804818",
     "status": "completed"
    },
    "tags": []
   },
   "outputs": [
    {
     "name": "stdout",
     "output_type": "stream",
     "text": [
      "(10000, 3072) (10000, 1)\n",
      "(10000, 3, 32, 32)\n",
      "(10000, 32, 32, 3) (10000, 10)\n"
     ]
    }
   ],
   "source": [
    "df_test = np.array(df_test)\n",
    "y_test = np.array(y_test)\n",
    "print(df_test.shape, y_test.shape)\n",
    "\n",
    "# Reshaping the dataset\n",
    "df_test = np.reshape(df_test, (-1, 3, 32, 32))\n",
    "print(df_test.shape)\n",
    "\n",
    "# Reshaping, rescaling and one-hot encoding\n",
    "df_test = np.transpose(np.array(df_test), (0, 2, 3, 1))\n",
    "df_test = df_test / 255\n",
    "y_test_oh = tf.one_hot(np.ravel(y_test), depth = 10)\n",
    "print(df_test.shape, y_test_oh.shape)"
   ]
  },
  {
   "cell_type": "markdown",
   "id": "f899d5c4",
   "metadata": {
    "papermill": {
     "duration": 0.014606,
     "end_time": "2022-05-10T11:37:09.131764",
     "exception": false,
     "start_time": "2022-05-10T11:37:09.117158",
     "status": "completed"
    },
    "tags": []
   },
   "source": [
    "## Training & Hyperparamater-Tuning for the Model"
   ]
  },
  {
   "cell_type": "code",
   "execution_count": 8,
   "id": "1c8f73af",
   "metadata": {
    "execution": {
     "iopub.execute_input": "2022-05-10T11:37:09.169848Z",
     "iopub.status.busy": "2022-05-10T11:37:09.168017Z",
     "iopub.status.idle": "2022-05-10T11:37:09.170479Z",
     "shell.execute_reply": "2022-05-10T11:37:09.170888Z",
     "shell.execute_reply.started": "2022-05-10T10:50:59.59665Z"
    },
    "papermill": {
     "duration": 0.02241,
     "end_time": "2022-05-10T11:37:09.171148",
     "exception": false,
     "start_time": "2022-05-10T11:37:09.148738",
     "status": "completed"
    },
    "tags": []
   },
   "outputs": [],
   "source": [
    "to_res = (64, 64)"
   ]
  },
  {
   "cell_type": "code",
   "execution_count": 9,
   "id": "af16dbf5",
   "metadata": {
    "_kg_hide-output": true,
    "execution": {
     "iopub.execute_input": "2022-05-10T11:37:09.218841Z",
     "iopub.status.busy": "2022-05-10T11:37:09.218179Z",
     "iopub.status.idle": "2022-05-10T11:37:11.310888Z",
     "shell.execute_reply": "2022-05-10T11:37:11.310389Z",
     "shell.execute_reply.started": "2022-05-10T10:54:15.912704Z"
    },
    "papermill": {
     "duration": 2.124562,
     "end_time": "2022-05-10T11:37:11.311010",
     "exception": false,
     "start_time": "2022-05-10T11:37:09.186448",
     "status": "completed"
    },
    "scrolled": true,
    "tags": []
   },
   "outputs": [],
   "source": [
    "# If the model has been pre-trained\n",
    "try:\n",
    "    model = tf.keras.models.load_model('../input/dcai-rw/vgg16_model.h5')\n",
    "\n",
    "# If the model hasn't been pre-trained\n",
    "except:\n",
    "    input_t = tf.keras.Input(shape = (64, 64, 3))\n",
    "    vgg_model = VGG16(weights='imagenet', include_top=False, input_tensor=input_t, pooling='max')\n",
    "    vgg_model.summary()\n",
    "    \n",
    "    for layer in vgg_model.layers:\n",
    "        layer.trainable = True\n",
    "    \n",
    "    model = tf.keras.models.Sequential()\n",
    "    model.add(layers.Lambda(lambda image: tf.image.resize(image, to_res))) \n",
    "    model.add(vgg_model)\n",
    "    model.add(layers.Flatten())\n",
    "    model.add(layers.BatchNormalization())\n",
    "    model.add(layers.Dense(256, activation='relu'))\n",
    "    model.add(layers.Dropout(0.5))\n",
    "    model.add(layers.BatchNormalization())\n",
    "    model.add(layers.Dense(128, activation='relu'))\n",
    "    model.add(layers.Dropout(0.5))\n",
    "    model.add(layers.BatchNormalization())\n",
    "    model.add(layers.Dense(64, activation='relu'))\n",
    "    model.add(layers.Dropout(0.5))\n",
    "    model.add(layers.BatchNormalization())\n",
    "    model.add(layers.Dense(10, activation='softmax'))\n",
    "    \n",
    "    #compiling model \n",
    "    loss = 'categorical_crossentropy'\n",
    "    opt = tf.keras.optimizers.Adam(learning_rate=2e-5)\n",
    "    metrics = ['accuracy']\n",
    "\n",
    "    model.compile(loss = loss, optimizer = opt, metrics = metrics)\n",
    "    model.build((None, 64, 64, 3))\n",
    "    model.summary()\n",
    "    \n",
    "    # Composing the Train Dataset\n",
    "    train_dataset = tf.data.Dataset.from_tensor_slices((df_train, y_train_oh)).batch(32)\n",
    "    num_epochs = [10, 20, 30, 40, 50]\n",
    "    train_loss, test_loss, train_acc, test_acc = [], [], [], []\n",
    "\n",
    "    for epochs in num_epochs:\n",
    "        # Training the Model\n",
    "        model.compile(optimizer='adam', loss='categorical_crossentropy', metrics='accuracy')\n",
    "        model.fit(train_dataset, epochs = epochs)\n",
    "\n",
    "        # Predicting on the Train/Test Datasets\n",
    "        preds_train = model.predict(df_train)\n",
    "        preds_test = model.predict(df_test)\n",
    "\n",
    "        # Finding the Predicted Classes\n",
    "        cls_train = np.argmax(preds_train, axis = 1)\n",
    "        cls_test = np.argmax(preds_test, axis = 1)\n",
    "\n",
    "        # Finding the Train/Test set Loss\n",
    "        train_loss.append(log_loss(y_train_oh, preds_train))\n",
    "        test_loss.append(log_loss(y_test_oh, preds_test))\n",
    "        train_acc.append(accuracy_score(y_train, cls_train))\n",
    "        test_acc.append(accuracy_score(y_test, cls_test))\n",
    "\n",
    "        print(\"For \", epochs, \" Epochs:\")\n",
    "        print(\"Log-loss for Train Dataset = \", train_loss[-1])\n",
    "        print(\"Log-loss for Test Dataset = \", test_loss[-1])\n",
    "        print(\"Accuracy for Train Dataset = \", train_acc[-1])\n",
    "        print(\"Accuracy for Test Dataset = \", test_acc[-1])\n",
    "        print()\n",
    "        \n",
    "    # Training the Model with the best hyper-parameter settings\n",
    "    ind = np.argmax(test_acc)\n",
    "    best_num_epochs = num_epochs[ind]\n",
    "\n",
    "    model.compile(optimizer='adam', loss='categorical_crossentropy', metrics='accuracy')\n",
    "    model.fit(train_dataset, epochs = best_num_epochs)\n",
    "\n",
    "    # Saving the model along with it's weights\n",
    "    model.save('vgg16_model.h5')\n",
    "    model = tf.keras.models.load_model('./vgg16_model.h5')"
   ]
  },
  {
   "cell_type": "markdown",
   "id": "89651437",
   "metadata": {
    "papermill": {
     "duration": 0.015344,
     "end_time": "2022-05-10T11:37:11.344552",
     "exception": false,
     "start_time": "2022-05-10T11:37:11.329208",
     "status": "completed"
    },
    "tags": []
   },
   "source": [
    "## Prediction and evaluation on train/test sets"
   ]
  },
  {
   "cell_type": "code",
   "execution_count": 10,
   "id": "1171c99c",
   "metadata": {
    "execution": {
     "iopub.execute_input": "2022-05-10T11:37:11.378910Z",
     "iopub.status.busy": "2022-05-10T11:37:11.378375Z",
     "iopub.status.idle": "2022-05-10T11:37:36.293847Z",
     "shell.execute_reply": "2022-05-10T11:37:36.294428Z"
    },
    "papermill": {
     "duration": 24.935205,
     "end_time": "2022-05-10T11:37:36.294610",
     "exception": false,
     "start_time": "2022-05-10T11:37:11.359405",
     "status": "completed"
    },
    "tags": []
   },
   "outputs": [],
   "source": [
    "# Predicting on the Train/Test Datasets\n",
    "preds_train = model.predict(df_train)\n",
    "preds_test = model.predict(df_test)\n",
    "\n",
    "# Finding the Predicted Classes\n",
    "train_cls = np.argmax(preds_train, axis = 1)\n",
    "test_cls = np.argmax(preds_test, axis = 1)"
   ]
  },
  {
   "cell_type": "code",
   "execution_count": 11,
   "id": "e2a6cd46",
   "metadata": {
    "execution": {
     "iopub.execute_input": "2022-05-10T11:37:36.335305Z",
     "iopub.status.busy": "2022-05-10T11:37:36.334695Z",
     "iopub.status.idle": "2022-05-10T11:37:36.439132Z",
     "shell.execute_reply": "2022-05-10T11:37:36.438520Z"
    },
    "papermill": {
     "duration": 0.127648,
     "end_time": "2022-05-10T11:37:36.439296",
     "exception": false,
     "start_time": "2022-05-10T11:37:36.311648",
     "status": "completed"
    },
    "tags": []
   },
   "outputs": [
    {
     "name": "stdout",
     "output_type": "stream",
     "text": [
      "Accuracy for Train Dataset =  0.9916762485627156\n",
      "Accuracy for Test Dataset =  0.7992\n",
      "Log-loss for Train Dataset =  0.04047452143769635\n",
      "Log-loss for Test Dataset =  1.6821733419095315\n",
      "F1 Score for Train Dataset =  0.9916806638555761\n",
      "F1 Score for Test Dataset =  0.798454250467614\n"
     ]
    }
   ],
   "source": [
    "print(\"Accuracy for Train Dataset = \", accuracy_score(y_train, train_cls))\n",
    "print(\"Accuracy for Test Dataset = \", accuracy_score(y_test, test_cls))\n",
    "\n",
    "print(\"Log-loss for Train Dataset = \", log_loss(y_train_oh, preds_train))\n",
    "print(\"Log-loss for Test Dataset = \", log_loss(y_test_oh, preds_test))\n",
    "\n",
    "print(\"F1 Score for Train Dataset = \", f1_score(y_train, train_cls, average='weighted'))\n",
    "print(\"F1 Score for Test Dataset = \", f1_score(y_test, test_cls, average='weighted')) "
   ]
  }
 ],
 "metadata": {
  "kernelspec": {
   "display_name": "Python 3",
   "language": "python",
   "name": "python3"
  },
  "language_info": {
   "codemirror_mode": {
    "name": "ipython",
    "version": 3
   },
   "file_extension": ".py",
   "mimetype": "text/x-python",
   "name": "python",
   "nbconvert_exporter": "python",
   "pygments_lexer": "ipython3",
   "version": "3.7.12"
  },
  "papermill": {
   "default_parameters": {},
   "duration": 77.601923,
   "end_time": "2022-05-10T11:37:39.907099",
   "environment_variables": {},
   "exception": null,
   "input_path": "__notebook__.ipynb",
   "output_path": "__notebook__.ipynb",
   "parameters": {},
   "start_time": "2022-05-10T11:36:22.305176",
   "version": "2.3.3"
  }
 },
 "nbformat": 4,
 "nbformat_minor": 5
}
