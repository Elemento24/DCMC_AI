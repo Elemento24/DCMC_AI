{
 "cells": [
  {
   "cell_type": "markdown",
   "id": "e6751aa3",
   "metadata": {
    "_cell_guid": "b1076dfc-b9ad-4769-8c92-a6c4dae69d19",
    "_uuid": "8f2839f25d086af736a60e9eeb907d3b93b6e0e5",
    "papermill": {
     "duration": 0.011011,
     "end_time": "2022-04-11T11:32:02.480644",
     "exception": false,
     "start_time": "2022-04-11T11:32:02.469633",
     "status": "completed"
    },
    "tags": []
   },
   "source": [
    "# Hybridization of fine-tuned VGG16, MobileNet and Xception Networks\n",
    "- In this kernel, we will be performing Hybridization (Ensembling) of the fine-tuned models, namely VGG16, MobileNet and Xception.\n",
    "- We will be considering 2 different types of ensembling in this kernel. First, we will be performing relative weighting of the predictions from the 3 models, and then predicting the class labels. Second, we will be performing majority vote on the predicted class labels from the 3 models, in order to get the final class labels. \n",
    "\n",
    "### Reference Kernels\n",
    "- [Fine-tuned MobileNet](https://www.kaggle.com/code/mitishaagarwal/mobile-net-2)\n",
    "- [Fine-tuned VGG16](https://www.kaggle.com/code/mitishaagarwal/vgg16)\n",
    "- [Fine-tuned Xception](https://www.kaggle.com/code/mitishaagarwal/xception)"
   ]
  },
  {
   "cell_type": "markdown",
   "id": "8f25fa0e",
   "metadata": {
    "papermill": {
     "duration": 0.009872,
     "end_time": "2022-04-11T11:32:02.502825",
     "exception": false,
     "start_time": "2022-04-11T11:32:02.492953",
     "status": "completed"
    },
    "tags": []
   },
   "source": [
    "# 1. Importing the Packages & Boilerplate Code"
   ]
  },
  {
   "cell_type": "code",
   "execution_count": 1,
   "id": "c827a5c1",
   "metadata": {
    "execution": {
     "iopub.execute_input": "2022-04-11T11:32:02.534279Z",
     "iopub.status.busy": "2022-04-11T11:32:02.533505Z",
     "iopub.status.idle": "2022-04-11T11:32:08.258357Z",
     "shell.execute_reply": "2022-04-11T11:32:08.257764Z",
     "shell.execute_reply.started": "2022-04-11T11:30:42.981384Z"
    },
    "papermill": {
     "duration": 5.745619,
     "end_time": "2022-04-11T11:32:08.258504",
     "exception": false,
     "start_time": "2022-04-11T11:32:02.512885",
     "status": "completed"
    },
    "tags": []
   },
   "outputs": [],
   "source": [
    "import os\n",
    "import sys\n",
    "import numpy as np\n",
    "import pandas as pd\n",
    "import matplotlib.pyplot as plt\n",
    "\n",
    "from tqdm import tqdm\n",
    "import statistics\n",
    "from tabulate import tabulate\n",
    "from sklearn.metrics import accuracy_score, log_loss\n",
    "\n",
    "# https://www.kaggle.com/c/ventilator-pressure-prediction/discussion/274717\n",
    "os.environ['TF_CPP_MIN_LOG_LEVEL'] = '3' \n",
    "\n",
    "import tensorflow as tf\n",
    "import keras\n",
    "from tensorflow.keras import layers\n",
    "from tensorflow.keras.applications import Xception"
   ]
  },
  {
   "cell_type": "code",
   "execution_count": 2,
   "id": "decd7840",
   "metadata": {
    "execution": {
     "iopub.execute_input": "2022-04-11T11:32:10.275554Z",
     "iopub.status.busy": "2022-04-11T11:32:10.274831Z",
     "iopub.status.idle": "2022-04-11T11:32:10.278199Z",
     "shell.execute_reply": "2022-04-11T11:32:10.278778Z",
     "shell.execute_reply.started": "2022-04-11T11:30:48.760284Z"
    },
    "papermill": {
     "duration": 2.010206,
     "end_time": "2022-04-11T11:32:10.278967",
     "exception": false,
     "start_time": "2022-04-11T11:32:08.268761",
     "status": "completed"
    },
    "tags": []
   },
   "outputs": [
    {
     "name": "stdout",
     "output_type": "stream",
     "text": [
      "Found GPU at: /device:GPU:0\n"
     ]
    }
   ],
   "source": [
    "# Making sure that Tensorflow is able to detect the GPU\n",
    "device_name = tf.test.gpu_device_name()\n",
    "if \"GPU\" not in device_name:\n",
    "    print(\"GPU device not found\")\n",
    "print('Found GPU at: {}'.format(device_name))"
   ]
  },
  {
   "cell_type": "code",
   "execution_count": 3,
   "id": "1263ef99",
   "metadata": {
    "execution": {
     "iopub.execute_input": "2022-04-11T11:32:10.308125Z",
     "iopub.status.busy": "2022-04-11T11:32:10.307475Z",
     "iopub.status.idle": "2022-04-11T11:32:10.310389Z",
     "shell.execute_reply": "2022-04-11T11:32:10.310777Z",
     "shell.execute_reply.started": "2022-04-11T11:30:50.995020Z"
    },
    "papermill": {
     "duration": 0.020166,
     "end_time": "2022-04-11T11:32:10.310906",
     "exception": false,
     "start_time": "2022-04-11T11:32:10.290740",
     "status": "completed"
    },
    "tags": []
   },
   "outputs": [],
   "source": [
    "# These are the usual ipython objects\n",
    "ipython_vars = ['In', 'Out', 'exit', 'quit', 'get_ipython', 'ipython_vars']\n",
    "\n",
    "# Defining a function to list the memory consumed\n",
    "# Only outputs variables taking at least 1MB space\n",
    "def list_storage(inp_dir):\n",
    "    # Get a sorted list of the objects and their sizes\n",
    "    vars_defined = [x for x in inp_dir if not x.startswith('_') and x not in sys.modules and x not in ipython_vars]\n",
    "    sto = sorted([(x, sys.getsizeof(globals().get(x))) for x in vars_defined], key=lambda x: x[1], reverse=True)\n",
    "    sto = [(x[0], str(round((x[1] / 2**20), 2)) + ' MB') for x in sto if x[1] >= 2**20]\n",
    "    print(tabulate(sto, headers = ['Variable', 'Storage (in MB)']))\n",
    "\n",
    "# In order to use this function, use the below line of code\n",
    "# list_storage(dir())"
   ]
  },
  {
   "cell_type": "markdown",
   "id": "6371b380",
   "metadata": {
    "papermill": {
     "duration": 0.009972,
     "end_time": "2022-04-11T11:32:10.331013",
     "exception": false,
     "start_time": "2022-04-11T11:32:10.321041",
     "status": "completed"
    },
    "tags": []
   },
   "source": [
    "# 2. Importing the Train and Test Sets"
   ]
  },
  {
   "cell_type": "code",
   "execution_count": 4,
   "id": "abd0d287",
   "metadata": {
    "execution": {
     "iopub.execute_input": "2022-04-11T11:32:10.359863Z",
     "iopub.status.busy": "2022-04-11T11:32:10.359305Z",
     "iopub.status.idle": "2022-04-11T11:32:41.137373Z",
     "shell.execute_reply": "2022-04-11T11:32:41.136917Z"
    },
    "papermill": {
     "duration": 30.796188,
     "end_time": "2022-04-11T11:32:41.137493",
     "exception": false,
     "start_time": "2022-04-11T11:32:10.341305",
     "status": "completed"
    },
    "tags": []
   },
   "outputs": [
    {
     "name": "stdout",
     "output_type": "stream",
     "text": [
      "For Train Dataset:\n",
      "(40006, 3072) (40006, 1)\n",
      "(40006, 32, 32, 3)\n",
      "For Test Dataset:\n",
      "(10000, 3072) (10000, 1)\n",
      "(10000, 3, 32, 32)\n",
      "(10000, 32, 32, 3) (10000, 10)\n"
     ]
    }
   ],
   "source": [
    "# Importing the Labelled Training Dataset\n",
    "print(\"For Train Dataset:\")\n",
    "df_train = pd.read_csv(\"../input/cifar10/train_lab_x.csv\")\n",
    "y_train = pd.read_csv(\"../input/cifar10/train_lab_y.csv\")\n",
    "df_train = np.array(df_train)\n",
    "y_train = np.array(y_train)\n",
    "print(df_train.shape, y_train.shape)\n",
    "\n",
    "# Reshaping, rescaling and one-hot encoding\n",
    "df_train = np.reshape(df_train, (-1, 3, 32, 32))\n",
    "df_train = np.transpose(np.array(df_train), (0, 2, 3, 1))\n",
    "df_train = df_train / 255\n",
    "print(df_train.shape)\n",
    "\n",
    "# Importing the Test Dataset\n",
    "print(\"For Test Dataset:\")\n",
    "df_test = pd.read_csv(\"../input/cifar10/test_x.csv\")\n",
    "y_test = pd.read_csv(\"../input/cifar10/test_y.csv\")\n",
    "df_test = np.array(df_test)\n",
    "y_test = np.array(y_test)\n",
    "print(df_test.shape, y_test.shape)\n",
    "\n",
    "# Reshaping the dataset\n",
    "df_test = np.reshape(df_test, (-1, 3, 32, 32))\n",
    "print(df_test.shape)\n",
    "\n",
    "# Reshaping, rescaling and one-hot encoding\n",
    "df_test = np.transpose(np.array(df_test), (0, 2, 3, 1))\n",
    "df_test = df_test / 255\n",
    "y_test_oh = tf.one_hot(np.ravel(y_test), depth = 10)\n",
    "print(df_test.shape, y_test_oh.shape)"
   ]
  },
  {
   "cell_type": "markdown",
   "id": "26f2d38b",
   "metadata": {
    "papermill": {
     "duration": 0.011597,
     "end_time": "2022-04-11T11:32:41.160919",
     "exception": false,
     "start_time": "2022-04-11T11:32:41.149322",
     "status": "completed"
    },
    "tags": []
   },
   "source": [
    "# 3. Loading the fine-tuned Models"
   ]
  },
  {
   "cell_type": "code",
   "execution_count": 5,
   "id": "a1a7ac0e",
   "metadata": {
    "execution": {
     "iopub.execute_input": "2022-04-11T11:32:41.188570Z",
     "iopub.status.busy": "2022-04-11T11:32:41.188080Z",
     "iopub.status.idle": "2022-04-11T11:32:48.715861Z",
     "shell.execute_reply": "2022-04-11T11:32:48.716286Z"
    },
    "papermill": {
     "duration": 7.543562,
     "end_time": "2022-04-11T11:32:48.716449",
     "exception": false,
     "start_time": "2022-04-11T11:32:41.172887",
     "status": "completed"
    },
    "tags": []
   },
   "outputs": [],
   "source": [
    "to_res = (64,64)\n",
    "model1 = tf.keras.models.load_model('../input/dcai-rw/xcptn_model.h5')\n",
    "model2 = tf.keras.models.load_model('../input/dcai-rw/mobilenet_model.h5')\n",
    "model3 = tf.keras.models.load_model('../input/dcai-rw/vgg16_model.h5')"
   ]
  },
  {
   "cell_type": "code",
   "execution_count": 6,
   "id": "1dd67543",
   "metadata": {
    "execution": {
     "iopub.execute_input": "2022-04-11T11:32:48.748083Z",
     "iopub.status.busy": "2022-04-11T11:32:48.742797Z",
     "iopub.status.idle": "2022-04-11T11:33:06.703641Z",
     "shell.execute_reply": "2022-04-11T11:33:06.704107Z"
    },
    "papermill": {
     "duration": 17.975511,
     "end_time": "2022-04-11T11:33:06.704269",
     "exception": false,
     "start_time": "2022-04-11T11:32:48.728758",
     "status": "completed"
    },
    "tags": []
   },
   "outputs": [
    {
     "name": "stdout",
     "output_type": "stream",
     "text": [
      "For Xception Model:\n",
      "Accuracy for Test Dataset:  0.8957\n",
      "Log-loss for Test Dataset:  0.8017136794626224\n",
      "\n",
      "For MobileNet Model:\n",
      "Accuracy for Test Dataset:  0.8668\n",
      "Log-loss for Test Dataset:  1.0053337612657762\n",
      "\n",
      "For VGG16 Model:\n",
      "Accuracy for Test Dataset:  0.7992\n",
      "Log-loss for Test Dataset:  1.6821733358629025\n",
      "\n"
     ]
    }
   ],
   "source": [
    "preds_test1 = model1.predict(df_test)\n",
    "cls_test1 = np.argmax(preds_test1, axis = 1)\n",
    "print(\"For Xception Model:\")\n",
    "print(\"Accuracy for Test Dataset: \", accuracy_score(y_test, cls_test1))\n",
    "print(\"Log-loss for Test Dataset: \", log_loss(y_test_oh, preds_test1))\n",
    "print()\n",
    "\n",
    "preds_test2 = model2.predict(df_test)\n",
    "cls_test2 = np.argmax(preds_test2, axis = 1)\n",
    "print(\"For MobileNet Model:\")\n",
    "print(\"Accuracy for Test Dataset: \", accuracy_score(y_test, cls_test2))\n",
    "print(\"Log-loss for Test Dataset: \", log_loss(y_test_oh, preds_test2))\n",
    "print()\n",
    "\n",
    "preds_test3 = model3.predict(df_test)\n",
    "cls_test3 = np.argmax(preds_test3, axis = 1)\n",
    "print(\"For VGG16 Model:\")\n",
    "print(\"Accuracy for Test Dataset: \", accuracy_score(y_test, cls_test3))\n",
    "print(\"Log-loss for Test Dataset: \", log_loss(y_test_oh, preds_test3))\n",
    "print()"
   ]
  },
  {
   "cell_type": "markdown",
   "id": "b5bee257",
   "metadata": {
    "papermill": {
     "duration": 0.014601,
     "end_time": "2022-04-11T11:33:06.731915",
     "exception": false,
     "start_time": "2022-04-11T11:33:06.717314",
     "status": "completed"
    },
    "tags": []
   },
   "source": [
    "# 4. Performing the Ensembling\n",
    "## 4.1. Relative Weighting of the Predictions\n",
    "- Since the Xception Model has the largest test set accuracy, followed by the MobileNet model, and then lastly, the VGG16 Model, hence, we will be using relative weights inspired by this intuition only."
   ]
  },
  {
   "cell_type": "code",
   "execution_count": 7,
   "id": "4b824139",
   "metadata": {
    "execution": {
     "iopub.execute_input": "2022-04-11T11:33:06.766889Z",
     "iopub.status.busy": "2022-04-11T11:33:06.766222Z",
     "iopub.status.idle": "2022-04-11T11:33:06.844209Z",
     "shell.execute_reply": "2022-04-11T11:33:06.843776Z"
    },
    "papermill": {
     "duration": 0.099456,
     "end_time": "2022-04-11T11:33:06.844341",
     "exception": false,
     "start_time": "2022-04-11T11:33:06.744885",
     "status": "completed"
    },
    "tags": []
   },
   "outputs": [
    {
     "name": "stdout",
     "output_type": "stream",
     "text": [
      "Xception:  0.5  MobileNet:  0.3  VGG16:  0.2\n",
      "Accuracy for Test Dataset:  0.905\n",
      "Log-loss for Test Dataset:  0.4107004579256929\n",
      "\n",
      "Xception:  0.45  MobileNet:  0.35  VGG16:  0.2\n",
      "Accuracy for Test Dataset:  0.9025\n",
      "Log-loss for Test Dataset:  0.41118814453825053\n",
      "\n",
      "Xception:  0.4  MobileNet:  0.35  VGG16:  0.25\n",
      "Accuracy for Test Dataset:  0.9013\n",
      "Log-loss for Test Dataset:  0.41621261571286433\n",
      "\n",
      "Xception:  0.35  MobileNet:  0.35  VGG16:  0.3\n",
      "Accuracy for Test Dataset:  0.9016\n",
      "Log-loss for Test Dataset:  0.4232344634483633\n",
      "\n",
      "Xception:  0.6  MobileNet:  0.3  VGG16:  0.1\n",
      "Accuracy for Test Dataset:  0.9026\n",
      "Log-loss for Test Dataset:  0.40931347066568535\n",
      "\n",
      "For ensembling based on Relative Weighting:\n",
      "The optimal relative weights are  [0.5, 0.3, 0.2]\n",
      "Accuracy for Test Dataset:  0.905\n",
      "Log-loss for Test Dataset:  0.4107004579256929\n"
     ]
    }
   ],
   "source": [
    "# List of relative weighting to try\n",
    "rel_weights = [\n",
    "    [0.5, 0.3, 0.2],\n",
    "    [0.45, 0.35, 0.2],\n",
    "    [0.40, 0.35, 0.25],\n",
    "    [0.35, 0.35, 0.3],\n",
    "    [0.6, 0.3, 0.1]\n",
    "]\n",
    "\n",
    "test_acc, test_log_loss = [], []\n",
    "\n",
    "for weights in rel_weights:\n",
    "    print(\"Xception: \", weights[0], \" MobileNet: \", weights[1], \" VGG16: \", weights[2])\n",
    "    preds_test = weights[0] * preds_test1 + weights[1] * preds_test2 + weights[2] * preds_test3\n",
    "    cls_test = np.argmax(preds_test, axis = 1)\n",
    "    test_acc.append(accuracy_score(y_test, cls_test))\n",
    "    test_log_loss.append(log_loss(y_test_oh, preds_test))\n",
    "    print(\"Accuracy for Test Dataset: \", test_acc[-1])\n",
    "    print(\"Log-loss for Test Dataset: \", test_log_loss[-1])\n",
    "    print()\n",
    "    \n",
    "best_index = np.argmax(test_acc)\n",
    "print(\"For ensembling based on Relative Weighting:\")\n",
    "print(\"The optimal relative weights are \", rel_weights[best_index])\n",
    "print(\"Accuracy for Test Dataset: \", test_acc[best_index])\n",
    "print(\"Log-loss for Test Dataset: \", test_log_loss[best_index])"
   ]
  },
  {
   "cell_type": "markdown",
   "id": "a3d5a349",
   "metadata": {
    "papermill": {
     "duration": 0.014071,
     "end_time": "2022-04-11T11:33:06.872878",
     "exception": false,
     "start_time": "2022-04-11T11:33:06.858807",
     "status": "completed"
    },
    "tags": []
   },
   "source": [
    "## 4.2. Majority Vote of the Predicted Class Labels\n",
    "- In the previous method, we were able to find out the log-loss and accuracy both, since, we have performed ensembling on the predictions themselves.\n",
    "- In this method, we can only find the accuracy, since, we are performing the ensembling only on the predicted classes, and not on the predicted values."
   ]
  },
  {
   "cell_type": "code",
   "execution_count": 8,
   "id": "2217259b",
   "metadata": {
    "execution": {
     "iopub.execute_input": "2022-04-11T11:33:06.907738Z",
     "iopub.status.busy": "2022-04-11T11:33:06.906953Z",
     "iopub.status.idle": "2022-04-11T11:33:07.059927Z",
     "shell.execute_reply": "2022-04-11T11:33:07.059454Z"
    },
    "papermill": {
     "duration": 0.173714,
     "end_time": "2022-04-11T11:33:07.060057",
     "exception": false,
     "start_time": "2022-04-11T11:33:06.886343",
     "status": "completed"
    },
    "tags": []
   },
   "outputs": [
    {
     "name": "stdout",
     "output_type": "stream",
     "text": [
      "For ensembling based on Majority Vote:\n",
      "Accuracy for Test Dataset:  0.9001\n"
     ]
    }
   ],
   "source": [
    "cls_test = []\n",
    "for i in range(len(cls_test1)):\n",
    "    classes = [cls_test1[i], cls_test2[i], cls_test3[i]]\n",
    "    \n",
    "    # Case 1: When the 3 models predict different class labels\n",
    "    # Selecting the class label corresponding to Xception Net\n",
    "    if len(np.unique(classes)) == len(classes):\n",
    "        cls_test.append(cls_test1[i])\n",
    "    \n",
    "    # Case 2: When at least 2 models predict the same class label\n",
    "    # Selecting the majority class\n",
    "    else:\n",
    "        cls_test.append(np.bincount(classes).argmax())\n",
    "        \n",
    "print(\"For ensembling based on Majority Vote:\")\n",
    "print(\"Accuracy for Test Dataset: \", accuracy_score(y_test, cls_test))"
   ]
  }
 ],
 "metadata": {
  "kernelspec": {
   "display_name": "Python 3",
   "language": "python",
   "name": "python3"
  },
  "language_info": {
   "codemirror_mode": {
    "name": "ipython",
    "version": 3
   },
   "file_extension": ".py",
   "mimetype": "text/x-python",
   "name": "python",
   "nbconvert_exporter": "python",
   "pygments_lexer": "ipython3",
   "version": "3.7.12"
  },
  "papermill": {
   "default_parameters": {},
   "duration": 76.367101,
   "end_time": "2022-04-11T11:33:10.702455",
   "environment_variables": {},
   "exception": null,
   "input_path": "__notebook__.ipynb",
   "output_path": "__notebook__.ipynb",
   "parameters": {},
   "start_time": "2022-04-11T11:31:54.335354",
   "version": "2.3.3"
  }
 },
 "nbformat": 4,
 "nbformat_minor": 5
}
