{
 "cells": [
  {
   "cell_type": "markdown",
   "id": "7b698292",
   "metadata": {
    "_cell_guid": "b1076dfc-b9ad-4769-8c92-a6c4dae69d19",
    "_uuid": "8f2839f25d086af736a60e9eeb907d3b93b6e0e5",
    "papermill": {
     "duration": 0.017373,
     "end_time": "2022-03-11T10:41:47.886166",
     "exception": false,
     "start_time": "2022-03-11T10:41:47.868793",
     "status": "completed"
    },
    "tags": []
   },
   "source": [
    "# MobileNet\n",
    "- CIFAR10 dataset is used to train the pre-trained model **MobileNet**. \n",
    "- Only the labelled dataset is used in this model.\n",
    "- Fine-tuning of the model is also done, through freezing the layer, adding new layers to the model etc."
   ]
  },
  {
   "cell_type": "markdown",
   "id": "ae6ca4ee",
   "metadata": {
    "papermill": {
     "duration": 0.015928,
     "end_time": "2022-03-11T10:41:47.918899",
     "exception": false,
     "start_time": "2022-03-11T10:41:47.902971",
     "status": "completed"
    },
    "tags": []
   },
   "source": [
    "# Importing the Packages"
   ]
  },
  {
   "cell_type": "code",
   "execution_count": 1,
   "id": "13abec66",
   "metadata": {
    "execution": {
     "iopub.execute_input": "2022-03-11T10:41:47.963028Z",
     "iopub.status.busy": "2022-03-11T10:41:47.962271Z",
     "iopub.status.idle": "2022-03-11T10:41:53.913273Z",
     "shell.execute_reply": "2022-03-11T10:41:53.912659Z",
     "shell.execute_reply.started": "2022-03-11T10:39:58.871693Z"
    },
    "papermill": {
     "duration": 5.978643,
     "end_time": "2022-03-11T10:41:53.913429",
     "exception": false,
     "start_time": "2022-03-11T10:41:47.934786",
     "status": "completed"
    },
    "tags": []
   },
   "outputs": [],
   "source": [
    "import os\n",
    "import sys\n",
    "import numpy as np\n",
    "import pandas as pd\n",
    "import matplotlib.pyplot as plt\n",
    "\n",
    "from tqdm import tqdm\n",
    "from tabulate import tabulate\n",
    "from sklearn.metrics import accuracy_score, log_loss\n",
    "\n",
    "# https://www.kaggle.com/c/ventilator-pressure-prediction/discussion/274717\n",
    "os.environ['TF_CPP_MIN_LOG_LEVEL'] = '3' \n",
    "\n",
    "import tensorflow as tf\n",
    "import keras\n",
    "from tensorflow.keras import layers\n",
    "from tensorflow.keras.applications import  MobileNet"
   ]
  },
  {
   "cell_type": "code",
   "execution_count": 2,
   "id": "8b11a837",
   "metadata": {
    "execution": {
     "iopub.execute_input": "2022-03-11T10:41:55.925569Z",
     "iopub.status.busy": "2022-03-11T10:41:55.924384Z",
     "iopub.status.idle": "2022-03-11T10:41:55.929319Z",
     "shell.execute_reply": "2022-03-11T10:41:55.928921Z",
     "shell.execute_reply.started": "2022-03-11T10:39:59.844540Z"
    },
    "papermill": {
     "duration": 1.98858,
     "end_time": "2022-03-11T10:41:55.929440",
     "exception": false,
     "start_time": "2022-03-11T10:41:53.940860",
     "status": "completed"
    },
    "tags": []
   },
   "outputs": [
    {
     "name": "stdout",
     "output_type": "stream",
     "text": [
      "Found GPU at: /device:GPU:0\n"
     ]
    }
   ],
   "source": [
    "# Making sure that Tensorflow is able to detect the GPU\n",
    "device_name = tf.test.gpu_device_name()\n",
    "if \"GPU\" not in device_name:\n",
    "    print(\"GPU device not found\")\n",
    "print('Found GPU at: {}'.format(device_name))"
   ]
  },
  {
   "cell_type": "code",
   "execution_count": 3,
   "id": "11b05174",
   "metadata": {
    "execution": {
     "iopub.execute_input": "2022-03-11T10:41:55.970808Z",
     "iopub.status.busy": "2022-03-11T10:41:55.969925Z",
     "iopub.status.idle": "2022-03-11T10:41:55.972635Z",
     "shell.execute_reply": "2022-03-11T10:41:55.972173Z",
     "shell.execute_reply.started": "2022-03-11T10:40:00.353836Z"
    },
    "papermill": {
     "duration": 0.02621,
     "end_time": "2022-03-11T10:41:55.972755",
     "exception": false,
     "start_time": "2022-03-11T10:41:55.946545",
     "status": "completed"
    },
    "tags": []
   },
   "outputs": [],
   "source": [
    "# These are the usual ipython objects\n",
    "ipython_vars = ['In', 'Out', 'exit', 'quit', 'get_ipython', 'ipython_vars']\n",
    "\n",
    "# Defining a function to list the memory consumed\n",
    "# Only outputs variables taking at least 1MB space\n",
    "def list_storage(inp_dir):\n",
    "    # Get a sorted list of the objects and their sizes\n",
    "    vars_defined = [x for x in inp_dir if not x.startswith('_') and x not in sys.modules and x not in ipython_vars]\n",
    "    sto = sorted([(x, sys.getsizeof(globals().get(x))) for x in vars_defined], key=lambda x: x[1], reverse=True)\n",
    "    sto = [(x[0], str(round((x[1] / 2**20), 2)) + ' MB') for x in sto if x[1] >= 2**20]\n",
    "    print(tabulate(sto, headers = ['Variable', 'Storage (in MB)']))\n",
    "\n",
    "# In order to use this function, use the below line of code\n",
    "# list_storage(dir())"
   ]
  },
  {
   "cell_type": "code",
   "execution_count": 4,
   "id": "57b1d7aa",
   "metadata": {
    "execution": {
     "iopub.execute_input": "2022-03-11T10:41:56.011041Z",
     "iopub.status.busy": "2022-03-11T10:41:56.010433Z",
     "iopub.status.idle": "2022-03-11T10:42:23.531032Z",
     "shell.execute_reply": "2022-03-11T10:42:23.532104Z",
     "shell.execute_reply.started": "2022-03-11T10:40:00.359464Z"
    },
    "papermill": {
     "duration": 27.543171,
     "end_time": "2022-03-11T10:42:23.532350",
     "exception": false,
     "start_time": "2022-03-11T10:41:55.989179",
     "status": "completed"
    },
    "tags": []
   },
   "outputs": [],
   "source": [
    "# Importing the Labelled Dataset\n",
    "df_train = pd.read_csv(\"../input/cifar10/train_lab_x.csv\")\n",
    "y_train = pd.read_csv(\"../input/cifar10/train_lab_y.csv\")\n",
    "\n",
    "# Importing the Test Dataset\n",
    "df_test = pd.read_csv(\"../input/cifar10/test_x.csv\")\n",
    "y_test = pd.read_csv(\"../input/cifar10/test_y.csv\")"
   ]
  },
  {
   "cell_type": "markdown",
   "id": "fa613c71",
   "metadata": {
    "papermill": {
     "duration": 0.029063,
     "end_time": "2022-03-11T10:42:23.590246",
     "exception": false,
     "start_time": "2022-03-11T10:42:23.561183",
     "status": "completed"
    },
    "tags": []
   },
   "source": [
    "# Basic Pre-processing"
   ]
  },
  {
   "cell_type": "code",
   "execution_count": 5,
   "id": "2c33bbdb",
   "metadata": {
    "execution": {
     "iopub.execute_input": "2022-03-11T10:42:23.659613Z",
     "iopub.status.busy": "2022-03-11T10:42:23.658815Z",
     "iopub.status.idle": "2022-03-11T10:42:24.191570Z",
     "shell.execute_reply": "2022-03-11T10:42:24.191056Z",
     "shell.execute_reply.started": "2022-03-11T10:40:00.361445Z"
    },
    "papermill": {
     "duration": 0.574642,
     "end_time": "2022-03-11T10:42:24.191702",
     "exception": false,
     "start_time": "2022-03-11T10:42:23.617060",
     "status": "completed"
    },
    "tags": []
   },
   "outputs": [
    {
     "name": "stdout",
     "output_type": "stream",
     "text": [
      "(40006, 3072) (40006, 1)\n",
      "(40006, 3, 32, 32)\n",
      "[0]\n"
     ]
    },
    {
     "data": {
      "image/png": "[encoded data removed]",
      "text/plain": [
       "<Figure size 108x108 with 1 Axes>"
      ]
     },
     "metadata": {
      "needs_background": "light"
     },
     "output_type": "display_data"
    }
   ],
   "source": [
    "df_train = np.array(df_train)\n",
    "y_train = np.array(y_train)\n",
    "print(df_train.shape, y_train.shape)\n",
    "\n",
    "# Reshaping the dataset\n",
    "df_train = np.reshape(df_train, (-1, 3, 32, 32))\n",
    "print(df_train.shape)\n",
    "\n",
    "# Visualizing a single image\n",
    "ind = 15\n",
    "example = df_train[ind, : , : , : ]\n",
    "example = example.transpose((1, 2, 0))\n",
    "plt.figure(figsize=(1.5, 1.5))\n",
    "plt.imshow(example)\n",
    "print(y_train[ind])"
   ]
  },
  {
   "cell_type": "code",
   "execution_count": 6,
   "id": "b7e367b1",
   "metadata": {
    "execution": {
     "iopub.execute_input": "2022-03-11T10:42:24.239113Z",
     "iopub.status.busy": "2022-03-11T10:42:24.237973Z",
     "iopub.status.idle": "2022-03-11T10:42:26.873171Z",
     "shell.execute_reply": "2022-03-11T10:42:26.873603Z",
     "shell.execute_reply.started": "2022-03-11T10:40:00.363416Z"
    },
    "papermill": {
     "duration": 2.663115,
     "end_time": "2022-03-11T10:42:26.873756",
     "exception": false,
     "start_time": "2022-03-11T10:42:24.210641",
     "status": "completed"
    },
    "tags": []
   },
   "outputs": [
    {
     "name": "stdout",
     "output_type": "stream",
     "text": [
      "(40006, 32, 32, 3) (40006, 10)\n"
     ]
    }
   ],
   "source": [
    "# Creating a random permutation\n",
    "perm = np.random.permutation(df_train.shape[0])\n",
    "\n",
    "# Shuffling the training dataset\n",
    "df_train = df_train[perm, : , : , : ]\n",
    "y_train = y_train[perm]\n",
    "\n",
    "# Reshaping, rescaling and one-hot encoding\n",
    "df_train = np.transpose(np.array(df_train), (0, 2, 3, 1))\n",
    "df_train = df_train / 255\n",
    "y_train_oh = tf.one_hot(np.ravel(y_train), depth = 10)\n",
    "\n",
    "print(df_train.shape, y_train_oh.shape)"
   ]
  },
  {
   "cell_type": "code",
   "execution_count": 7,
   "id": "ce697454",
   "metadata": {
    "execution": {
     "iopub.execute_input": "2022-03-11T10:42:26.917433Z",
     "iopub.status.busy": "2022-03-11T10:42:26.916284Z",
     "iopub.status.idle": "2022-03-11T10:42:27.195793Z",
     "shell.execute_reply": "2022-03-11T10:42:27.196592Z",
     "shell.execute_reply.started": "2022-03-11T10:40:00.365295Z"
    },
    "papermill": {
     "duration": 0.305064,
     "end_time": "2022-03-11T10:42:27.196794",
     "exception": false,
     "start_time": "2022-03-11T10:42:26.891730",
     "status": "completed"
    },
    "tags": []
   },
   "outputs": [
    {
     "name": "stdout",
     "output_type": "stream",
     "text": [
      "(10000, 3072) (10000, 1)\n",
      "(10000, 3, 32, 32)\n",
      "(10000, 32, 32, 3) (10000, 10)\n"
     ]
    }
   ],
   "source": [
    "df_test = np.array(df_test)\n",
    "y_test = np.array(y_test)\n",
    "print(df_test.shape, y_test.shape)\n",
    "\n",
    "# Reshaping the dataset\n",
    "df_test = np.reshape(df_test, (-1, 3, 32, 32))\n",
    "print(df_test.shape)\n",
    "\n",
    "# Reshaping, rescaling and one-hot encoding\n",
    "df_test = np.transpose(np.array(df_test), (0, 2, 3, 1))\n",
    "df_test = df_test / 255\n",
    "y_test_oh = tf.one_hot(np.ravel(y_test), depth = 10)\n",
    "print(df_test.shape, y_test_oh.shape)"
   ]
  },
  {
   "cell_type": "markdown",
   "id": "9a0b1d0b",
   "metadata": {
    "papermill": {
     "duration": 0.018683,
     "end_time": "2022-03-11T10:42:27.235242",
     "exception": false,
     "start_time": "2022-03-11T10:42:27.216559",
     "status": "completed"
    },
    "tags": []
   },
   "source": [
    "# Creating the Model"
   ]
  },
  {
   "cell_type": "code",
   "execution_count": 8,
   "id": "675b8a92",
   "metadata": {
    "_kg_hide-output": true,
    "execution": {
     "iopub.execute_input": "2022-03-11T10:42:27.279087Z",
     "iopub.status.busy": "2022-03-11T10:42:27.278294Z",
     "iopub.status.idle": "2022-03-11T10:42:28.349486Z",
     "shell.execute_reply": "2022-03-11T10:42:28.350656Z",
     "shell.execute_reply.started": "2022-03-11T10:40:00.367119Z"
    },
    "papermill": {
     "duration": 1.09655,
     "end_time": "2022-03-11T10:42:28.350850",
     "exception": false,
     "start_time": "2022-03-11T10:42:27.254300",
     "status": "completed"
    },
    "scrolled": true,
    "tags": []
   },
   "outputs": [
    {
     "name": "stdout",
     "output_type": "stream",
     "text": [
      "Downloading data from https://storage.googleapis.com/tensorflow/keras-applications/mobilenet/mobilenet_1_0_224_tf_no_top.h5\n",
      "17227776/17225924 [==============================] - 0s 0us/step\n",
      "17235968/17225924 [==============================] - 0s 0us/step\n",
      "Model: \"mobilenet_1.00_224\"\n",
      "_________________________________________________________________\n",
      "Layer (type)                 Output Shape              Param #   \n",
      "=================================================================\n",
      "input_1 (InputLayer)         [(None, 64, 64, 3)]       0         \n",
      "_________________________________________________________________\n",
      "conv1 (Conv2D)               (None, 32, 32, 32)        864       \n",
      "_________________________________________________________________\n",
      "conv1_bn (BatchNormalization (None, 32, 32, 32)        128       \n",
      "_________________________________________________________________\n",
      "conv1_relu (ReLU)            (None, 32, 32, 32)        0         \n",
      "_________________________________________________________________\n",
      "conv_dw_1 (DepthwiseConv2D)  (None, 32, 32, 32)        288       \n",
      "_________________________________________________________________\n",
      "conv_dw_1_bn (BatchNormaliza (None, 32, 32, 32)        128       \n",
      "_________________________________________________________________\n",
      "conv_dw_1_relu (ReLU)        (None, 32, 32, 32)        0         \n",
      "_________________________________________________________________\n",
      "conv_pw_1 (Conv2D)           (None, 32, 32, 64)        2048      \n",
      "_________________________________________________________________\n",
      "conv_pw_1_bn (BatchNormaliza (None, 32, 32, 64)        256       \n",
      "_________________________________________________________________\n",
      "conv_pw_1_relu (ReLU)        (None, 32, 32, 64)        0         \n",
      "_________________________________________________________________\n",
      "conv_pad_2 (ZeroPadding2D)   (None, 33, 33, 64)        0         \n",
      "_________________________________________________________________\n",
      "conv_dw_2 (DepthwiseConv2D)  (None, 16, 16, 64)        576       \n",
      "_________________________________________________________________\n",
      "conv_dw_2_bn (BatchNormaliza (None, 16, 16, 64)        256       \n",
      "_________________________________________________________________\n",
      "conv_dw_2_relu (ReLU)        (None, 16, 16, 64)        0         \n",
      "_________________________________________________________________\n",
      "conv_pw_2 (Conv2D)           (None, 16, 16, 128)       8192      \n",
      "_________________________________________________________________\n",
      "conv_pw_2_bn (BatchNormaliza (None, 16, 16, 128)       512       \n",
      "_________________________________________________________________\n",
      "conv_pw_2_relu (ReLU)        (None, 16, 16, 128)       0         \n",
      "_________________________________________________________________\n",
      "conv_dw_3 (DepthwiseConv2D)  (None, 16, 16, 128)       1152      \n",
      "_________________________________________________________________\n",
      "conv_dw_3_bn (BatchNormaliza (None, 16, 16, 128)       512       \n",
      "_________________________________________________________________\n",
      "conv_dw_3_relu (ReLU)        (None, 16, 16, 128)       0         \n",
      "_________________________________________________________________\n",
      "conv_pw_3 (Conv2D)           (None, 16, 16, 128)       16384     \n",
      "_________________________________________________________________\n",
      "conv_pw_3_bn (BatchNormaliza (None, 16, 16, 128)       512       \n",
      "_________________________________________________________________\n",
      "conv_pw_3_relu (ReLU)        (None, 16, 16, 128)       0         \n",
      "_________________________________________________________________\n",
      "conv_pad_4 (ZeroPadding2D)   (None, 17, 17, 128)       0         \n",
      "_________________________________________________________________\n",
      "conv_dw_4 (DepthwiseConv2D)  (None, 8, 8, 128)         1152      \n",
      "_________________________________________________________________\n",
      "conv_dw_4_bn (BatchNormaliza (None, 8, 8, 128)         512       \n",
      "_________________________________________________________________\n",
      "conv_dw_4_relu (ReLU)        (None, 8, 8, 128)         0         \n",
      "_________________________________________________________________\n",
      "conv_pw_4 (Conv2D)           (None, 8, 8, 256)         32768     \n",
      "_________________________________________________________________\n",
      "conv_pw_4_bn (BatchNormaliza (None, 8, 8, 256)         1024      \n",
      "_________________________________________________________________\n",
      "conv_pw_4_relu (ReLU)        (None, 8, 8, 256)         0         \n",
      "_________________________________________________________________\n",
      "conv_dw_5 (DepthwiseConv2D)  (None, 8, 8, 256)         2304      \n",
      "_________________________________________________________________\n",
      "conv_dw_5_bn (BatchNormaliza (None, 8, 8, 256)         1024      \n",
      "_________________________________________________________________\n",
      "conv_dw_5_relu (ReLU)        (None, 8, 8, 256)         0         \n",
      "_________________________________________________________________\n",
      "conv_pw_5 (Conv2D)           (None, 8, 8, 256)         65536     \n",
      "_________________________________________________________________\n",
      "conv_pw_5_bn (BatchNormaliza (None, 8, 8, 256)         1024      \n",
      "_________________________________________________________________\n",
      "conv_pw_5_relu (ReLU)        (None, 8, 8, 256)         0         \n",
      "_________________________________________________________________\n",
      "conv_pad_6 (ZeroPadding2D)   (None, 9, 9, 256)         0         \n",
      "_________________________________________________________________\n",
      "conv_dw_6 (DepthwiseConv2D)  (None, 4, 4, 256)         2304      \n",
      "_________________________________________________________________\n",
      "conv_dw_6_bn (BatchNormaliza (None, 4, 4, 256)         1024      \n",
      "_________________________________________________________________\n",
      "conv_dw_6_relu (ReLU)        (None, 4, 4, 256)         0         \n",
      "_________________________________________________________________\n",
      "conv_pw_6 (Conv2D)           (None, 4, 4, 512)         131072    \n",
      "_________________________________________________________________\n",
      "conv_pw_6_bn (BatchNormaliza (None, 4, 4, 512)         2048      \n",
      "_________________________________________________________________\n",
      "conv_pw_6_relu (ReLU)        (None, 4, 4, 512)         0         \n",
      "_________________________________________________________________\n",
      "conv_dw_7 (DepthwiseConv2D)  (None, 4, 4, 512)         4608      \n",
      "_________________________________________________________________\n",
      "conv_dw_7_bn (BatchNormaliza (None, 4, 4, 512)         2048      \n",
      "_________________________________________________________________\n",
      "conv_dw_7_relu (ReLU)        (None, 4, 4, 512)         0         \n",
      "_________________________________________________________________\n",
      "conv_pw_7 (Conv2D)           (None, 4, 4, 512)         262144    \n",
      "_________________________________________________________________\n",
      "conv_pw_7_bn (BatchNormaliza (None, 4, 4, 512)         2048      \n",
      "_________________________________________________________________\n",
      "conv_pw_7_relu (ReLU)        (None, 4, 4, 512)         0         \n",
      "_________________________________________________________________\n",
      "conv_dw_8 (DepthwiseConv2D)  (None, 4, 4, 512)         4608      \n",
      "_________________________________________________________________\n",
      "conv_dw_8_bn (BatchNormaliza (None, 4, 4, 512)         2048      \n",
      "_________________________________________________________________\n",
      "conv_dw_8_relu (ReLU)        (None, 4, 4, 512)         0         \n",
      "_________________________________________________________________\n",
      "conv_pw_8 (Conv2D)           (None, 4, 4, 512)         262144    \n",
      "_________________________________________________________________\n",
      "conv_pw_8_bn (BatchNormaliza (None, 4, 4, 512)         2048      \n",
      "_________________________________________________________________\n",
      "conv_pw_8_relu (ReLU)        (None, 4, 4, 512)         0         \n",
      "_________________________________________________________________\n",
      "conv_dw_9 (DepthwiseConv2D)  (None, 4, 4, 512)         4608      \n",
      "_________________________________________________________________\n",
      "conv_dw_9_bn (BatchNormaliza (None, 4, 4, 512)         2048      \n",
      "_________________________________________________________________\n",
      "conv_dw_9_relu (ReLU)        (None, 4, 4, 512)         0         \n",
      "_________________________________________________________________\n",
      "conv_pw_9 (Conv2D)           (None, 4, 4, 512)         262144    \n",
      "_________________________________________________________________\n",
      "conv_pw_9_bn (BatchNormaliza (None, 4, 4, 512)         2048      \n",
      "_________________________________________________________________\n",
      "conv_pw_9_relu (ReLU)        (None, 4, 4, 512)         0         \n",
      "_________________________________________________________________\n",
      "conv_dw_10 (DepthwiseConv2D) (None, 4, 4, 512)         4608      \n",
      "_________________________________________________________________\n",
      "conv_dw_10_bn (BatchNormaliz (None, 4, 4, 512)         2048      \n",
      "_________________________________________________________________\n",
      "conv_dw_10_relu (ReLU)       (None, 4, 4, 512)         0         \n",
      "_________________________________________________________________\n",
      "conv_pw_10 (Conv2D)          (None, 4, 4, 512)         262144    \n",
      "_________________________________________________________________\n",
      "conv_pw_10_bn (BatchNormaliz (None, 4, 4, 512)         2048      \n",
      "_________________________________________________________________\n",
      "conv_pw_10_relu (ReLU)       (None, 4, 4, 512)         0         \n",
      "_________________________________________________________________\n",
      "conv_dw_11 (DepthwiseConv2D) (None, 4, 4, 512)         4608      \n",
      "_________________________________________________________________\n",
      "conv_dw_11_bn (BatchNormaliz (None, 4, 4, 512)         2048      \n",
      "_________________________________________________________________\n",
      "conv_dw_11_relu (ReLU)       (None, 4, 4, 512)         0         \n",
      "_________________________________________________________________\n",
      "conv_pw_11 (Conv2D)          (None, 4, 4, 512)         262144    \n",
      "_________________________________________________________________\n",
      "conv_pw_11_bn (BatchNormaliz (None, 4, 4, 512)         2048      \n",
      "_________________________________________________________________\n",
      "conv_pw_11_relu (ReLU)       (None, 4, 4, 512)         0         \n",
      "_________________________________________________________________\n",
      "conv_pad_12 (ZeroPadding2D)  (None, 5, 5, 512)         0         \n",
      "_________________________________________________________________\n",
      "conv_dw_12 (DepthwiseConv2D) (None, 2, 2, 512)         4608      \n",
      "_________________________________________________________________\n",
      "conv_dw_12_bn (BatchNormaliz (None, 2, 2, 512)         2048      \n",
      "_________________________________________________________________\n",
      "conv_dw_12_relu (ReLU)       (None, 2, 2, 512)         0         \n",
      "_________________________________________________________________\n",
      "conv_pw_12 (Conv2D)          (None, 2, 2, 1024)        524288    \n",
      "_________________________________________________________________\n",
      "conv_pw_12_bn (BatchNormaliz (None, 2, 2, 1024)        4096      \n",
      "_________________________________________________________________\n",
      "conv_pw_12_relu (ReLU)       (None, 2, 2, 1024)        0         \n",
      "_________________________________________________________________\n",
      "conv_dw_13 (DepthwiseConv2D) (None, 2, 2, 1024)        9216      \n",
      "_________________________________________________________________\n",
      "conv_dw_13_bn (BatchNormaliz (None, 2, 2, 1024)        4096      \n",
      "_________________________________________________________________\n",
      "conv_dw_13_relu (ReLU)       (None, 2, 2, 1024)        0         \n",
      "_________________________________________________________________\n",
      "conv_pw_13 (Conv2D)          (None, 2, 2, 1024)        1048576   \n",
      "_________________________________________________________________\n",
      "conv_pw_13_bn (BatchNormaliz (None, 2, 2, 1024)        4096      \n",
      "_________________________________________________________________\n",
      "conv_pw_13_relu (ReLU)       (None, 2, 2, 1024)        0         \n",
      "_________________________________________________________________\n",
      "global_max_pooling2d (Global (None, 1024)              0         \n",
      "=================================================================\n",
      "Total params: 3,228,864\n",
      "Trainable params: 3,206,976\n",
      "Non-trainable params: 21,888\n",
      "_________________________________________________________________\n"
     ]
    }
   ],
   "source": [
    "input_t = tf.keras.Input(shape = (64, 64, 3))\n",
    "mobilenet_model = MobileNet(weights='imagenet', include_top=False, input_tensor=input_t,\n",
    "                             pooling='max')\n",
    "mobilenet_model.summary()"
   ]
  },
  {
   "cell_type": "code",
   "execution_count": 9,
   "id": "7f8b4a2a",
   "metadata": {
    "_kg_hide-output": true,
    "execution": {
     "iopub.execute_input": "2022-03-11T10:42:28.404074Z",
     "iopub.status.busy": "2022-03-11T10:42:28.403195Z",
     "iopub.status.idle": "2022-03-11T10:42:28.450220Z",
     "shell.execute_reply": "2022-03-11T10:42:28.450887Z",
     "shell.execute_reply.started": "2022-03-11T10:40:00.369606Z"
    },
    "papermill": {
     "duration": 0.077499,
     "end_time": "2022-03-11T10:42:28.451094",
     "exception": false,
     "start_time": "2022-03-11T10:42:28.373595",
     "status": "completed"
    },
    "scrolled": true,
    "tags": []
   },
   "outputs": [
    {
     "name": "stdout",
     "output_type": "stream",
     "text": [
      "0 input_1 - True\n",
      "1 conv1 - True\n",
      "2 conv1_bn - True\n",
      "3 conv1_relu - True\n",
      "4 conv_dw_1 - True\n",
      "5 conv_dw_1_bn - True\n",
      "6 conv_dw_1_relu - True\n",
      "7 conv_pw_1 - True\n",
      "8 conv_pw_1_bn - True\n",
      "9 conv_pw_1_relu - True\n",
      "10 conv_pad_2 - True\n",
      "11 conv_dw_2 - True\n",
      "12 conv_dw_2_bn - True\n",
      "13 conv_dw_2_relu - True\n",
      "14 conv_pw_2 - True\n",
      "15 conv_pw_2_bn - True\n",
      "16 conv_pw_2_relu - True\n",
      "17 conv_dw_3 - True\n",
      "18 conv_dw_3_bn - True\n",
      "19 conv_dw_3_relu - True\n",
      "20 conv_pw_3 - True\n",
      "21 conv_pw_3_bn - True\n",
      "22 conv_pw_3_relu - True\n",
      "23 conv_pad_4 - True\n",
      "24 conv_dw_4 - True\n",
      "25 conv_dw_4_bn - True\n",
      "26 conv_dw_4_relu - True\n",
      "27 conv_pw_4 - True\n",
      "28 conv_pw_4_bn - True\n",
      "29 conv_pw_4_relu - True\n",
      "30 conv_dw_5 - True\n",
      "31 conv_dw_5_bn - True\n",
      "32 conv_dw_5_relu - True\n",
      "33 conv_pw_5 - True\n",
      "34 conv_pw_5_bn - True\n",
      "35 conv_pw_5_relu - True\n",
      "36 conv_pad_6 - True\n",
      "37 conv_dw_6 - True\n",
      "38 conv_dw_6_bn - True\n",
      "39 conv_dw_6_relu - True\n",
      "40 conv_pw_6 - True\n",
      "41 conv_pw_6_bn - True\n",
      "42 conv_pw_6_relu - True\n",
      "43 conv_dw_7 - True\n",
      "44 conv_dw_7_bn - True\n",
      "45 conv_dw_7_relu - True\n",
      "46 conv_pw_7 - True\n",
      "47 conv_pw_7_bn - True\n",
      "48 conv_pw_7_relu - True\n",
      "49 conv_dw_8 - True\n",
      "50 conv_dw_8_bn - True\n",
      "51 conv_dw_8_relu - True\n",
      "52 conv_pw_8 - True\n",
      "53 conv_pw_8_bn - True\n",
      "54 conv_pw_8_relu - True\n",
      "55 conv_dw_9 - True\n",
      "56 conv_dw_9_bn - True\n",
      "57 conv_dw_9_relu - True\n",
      "58 conv_pw_9 - True\n",
      "59 conv_pw_9_bn - True\n",
      "60 conv_pw_9_relu - True\n",
      "61 conv_dw_10 - True\n",
      "62 conv_dw_10_bn - True\n",
      "63 conv_dw_10_relu - True\n",
      "64 conv_pw_10 - True\n",
      "65 conv_pw_10_bn - True\n",
      "66 conv_pw_10_relu - True\n",
      "67 conv_dw_11 - True\n",
      "68 conv_dw_11_bn - True\n",
      "69 conv_dw_11_relu - True\n",
      "70 conv_pw_11 - True\n",
      "71 conv_pw_11_bn - True\n",
      "72 conv_pw_11_relu - True\n",
      "73 conv_pad_12 - True\n",
      "74 conv_dw_12 - True\n",
      "75 conv_dw_12_bn - True\n",
      "76 conv_dw_12_relu - True\n",
      "77 conv_pw_12 - True\n",
      "78 conv_pw_12_bn - True\n",
      "79 conv_pw_12_relu - True\n",
      "80 conv_dw_13 - True\n",
      "81 conv_dw_13_bn - True\n",
      "82 conv_dw_13_relu - True\n",
      "83 conv_pw_13 - True\n",
      "84 conv_pw_13_bn - True\n",
      "85 conv_pw_13_relu - True\n",
      "86 global_max_pooling2d - True\n"
     ]
    }
   ],
   "source": [
    "for layer in mobilenet_model.layers:\n",
    "    layer.trainable = True\n",
    "\n",
    "for i, layer in enumerate(mobilenet_model.layers):\n",
    "    print(i, layer.name, \"-\", layer.trainable)"
   ]
  },
  {
   "cell_type": "code",
   "execution_count": 10,
   "id": "1f860d04",
   "metadata": {
    "_kg_hide-output": true,
    "execution": {
     "iopub.execute_input": "2022-03-11T10:42:28.505054Z",
     "iopub.status.busy": "2022-03-11T10:42:28.504222Z",
     "iopub.status.idle": "2022-03-11T10:42:28.532583Z",
     "shell.execute_reply": "2022-03-11T10:42:28.532091Z",
     "shell.execute_reply.started": "2022-03-11T10:40:00.371469Z"
    },
    "papermill": {
     "duration": 0.058718,
     "end_time": "2022-03-11T10:42:28.532714",
     "exception": false,
     "start_time": "2022-03-11T10:42:28.473996",
     "status": "completed"
    },
    "tags": []
   },
   "outputs": [],
   "source": [
    "to_res = (64, 64)\n",
    "model = tf.keras.models.Sequential()\n",
    "model.add(layers.Lambda(lambda image: tf.image.resize(image, to_res))) \n",
    "model.add(mobilenet_model)\n",
    "model.add(layers.Flatten())\n",
    "model.add(layers.BatchNormalization())\n",
    "model.add(layers.Dense(256, activation='relu'))\n",
    "model.add(layers.Dropout(0.5))\n",
    "model.add(layers.BatchNormalization())\n",
    "model.add(layers.Dense(128, activation='relu'))\n",
    "model.add(layers.Dropout(0.5))\n",
    "model.add(layers.BatchNormalization())\n",
    "model.add(layers.Dense(64, activation='relu'))\n",
    "model.add(layers.Dropout(0.5))\n",
    "model.add(layers.BatchNormalization())\n",
    "model.add(layers.Dense(10, activation='softmax'))"
   ]
  },
  {
   "cell_type": "markdown",
   "id": "f00122a2",
   "metadata": {
    "papermill": {
     "duration": 0.02146,
     "end_time": "2022-03-11T10:42:28.579419",
     "exception": false,
     "start_time": "2022-03-11T10:42:28.557959",
     "status": "completed"
    },
    "tags": []
   },
   "source": [
    "# Compiling and Training the Model"
   ]
  },
  {
   "cell_type": "code",
   "execution_count": 11,
   "id": "45c8786c",
   "metadata": {
    "_kg_hide-output": true,
    "execution": {
     "iopub.execute_input": "2022-03-11T10:42:28.636997Z",
     "iopub.status.busy": "2022-03-11T10:42:28.635523Z",
     "iopub.status.idle": "2022-03-11T10:42:28.645564Z",
     "shell.execute_reply": "2022-03-11T10:42:28.644583Z",
     "shell.execute_reply.started": "2022-03-11T10:40:00.373362Z"
    },
    "papermill": {
     "duration": 0.042816,
     "end_time": "2022-03-11T10:42:28.645702",
     "exception": false,
     "start_time": "2022-03-11T10:42:28.602886",
     "status": "completed"
    },
    "scrolled": true,
    "tags": []
   },
   "outputs": [],
   "source": [
    "loss = 'categorical_crossentropy'\n",
    "opt = tf.keras.optimizers.Adam(learning_rate=2e-5)\n",
    "metrics = ['accuracy']\n",
    "\n",
    "model.compile(loss = loss, optimizer = opt, metrics = metrics)"
   ]
  },
  {
   "cell_type": "code",
   "execution_count": 12,
   "id": "7fb7e699",
   "metadata": {
    "_kg_hide-output": true,
    "execution": {
     "iopub.execute_input": "2022-03-11T10:42:28.698365Z",
     "iopub.status.busy": "2022-03-11T10:42:28.697407Z",
     "iopub.status.idle": "2022-03-11T10:52:47.364340Z",
     "shell.execute_reply": "2022-03-11T10:52:47.353954Z",
     "shell.execute_reply.started": "2022-03-11T10:40:00.375178Z"
    },
    "papermill": {
     "duration": 618.694776,
     "end_time": "2022-03-11T10:52:47.364519",
     "exception": false,
     "start_time": "2022-03-11T10:42:28.669743",
     "status": "completed"
    },
    "scrolled": true,
    "tags": []
   },
   "outputs": [
    {
     "name": "stdout",
     "output_type": "stream",
     "text": [
      "Epoch 1/20\n",
      "1251/1251 [==============================] - 34s 20ms/step - loss: 2.8016 - accuracy: 0.1268\n",
      "Epoch 2/20\n",
      "1251/1251 [==============================] - 25s 20ms/step - loss: 2.4559 - accuracy: 0.1821\n",
      "Epoch 3/20\n",
      "1251/1251 [==============================] - 25s 20ms/step - loss: 2.1884 - accuracy: 0.2477\n",
      "Epoch 4/20\n",
      "1251/1251 [==============================] - 25s 20ms/step - loss: 1.9484 - accuracy: 0.3167\n",
      "Epoch 5/20\n",
      "1251/1251 [==============================] - 24s 19ms/step - loss: 1.7466 - accuracy: 0.3831\n",
      "Epoch 6/20\n",
      "1251/1251 [==============================] - 24s 19ms/step - loss: 1.5772 - accuracy: 0.4482\n",
      "Epoch 7/20\n",
      "1251/1251 [==============================] - 25s 20ms/step - loss: 1.4452 - accuracy: 0.5020\n",
      "Epoch 8/20\n",
      "1251/1251 [==============================] - 25s 20ms/step - loss: 1.3395 - accuracy: 0.5452\n",
      "Epoch 9/20\n",
      "1251/1251 [==============================] - 25s 20ms/step - loss: 1.2352 - accuracy: 0.5900\n",
      "Epoch 10/20\n",
      "1251/1251 [==============================] - 25s 20ms/step - loss: 1.1440 - accuracy: 0.6319\n",
      "Epoch 11/20\n",
      "1251/1251 [==============================] - 25s 20ms/step - loss: 1.0524 - accuracy: 0.6688\n",
      "Epoch 12/20\n",
      "1251/1251 [==============================] - 25s 20ms/step - loss: 0.9710 - accuracy: 0.7006\n",
      "Epoch 13/20\n",
      "1251/1251 [==============================] - 26s 20ms/step - loss: 0.8873 - accuracy: 0.7375\n",
      "Epoch 14/20\n",
      "1251/1251 [==============================] - 25s 20ms/step - loss: 0.8118 - accuracy: 0.7658\n",
      "Epoch 15/20\n",
      "1251/1251 [==============================] - 25s 20ms/step - loss: 0.7405 - accuracy: 0.7902\n",
      "Epoch 16/20\n",
      "1251/1251 [==============================] - 25s 20ms/step - loss: 0.6768 - accuracy: 0.8113\n",
      "Epoch 17/20\n",
      "1251/1251 [==============================] - 25s 20ms/step - loss: 0.6083 - accuracy: 0.8377\n",
      "Epoch 18/20\n",
      "1251/1251 [==============================] - 26s 21ms/step - loss: 0.5483 - accuracy: 0.8549\n",
      "Epoch 19/20\n",
      "1251/1251 [==============================] - 26s 20ms/step - loss: 0.4998 - accuracy: 0.8734\n",
      "Epoch 20/20\n",
      "1251/1251 [==============================] - 25s 20ms/step - loss: 0.4508 - accuracy: 0.8884\n"
     ]
    }
   ],
   "source": [
    "train_dataset = tf.data.Dataset.from_tensor_slices((df_train, y_train_oh)).batch(32)\n",
    "history = model.fit(train_dataset,batch_size = 1000, epochs = 20)"
   ]
  },
  {
   "cell_type": "code",
   "execution_count": 13,
   "id": "1884f592",
   "metadata": {
    "execution": {
     "iopub.execute_input": "2022-03-11T10:52:53.135090Z",
     "iopub.status.busy": "2022-03-11T10:52:53.134305Z",
     "iopub.status.idle": "2022-03-11T10:52:54.514918Z",
     "shell.execute_reply": "2022-03-11T10:52:54.514018Z",
     "shell.execute_reply.started": "2022-03-11T10:40:00.376975Z"
    },
    "papermill": {
     "duration": 4.412364,
     "end_time": "2022-03-11T10:52:54.515084",
     "exception": false,
     "start_time": "2022-03-11T10:52:50.102720",
     "status": "completed"
    },
    "tags": []
   },
   "outputs": [],
   "source": [
    "model.save('mobilenet_model.h5')\n",
    "model = tf.keras.models.load_model('./mobilenet_model.h5')"
   ]
  },
  {
   "cell_type": "markdown",
   "id": "cdff956d",
   "metadata": {
    "papermill": {
     "duration": 2.72883,
     "end_time": "2022-03-11T10:52:59.980203",
     "exception": false,
     "start_time": "2022-03-11T10:52:57.251373",
     "status": "completed"
    },
    "tags": []
   },
   "source": [
    "# Predicting"
   ]
  },
  {
   "cell_type": "code",
   "execution_count": 14,
   "id": "4012ac20",
   "metadata": {
    "execution": {
     "iopub.execute_input": "2022-03-11T10:53:05.752392Z",
     "iopub.status.busy": "2022-03-11T10:53:05.751529Z",
     "iopub.status.idle": "2022-03-11T10:53:15.555371Z",
     "shell.execute_reply": "2022-03-11T10:53:15.554891Z",
     "shell.execute_reply.started": "2022-03-11T10:40:00.378803Z"
    },
    "papermill": {
     "duration": 12.579483,
     "end_time": "2022-03-11T10:53:15.555526",
     "exception": false,
     "start_time": "2022-03-11T10:53:02.976043",
     "status": "completed"
    },
    "tags": []
   },
   "outputs": [],
   "source": [
    "# Predicting on the Train/Test Datasets\n",
    "preds_train = model.predict(df_train)\n",
    "preds_test = model.predict(df_test)\n",
    "\n",
    "# Finding the Predicted Classes\n",
    "train_cls = np.argmax(preds_train, axis = 1)\n",
    "test_cls = np.argmax(preds_test, axis = 1)"
   ]
  },
  {
   "cell_type": "code",
   "execution_count": 15,
   "id": "b4402fc8",
   "metadata": {
    "execution": {
     "iopub.execute_input": "2022-03-11T10:53:20.990128Z",
     "iopub.status.busy": "2022-03-11T10:53:20.989254Z",
     "iopub.status.idle": "2022-03-11T10:53:21.060544Z",
     "shell.execute_reply": "2022-03-11T10:53:21.061236Z",
     "shell.execute_reply.started": "2022-03-11T10:40:00.380619Z"
    },
    "papermill": {
     "duration": 2.775061,
     "end_time": "2022-03-11T10:53:21.061527",
     "exception": false,
     "start_time": "2022-03-11T10:53:18.286466",
     "status": "completed"
    },
    "tags": []
   },
   "outputs": [
    {
     "name": "stdout",
     "output_type": "stream",
     "text": [
      "Accuracy for Train Dataset =  0.9381842723591461\n",
      "Accuracy for Test Dataset =  0.8501\n",
      "Log-loss for Train Dataset =  0.22363538647094988\n",
      "Log-loss for Test Dataset =  0.48847359880445873\n"
     ]
    }
   ],
   "source": [
    "print(\"Accuracy for Train Dataset = \", accuracy_score(y_train, train_cls))\n",
    "print(\"Accuracy for Test Dataset = \", accuracy_score(y_test, test_cls))\n",
    "\n",
    "print(\"Log-loss for Train Dataset = \", log_loss(y_train_oh, preds_train))\n",
    "print(\"Log-loss for Test Dataset = \", log_loss(y_test_oh, preds_test))"
   ]
  }
 ],
 "metadata": {
  "kernelspec": {
   "display_name": "Python 3",
   "language": "python",
   "name": "python3"
  },
  "language_info": {
   "codemirror_mode": {
    "name": "ipython",
    "version": 3
   },
   "file_extension": ".py",
   "mimetype": "text/x-python",
   "name": "python",
   "nbconvert_exporter": "python",
   "pygments_lexer": "ipython3",
   "version": "3.7.12"
  },
  "papermill": {
   "default_parameters": {},
   "duration": 707.280116,
   "end_time": "2022-03-11T10:53:27.301713",
   "environment_variables": {},
   "exception": null,
   "input_path": "__notebook__.ipynb",
   "output_path": "__notebook__.ipynb",
   "parameters": {},
   "start_time": "2022-03-11T10:41:40.021597",
   "version": "2.3.3"
  }
 },
 "nbformat": 4,
 "nbformat_minor": 5
}
