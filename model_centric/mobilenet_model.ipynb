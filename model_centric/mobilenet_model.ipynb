{
 "cells": [
  {
   "cell_type": "markdown",
   "id": "97e634e0",
   "metadata": {
    "_cell_guid": "b1076dfc-b9ad-4769-8c92-a6c4dae69d19",
    "_uuid": "8f2839f25d086af736a60e9eeb907d3b93b6e0e5",
    "papermill": {
     "duration": 0.014736,
     "end_time": "2022-05-10T11:34:39.857678",
     "exception": false,
     "start_time": "2022-05-10T11:34:39.842942",
     "status": "completed"
    },
    "tags": []
   },
   "source": [
    "# MobileNet\n",
    "- CIFAR10 dataset is used to train the pre-trained model **MobileNet**. \n",
    "- Only the labelled dataset is used in this model.\n",
    "- Fine-tuning of the model is also done, through freezing the layer, adding new layers to the model etc.\n",
    "- The hyper-parameter tuning regarding the **#epochs** is fixed and carried out similarly in all the kernels. We have tried **[10, 20, 30, 40, 50]** epochs, and for the final model, selected the setting (#epochs) with the largest test accuracy."
   ]
  },
  {
   "cell_type": "markdown",
   "id": "db568297",
   "metadata": {
    "papermill": {
     "duration": 0.012793,
     "end_time": "2022-05-10T11:34:39.886324",
     "exception": false,
     "start_time": "2022-05-10T11:34:39.873531",
     "status": "completed"
    },
    "tags": []
   },
   "source": [
    "# Importing the Packages"
   ]
  },
  {
   "cell_type": "code",
   "execution_count": 1,
   "id": "23927b80",
   "metadata": {
    "execution": {
     "iopub.execute_input": "2022-05-10T11:34:39.924605Z",
     "iopub.status.busy": "2022-05-10T11:34:39.923681Z",
     "iopub.status.idle": "2022-05-10T11:34:45.860371Z",
     "shell.execute_reply": "2022-05-10T11:34:45.859610Z",
     "shell.execute_reply.started": "2022-05-10T11:26:58.601492Z"
    },
    "papermill": {
     "duration": 5.96093,
     "end_time": "2022-05-10T11:34:45.860534",
     "exception": false,
     "start_time": "2022-05-10T11:34:39.899604",
     "status": "completed"
    },
    "tags": []
   },
   "outputs": [],
   "source": [
    "import os\n",
    "import sys\n",
    "import numpy as np\n",
    "import pandas as pd\n",
    "import matplotlib.pyplot as plt\n",
    "\n",
    "from tqdm import tqdm\n",
    "from tabulate import tabulate\n",
    "from sklearn.metrics import accuracy_score, log_loss, f1_score\n",
    "\n",
    "# https://www.kaggle.com/c/ventilator-pressure-prediction/discussion/274717\n",
    "os.environ['TF_CPP_MIN_LOG_LEVEL'] = '3' \n",
    "\n",
    "import tensorflow as tf\n",
    "import keras\n",
    "from tensorflow.keras import layers\n",
    "from tensorflow.keras.applications import  MobileNet"
   ]
  },
  {
   "cell_type": "code",
   "execution_count": 2,
   "id": "2444ca60",
   "metadata": {
    "execution": {
     "iopub.execute_input": "2022-05-10T11:34:47.880801Z",
     "iopub.status.busy": "2022-05-10T11:34:47.880037Z",
     "iopub.status.idle": "2022-05-10T11:34:47.884243Z",
     "shell.execute_reply": "2022-05-10T11:34:47.884950Z",
     "shell.execute_reply.started": "2022-05-10T11:27:04.316931Z"
    },
    "papermill": {
     "duration": 2.010174,
     "end_time": "2022-05-10T11:34:47.885166",
     "exception": false,
     "start_time": "2022-05-10T11:34:45.874992",
     "status": "completed"
    },
    "tags": []
   },
   "outputs": [
    {
     "name": "stdout",
     "output_type": "stream",
     "text": [
      "Found GPU at: /device:GPU:0\n"
     ]
    }
   ],
   "source": [
    "# Making sure that Tensorflow is able to detect the GPU\n",
    "device_name = tf.test.gpu_device_name()\n",
    "if \"GPU\" not in device_name:\n",
    "    print(\"GPU device not found\")\n",
    "print('Found GPU at: {}'.format(device_name))"
   ]
  },
  {
   "cell_type": "code",
   "execution_count": 3,
   "id": "fdbe3c1b",
   "metadata": {
    "execution": {
     "iopub.execute_input": "2022-05-10T11:34:47.921947Z",
     "iopub.status.busy": "2022-05-10T11:34:47.921283Z",
     "iopub.status.idle": "2022-05-10T11:34:47.924011Z",
     "shell.execute_reply": "2022-05-10T11:34:47.923559Z",
     "shell.execute_reply.started": "2022-05-10T11:27:06.427820Z"
    },
    "papermill": {
     "duration": 0.023546,
     "end_time": "2022-05-10T11:34:47.924118",
     "exception": false,
     "start_time": "2022-05-10T11:34:47.900572",
     "status": "completed"
    },
    "tags": []
   },
   "outputs": [],
   "source": [
    "# These are the usual ipython objects\n",
    "ipython_vars = ['In', 'Out', 'exit', 'quit', 'get_ipython', 'ipython_vars']\n",
    "\n",
    "# Defining a function to list the memory consumed\n",
    "# Only outputs variables taking at least 1MB space\n",
    "def list_storage(inp_dir):\n",
    "    # Get a sorted list of the objects and their sizes\n",
    "    vars_defined = [x for x in inp_dir if not x.startswith('_') and x not in sys.modules and x not in ipython_vars]\n",
    "    sto = sorted([(x, sys.getsizeof(globals().get(x))) for x in vars_defined], key=lambda x: x[1], reverse=True)\n",
    "    sto = [(x[0], str(round((x[1] / 2**20), 2)) + ' MB') for x in sto if x[1] >= 2**20]\n",
    "    print(tabulate(sto, headers = ['Variable', 'Storage (in MB)']))\n",
    "\n",
    "# In order to use this function, use the below line of code\n",
    "# list_storage(dir())"
   ]
  },
  {
   "cell_type": "code",
   "execution_count": 4,
   "id": "a8c9f340",
   "metadata": {
    "execution": {
     "iopub.execute_input": "2022-05-10T11:34:47.956545Z",
     "iopub.status.busy": "2022-05-10T11:34:47.955947Z",
     "iopub.status.idle": "2022-05-10T11:35:14.198061Z",
     "shell.execute_reply": "2022-05-10T11:35:14.197548Z",
     "shell.execute_reply.started": "2022-05-10T11:27:06.443437Z"
    },
    "papermill": {
     "duration": 26.260345,
     "end_time": "2022-05-10T11:35:14.198203",
     "exception": false,
     "start_time": "2022-05-10T11:34:47.937858",
     "status": "completed"
    },
    "tags": []
   },
   "outputs": [],
   "source": [
    "# Importing the Labelled Dataset\n",
    "df_train = pd.read_csv(\"../input/cifar10/train_lab_x.csv\")\n",
    "y_train = pd.read_csv(\"../input/cifar10/train_lab_y.csv\")\n",
    "\n",
    "# Importing the Test Dataset\n",
    "df_test = pd.read_csv(\"../input/cifar10/test_x.csv\")\n",
    "y_test = pd.read_csv(\"../input/cifar10/test_y.csv\")"
   ]
  },
  {
   "cell_type": "markdown",
   "id": "1eca5b3f",
   "metadata": {
    "papermill": {
     "duration": 0.013752,
     "end_time": "2022-05-10T11:35:14.227135",
     "exception": false,
     "start_time": "2022-05-10T11:35:14.213383",
     "status": "completed"
    },
    "tags": []
   },
   "source": [
    "# Basic Pre-processing"
   ]
  },
  {
   "cell_type": "code",
   "execution_count": 5,
   "id": "531f5d9c",
   "metadata": {
    "execution": {
     "iopub.execute_input": "2022-05-10T11:35:14.264063Z",
     "iopub.status.busy": "2022-05-10T11:35:14.262879Z",
     "iopub.status.idle": "2022-05-10T11:35:14.792440Z",
     "shell.execute_reply": "2022-05-10T11:35:14.793346Z",
     "shell.execute_reply.started": "2022-05-10T11:27:31.842069Z"
    },
    "papermill": {
     "duration": 0.551256,
     "end_time": "2022-05-10T11:35:14.793509",
     "exception": false,
     "start_time": "2022-05-10T11:35:14.242253",
     "status": "completed"
    },
    "tags": []
   },
   "outputs": [
    {
     "name": "stdout",
     "output_type": "stream",
     "text": [
      "(40006, 3072) (40006, 1)\n",
      "(40006, 3, 32, 32)\n",
      "[0]\n"
     ]
    },
    {
     "data": {
      "image/png": "[encoded data removed]",
      "text/plain": [
       "<Figure size 108x108 with 1 Axes>"
      ]
     },
     "metadata": {
      "needs_background": "light"
     },
     "output_type": "display_data"
    }
   ],
   "source": [
    "df_train = np.array(df_train)\n",
    "y_train = np.array(y_train)\n",
    "print(df_train.shape, y_train.shape)\n",
    "\n",
    "# Reshaping the dataset\n",
    "df_train = np.reshape(df_train, (-1, 3, 32, 32))\n",
    "print(df_train.shape)\n",
    "\n",
    "# Visualizing a single image\n",
    "ind = 15\n",
    "example = df_train[ind, : , : , : ]\n",
    "example = example.transpose((1, 2, 0))\n",
    "plt.figure(figsize=(1.5, 1.5))\n",
    "plt.imshow(example)\n",
    "print(y_train[ind])"
   ]
  },
  {
   "cell_type": "code",
   "execution_count": 6,
   "id": "dbf93f6d",
   "metadata": {
    "execution": {
     "iopub.execute_input": "2022-05-10T11:35:14.830346Z",
     "iopub.status.busy": "2022-05-10T11:35:14.829253Z",
     "iopub.status.idle": "2022-05-10T11:35:17.466704Z",
     "shell.execute_reply": "2022-05-10T11:35:17.467621Z",
     "shell.execute_reply.started": "2022-05-10T11:27:32.379253Z"
    },
    "papermill": {
     "duration": 2.659541,
     "end_time": "2022-05-10T11:35:17.467858",
     "exception": false,
     "start_time": "2022-05-10T11:35:14.808317",
     "status": "completed"
    },
    "tags": []
   },
   "outputs": [
    {
     "name": "stdout",
     "output_type": "stream",
     "text": [
      "(40006, 32, 32, 3) (40006, 10)\n"
     ]
    }
   ],
   "source": [
    "# Creating a random permutation\n",
    "perm = np.random.permutation(df_train.shape[0])\n",
    "\n",
    "# Shuffling the training dataset\n",
    "df_train = df_train[perm, : , : , : ]\n",
    "y_train = y_train[perm]\n",
    "\n",
    "# Reshaping, rescaling and one-hot encoding\n",
    "df_train = np.transpose(np.array(df_train), (0, 2, 3, 1))\n",
    "df_train = df_train / 255\n",
    "y_train_oh = tf.one_hot(np.ravel(y_train), depth = 10)\n",
    "\n",
    "print(df_train.shape, y_train_oh.shape)"
   ]
  },
  {
   "cell_type": "code",
   "execution_count": 7,
   "id": "1be2e7c8",
   "metadata": {
    "execution": {
     "iopub.execute_input": "2022-05-10T11:35:17.508401Z",
     "iopub.status.busy": "2022-05-10T11:35:17.507104Z",
     "iopub.status.idle": "2022-05-10T11:35:17.793188Z",
     "shell.execute_reply": "2022-05-10T11:35:17.792649Z",
     "shell.execute_reply.started": "2022-05-10T11:27:34.911756Z"
    },
    "papermill": {
     "duration": 0.309143,
     "end_time": "2022-05-10T11:35:17.793320",
     "exception": false,
     "start_time": "2022-05-10T11:35:17.484177",
     "status": "completed"
    },
    "tags": []
   },
   "outputs": [
    {
     "name": "stdout",
     "output_type": "stream",
     "text": [
      "(10000, 3072) (10000, 1)\n",
      "(10000, 3, 32, 32)\n",
      "(10000, 32, 32, 3) (10000, 10)\n"
     ]
    }
   ],
   "source": [
    "df_test = np.array(df_test)\n",
    "y_test = np.array(y_test)\n",
    "print(df_test.shape, y_test.shape)\n",
    "\n",
    "# Reshaping the dataset\n",
    "df_test = np.reshape(df_test, (-1, 3, 32, 32))\n",
    "print(df_test.shape)\n",
    "\n",
    "# Reshaping, rescaling and one-hot encoding\n",
    "df_test = np.transpose(np.array(df_test), (0, 2, 3, 1))\n",
    "df_test = df_test / 255\n",
    "y_test_oh = tf.one_hot(np.ravel(y_test), depth = 10)\n",
    "print(df_test.shape, y_test_oh.shape)"
   ]
  },
  {
   "cell_type": "markdown",
   "id": "15758352",
   "metadata": {
    "papermill": {
     "duration": 0.017829,
     "end_time": "2022-05-10T11:35:17.828913",
     "exception": false,
     "start_time": "2022-05-10T11:35:17.811084",
     "status": "completed"
    },
    "tags": []
   },
   "source": [
    "# Training & Hyperparamater-Tuning for the Model"
   ]
  },
  {
   "cell_type": "code",
   "execution_count": 8,
   "id": "ac89bd22",
   "metadata": {
    "execution": {
     "iopub.execute_input": "2022-05-10T11:35:17.869225Z",
     "iopub.status.busy": "2022-05-10T11:35:17.868630Z",
     "iopub.status.idle": "2022-05-10T11:35:17.871787Z",
     "shell.execute_reply": "2022-05-10T11:35:17.872664Z",
     "shell.execute_reply.started": "2022-05-10T11:27:35.200908Z"
    },
    "papermill": {
     "duration": 0.024923,
     "end_time": "2022-05-10T11:35:17.872833",
     "exception": false,
     "start_time": "2022-05-10T11:35:17.847910",
     "status": "completed"
    },
    "tags": []
   },
   "outputs": [],
   "source": [
    "to_res = (64, 64)"
   ]
  },
  {
   "cell_type": "code",
   "execution_count": 9,
   "id": "94c2af18",
   "metadata": {
    "_kg_hide-output": true,
    "execution": {
     "iopub.execute_input": "2022-05-10T11:35:17.929083Z",
     "iopub.status.busy": "2022-05-10T11:35:17.928348Z",
     "iopub.status.idle": "2022-05-10T11:35:19.789695Z",
     "shell.execute_reply": "2022-05-10T11:35:19.789161Z",
     "shell.execute_reply.started": "2022-05-10T11:27:35.209295Z"
    },
    "papermill": {
     "duration": 1.899551,
     "end_time": "2022-05-10T11:35:19.789842",
     "exception": false,
     "start_time": "2022-05-10T11:35:17.890291",
     "status": "completed"
    },
    "scrolled": true,
    "tags": []
   },
   "outputs": [],
   "source": [
    "# If the model has been pre-trained\n",
    "try:\n",
    "    model = tf.keras.models.load_model('../input/dcai-rw/mobilenet_model.h5')\n",
    "    \n",
    "# If the model hasn't been pre-trained\n",
    "except:\n",
    "    input_t = tf.keras.Input(shape = (64, 64, 3))\n",
    "    mobilenet_model = MobileNet(weights='imagenet', include_top=False, input_tensor=input_t,\n",
    "                                 pooling='max')\n",
    "    mobilenet_model.summary()\n",
    "    \n",
    "    for layer in mobilenet_model.layers:\n",
    "        layer.trainable = True\n",
    "    \n",
    "    for i, layer in enumerate(mobilenet_model.layers):\n",
    "        print(i, layer.name, \"-\", layer.trainable)\n",
    "        \n",
    "    model = tf.keras.models.Sequential()\n",
    "    model.add(layers.Lambda(lambda image: tf.image.resize(image, to_res))) \n",
    "    model.add(mobilenet_model)\n",
    "    model.add(layers.Flatten())\n",
    "    model.add(layers.BatchNormalization())\n",
    "    model.add(layers.Dense(256, activation='relu'))\n",
    "    model.add(layers.Dropout(0.5))\n",
    "    model.add(layers.BatchNormalization())\n",
    "    model.add(layers.Dense(128, activation='relu'))\n",
    "    model.add(layers.Dropout(0.5))\n",
    "    model.add(layers.BatchNormalization())\n",
    "    model.add(layers.Dense(64, activation='relu'))\n",
    "    model.add(layers.Dropout(0.5))\n",
    "    model.add(layers.BatchNormalization())\n",
    "    model.add(layers.Dense(10, activation='softmax'))\n",
    "    \n",
    "    #compiling model\n",
    "    loss = 'categorical_crossentropy'\n",
    "    opt = tf.keras.optimizers.Adam(learning_rate=2e-5)\n",
    "    metrics = ['accuracy']\n",
    "\n",
    "    model.compile(loss = loss, optimizer = opt, metrics = metrics)\n",
    "    model.build((None, 64, 64, 3))\n",
    "    model.summary()\n",
    "    \n",
    "    train_dataset = tf.data.Dataset.from_tensor_slices((df_train, y_train_oh)).batch(32)\n",
    "\n",
    "    num_epochs = [10, 20, 30, 40, 50]\n",
    "    train_loss, test_loss, train_acc, test_acc = [], [], [], []\n",
    "\n",
    "    for epochs in num_epochs:\n",
    "        # Training the Model\n",
    "        model.compile(optimizer='adam', loss='categorical_crossentropy', metrics='accuracy')\n",
    "        model.fit(train_dataset, epochs = epochs)\n",
    "\n",
    "        # Predicting on the Train/Test Datasets\n",
    "        preds_train = model.predict(df_train)\n",
    "        preds_test = model.predict(df_test)\n",
    "\n",
    "        # Finding the Predicted Classes\n",
    "        cls_train = np.argmax(preds_train, axis = 1)\n",
    "        cls_test = np.argmax(preds_test, axis = 1)\n",
    "\n",
    "        # Finding the Train/Test set Loss\n",
    "        train_loss.append(log_loss(y_train_oh, preds_train))\n",
    "        test_loss.append(log_loss(y_test_oh, preds_test))\n",
    "        train_acc.append(accuracy_score(y_train, cls_train))\n",
    "        test_acc.append(accuracy_score(y_test, cls_test))\n",
    "\n",
    "        print(\"For \", epochs, \" Epochs:\")\n",
    "        print(\"Log-loss for Train Dataset = \", train_loss[-1])\n",
    "        print(\"Log-loss for Test Dataset = \", test_loss[-1])\n",
    "        print(\"Accuracy for Train Dataset = \", train_acc[-1])\n",
    "        print(\"Accuracy for Test Dataset = \", test_acc[-1])\n",
    "        print()\n",
    "        \n",
    "        # Training the Model with the best hyper-parameter settings\n",
    "    ind = np.argmax(test_acc)\n",
    "    best_num_epochs = num_epochs[ind]\n",
    "    model.compile(optimizer='adam', loss='categorical_crossentropy', metrics='accuracy')\n",
    "    model.fit(train_dataset, epochs = best_num_epochs)\n",
    "    \n",
    "    model.save('mobilenet_model.h5')\n",
    "    model = tf.keras.models.load_model('./mobilenet_model.h5')"
   ]
  },
  {
   "cell_type": "markdown",
   "id": "2846bb92",
   "metadata": {
    "papermill": {
     "duration": 0.016192,
     "end_time": "2022-05-10T11:35:19.822506",
     "exception": false,
     "start_time": "2022-05-10T11:35:19.806314",
     "status": "completed"
    },
    "tags": []
   },
   "source": [
    "# Prediction and evaluation on train/test sets"
   ]
  },
  {
   "cell_type": "code",
   "execution_count": 10,
   "id": "490f3941",
   "metadata": {
    "execution": {
     "iopub.execute_input": "2022-05-10T11:35:19.858641Z",
     "iopub.status.busy": "2022-05-10T11:35:19.857735Z",
     "iopub.status.idle": "2022-05-10T11:35:35.661154Z",
     "shell.execute_reply": "2022-05-10T11:35:35.660635Z",
     "shell.execute_reply.started": "2022-05-10T11:27:36.903472Z"
    },
    "papermill": {
     "duration": 15.823476,
     "end_time": "2022-05-10T11:35:35.661295",
     "exception": false,
     "start_time": "2022-05-10T11:35:19.837819",
     "status": "completed"
    },
    "tags": []
   },
   "outputs": [],
   "source": [
    "# Predicting on the Train/Test Datasets\n",
    "preds_train = model.predict(df_train)\n",
    "preds_test = model.predict(df_test)\n",
    "\n",
    "# Finding the Predicted Classes\n",
    "train_cls = np.argmax(preds_train, axis = 1)\n",
    "test_cls = np.argmax(preds_test, axis = 1)"
   ]
  },
  {
   "cell_type": "code",
   "execution_count": 11,
   "id": "02eb83e5",
   "metadata": {
    "execution": {
     "iopub.execute_input": "2022-05-10T11:35:35.698016Z",
     "iopub.status.busy": "2022-05-10T11:35:35.697214Z",
     "iopub.status.idle": "2022-05-10T11:35:35.793590Z",
     "shell.execute_reply": "2022-05-10T11:35:35.794506Z",
     "shell.execute_reply.started": "2022-05-10T11:28:00.623767Z"
    },
    "papermill": {
     "duration": 0.117976,
     "end_time": "2022-05-10T11:35:35.794704",
     "exception": false,
     "start_time": "2022-05-10T11:35:35.676728",
     "status": "completed"
    },
    "tags": []
   },
   "outputs": [
    {
     "name": "stdout",
     "output_type": "stream",
     "text": [
      "Accuracy for Train Dataset =  0.9904764285357196\n",
      "Accuracy for Test Dataset =  0.8668\n",
      "Log-loss for Train Dataset =  0.037353113386264084\n",
      "Log-loss for Test Dataset =  1.0053337612657762\n",
      "F1 Score for Train Dataset =  0.9904878762580939\n",
      "F1 Score for Test Dataset =  0.8667049942870388\n"
     ]
    }
   ],
   "source": [
    "print(\"Accuracy for Train Dataset = \", accuracy_score(y_train, train_cls))\n",
    "print(\"Accuracy for Test Dataset = \", accuracy_score(y_test, test_cls))\n",
    "\n",
    "print(\"Log-loss for Train Dataset = \", log_loss(y_train_oh, preds_train))\n",
    "print(\"Log-loss for Test Dataset = \", log_loss(y_test_oh, preds_test))\n",
    "\n",
    "print(\"F1 Score for Train Dataset = \", f1_score(y_train, train_cls, average='weighted'))\n",
    "print(\"F1 Score for Test Dataset = \", f1_score(y_test, test_cls, average='weighted'))"
   ]
  }
 ],
 "metadata": {
  "kernelspec": {
   "display_name": "Python 3",
   "language": "python",
   "name": "python3"
  },
  "language_info": {
   "codemirror_mode": {
    "name": "ipython",
    "version": 3
   },
   "file_extension": ".py",
   "mimetype": "text/x-python",
   "name": "python",
   "nbconvert_exporter": "python",
   "pygments_lexer": "ipython3",
   "version": "3.7.12"
  },
  "papermill": {
   "default_parameters": {},
   "duration": 67.330811,
   "end_time": "2022-05-10T11:35:39.005144",
   "environment_variables": {},
   "exception": null,
   "input_path": "__notebook__.ipynb",
   "output_path": "__notebook__.ipynb",
   "parameters": {},
   "start_time": "2022-05-10T11:34:31.674333",
   "version": "2.3.3"
  }
 },
 "nbformat": 4,
 "nbformat_minor": 5
}
